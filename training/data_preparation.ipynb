{
 "cells": [
  {
   "cell_type": "markdown",
   "metadata": {},
   "source": [
    "Author: Robert Minneker\n",
    "Goal: Create small training and dev/test set from TUSZ\n",
    "Description: This script will split edf files into segments of background\n",
    "and seizure, we then will create a dataset for training \n",
    "from these edf file segments and labels\n",
    "\n",
    "Assumption: TUSZ dataset is downloaded locally"
   ]
  },
  {
   "cell_type": "code",
   "execution_count": 1,
   "metadata": {},
   "outputs": [],
   "source": [
    "import os\n",
    "import math\n",
    "import numpy as np\n",
    "import mne\n",
    "from mne.io import read_raw_edf"
   ]
  },
  {
   "cell_type": "code",
   "execution_count": 68,
   "metadata": {},
   "outputs": [],
   "source": [
    "def preprocess(raw: mne.io.edf.edf.RawEDF):\n",
    "    samp_freq = raw.info['sfreq']\n",
    "    nchannels = raw.info['nchan']\n",
    "    nyquist_freq = int(samp_freq / 2)\n",
    "    freqs = range(60, nyquist_freq, 60)\n",
    "    # Notch filter\n",
    "    notch_filtered = mne.filter.notch_filter(raw._data, samp_freq, freqs)\n",
    "    # TODO: Bandpass filter\n",
    "    # TODO: Referencing op\n",
    "    # Downsampling\n",
    "    notch_filtered = mne.io.RawArray(notch_filtered, raw.info)\n",
    "    downsampled = notch_filtered.resample(samp_freq / 2)._data\n",
    "    # Reshape to have 64 channels, to fit model\n",
    "    # TODO: Better strat than this later\n",
    "    num_samples = np.shape(downsampled)[1]\n",
    "    if (nchannels > 64):\n",
    "        # pick only the first 64\n",
    "        downsampled = downsampled[0:64]\n",
    "    else:\n",
    "        # Repeat the channels till we get 64\n",
    "        right_nchannels = np.zeros((64, num_samples))\n",
    "        num_reps = math.floor(64 / nchannels)\n",
    "        for i in range(num_reps):\n",
    "            start_ind = i * nchannels\n",
    "            end_ind = (i + 1) * nchannels\n",
    "            # Downsampled end index, for times when 64 isn't\n",
    "            # a multiple of nchannels\n",
    "            dend_ind = nchannels\n",
    "            if (end_ind > 64):\n",
    "                overflow = end_ind - 64\n",
    "                end_ind = 64\n",
    "                dend_ind = nchannels - overflow\n",
    "\n",
    "            right_nchannels[i * nchannels: (i+1) * nchannels] = downsampled[0:dend_ind]\n",
    "        downsampled = right_nchannels\n",
    "\n",
    "    # Needs another reshaping to be 64 * (multiple of 128) * 1\n",
    "    return downsampled.reshape(64, num_samples, 1)"
   ]
  },
  {
   "cell_type": "code",
   "execution_count": 3,
   "metadata": {},
   "outputs": [],
   "source": [
    "def load_edf(filename):\n",
    "    return read_raw_edf(filename, preload=True)"
   ]
  },
  {
   "cell_type": "code",
   "execution_count": 4,
   "metadata": {},
   "outputs": [],
   "source": [
    "def get_edf_length(raw: mne.io.edf.edf.RawEDF):\n",
    "    return np.shape(raw._data)[1]/raw.info['sfreq']"
   ]
  },
  {
   "cell_type": "code",
   "execution_count": 5,
   "metadata": {},
   "outputs": [],
   "source": [
    "tusz_data_path = '/Users/robert/eeg_data'\n",
    "# train_path = os.path.join(tusz_data_path, 'edf', 'train', '02_tcp_le')\n",
    "train_path = os.path.join(tusz_data_path, 'edf', 'train')\n",
    "# dev_path = os.path.join(tusz_data_path, 'edf', 'dev', '02_tcp_le')\n",
    "dev_path = os.path.join(tusz_data_path, 'edf', 'dev')\n",
    "ref_path = os.path.join(tusz_data_path, '_DOCS')\n",
    "ref_dev_file = os.path.join(ref_path, 'ref_dev.txt')\n",
    "ref_train_file = os.path.join(ref_path, 'ref_train.txt')"
   ]
  },
  {
   "cell_type": "code",
   "execution_count": 6,
   "metadata": {},
   "outputs": [
    {
     "data": {
      "text/plain": [
       "'/Users/robert/eeg_data/_DOCS/ref_train.txt'"
      ]
     },
     "execution_count": 6,
     "metadata": {},
     "output_type": "execute_result"
    }
   ],
   "source": [
    "ref_train_file"
   ]
  },
  {
   "cell_type": "code",
   "execution_count": 15,
   "metadata": {},
   "outputs": [
    {
     "name": "stdout",
     "output_type": "stream",
     "text": [
      "/Users/robert/eeg_data/edf/train/02_tcp_le/.DS_Store\n",
      "/Users/robert/eeg_data/edf/train/02_tcp_le/024/00002478/s001_2006_01_31/00002478_s001.txt\n",
      "/Users/robert/eeg_data/edf/train/02_tcp_le/024/00002478/s001_2006_01_31/00002478_s001_t004.lbl_bi\n",
      "/Users/robert/eeg_data/edf/train/02_tcp_le/024/00002478/s001_2006_01_31/00002478_s001_t003.tse_bi\n",
      "/Users/robert/eeg_data/edf/train/02_tcp_le/024/00002478/s001_2006_01_31/00002478_s001_t002.lbl_bi\n",
      "/Users/robert/eeg_data/edf/train/02_tcp_le/024/00002478/s001_2006_01_31/00002478_s001_t004.edf\n",
      "/Users/robert/eeg_data/edf/train/02_tcp_le/024/00002478/s001_2006_01_31/00002478_s001_t004.tse_bi\n",
      "/Users/robert/eeg_data/edf/train/02_tcp_le/024/00002478/s001_2006_01_31/00002478_s001_t002.edf\n",
      "/Users/robert/eeg_data/edf/train/02_tcp_le/024/00002478/s001_2006_01_31/00002478_s001_t003.edf\n",
      "/Users/robert/eeg_data/edf/train/02_tcp_le/024/00002478/s001_2006_01_31/00002478_s001_t002.tse_bi\n",
      "/Users/robert/eeg_data/edf/train/02_tcp_le/024/00002478/s001_2006_01_31/00002478_s001_t004.tse\n",
      "/Users/robert/eeg_data/edf/train/02_tcp_le/024/00002478/s001_2006_01_31/00002478_s001_t004.lbl\n",
      "/Users/robert/eeg_data/edf/train/02_tcp_le/024/00002478/s001_2006_01_31/00002478_s001_t003.lbl_bi\n",
      "/Users/robert/eeg_data/edf/train/02_tcp_le/024/00002478/s001_2006_01_31/00002478_s001_t002.tse\n",
      "/Users/robert/eeg_data/edf/train/02_tcp_le/024/00002478/s001_2006_01_31/00002478_s001_t002.lbl\n",
      "/Users/robert/eeg_data/edf/train/02_tcp_le/024/00002478/s001_2006_01_31/00002478_s001_t003.lbl\n",
      "/Users/robert/eeg_data/edf/train/02_tcp_le/024/00002478/s001_2006_01_31/00002478_s001_t003.tse\n",
      "/Users/robert/eeg_data/edf/train/02_tcp_le/024/00002448/s001_2006_01_26/00002448_s001_t001.tse_bi\n",
      "/Users/robert/eeg_data/edf/train/02_tcp_le/024/00002448/s001_2006_01_26/00002448_s001_t002.lbl_bi\n",
      "/Users/robert/eeg_data/edf/train/02_tcp_le/024/00002448/s001_2006_01_26/00002448_s001_t003.tse_bi\n",
      "/Users/robert/eeg_data/edf/train/02_tcp_le/024/00002448/s001_2006_01_26/00002448_s001_t004.lbl_bi\n",
      "/Users/robert/eeg_data/edf/train/02_tcp_le/024/00002448/s001_2006_01_26/00002448_s001_t003.lbl_bi\n",
      "/Users/robert/eeg_data/edf/train/02_tcp_le/024/00002448/s001_2006_01_26/00002448_s001_t004.tse\n",
      "/Users/robert/eeg_data/edf/train/02_tcp_le/024/00002448/s001_2006_01_26/00002448_s001_t004.lbl\n",
      "/Users/robert/eeg_data/edf/train/02_tcp_le/024/00002448/s001_2006_01_26/00002448_s001_t001.lbl_bi\n",
      "/Users/robert/eeg_data/edf/train/02_tcp_le/024/00002448/s001_2006_01_26/00002448_s001_t001.tse\n",
      "/Users/robert/eeg_data/edf/train/02_tcp_le/024/00002448/s001_2006_01_26/00002448_s001_t001.lbl\n",
      "/Users/robert/eeg_data/edf/train/02_tcp_le/024/00002448/s001_2006_01_26/00002448_s001_t002.tse_bi\n",
      "/Users/robert/eeg_data/edf/train/02_tcp_le/024/00002448/s001_2006_01_26/00002448_s001_t003.lbl\n",
      "/Users/robert/eeg_data/edf/train/02_tcp_le/024/00002448/s001_2006_01_26/00002448_s001_t003.tse\n",
      "/Users/robert/eeg_data/edf/train/02_tcp_le/024/00002448/s001_2006_01_26/00002448_s001_t002.tse\n",
      "/Users/robert/eeg_data/edf/train/02_tcp_le/024/00002448/s001_2006_01_26/00002448_s001_t002.lbl\n",
      "/Users/robert/eeg_data/edf/train/02_tcp_le/024/00002448/s001_2006_01_26/00002448_s001_t004.edf\n",
      "/Users/robert/eeg_data/edf/train/02_tcp_le/024/00002448/s001_2006_01_26/00002448_s001_t003.edf\n",
      "/Users/robert/eeg_data/edf/train/02_tcp_le/024/00002448/s001_2006_01_26/00002448_s001.txt\n",
      "/Users/robert/eeg_data/edf/train/02_tcp_le/024/00002448/s001_2006_01_26/00002448_s001_t002.edf\n",
      "/Users/robert/eeg_data/edf/train/02_tcp_le/024/00002448/s001_2006_01_26/00002448_s001_t004.tse_bi\n",
      "/Users/robert/eeg_data/edf/train/02_tcp_le/024/00002448/s001_2006_01_26/00002448_s001_t001.edf\n",
      "/Users/robert/eeg_data/edf/train/02_tcp_le/024/00002484/s002_2006_05_18/00002484_s002_t000.lbl_bi\n",
      "/Users/robert/eeg_data/edf/train/02_tcp_le/024/00002484/s002_2006_05_18/00002484_s002_t000.edf\n",
      "/Users/robert/eeg_data/edf/train/02_tcp_le/024/00002484/s002_2006_05_18/00002484_s002.txt\n",
      "/Users/robert/eeg_data/edf/train/02_tcp_le/024/00002484/s002_2006_05_18/00002484_s002_t000.lbl\n",
      "/Users/robert/eeg_data/edf/train/02_tcp_le/024/00002484/s002_2006_05_18/00002484_s002_t000.tse\n",
      "/Users/robert/eeg_data/edf/train/02_tcp_le/024/00002484/s002_2006_05_18/00002484_s002_t000.tse_bi\n",
      "/Users/robert/eeg_data/edf/train/02_tcp_le/024/00002484/s001_2006_05_18/00002484_s001_t000.edf\n",
      "/Users/robert/eeg_data/edf/train/02_tcp_le/024/00002484/s001_2006_05_18/00002484_s001_t000.lbl_bi\n",
      "/Users/robert/eeg_data/edf/train/02_tcp_le/024/00002484/s001_2006_05_18/00002484_s001_t000.lbl\n",
      "/Users/robert/eeg_data/edf/train/02_tcp_le/024/00002484/s001_2006_05_18/00002484_s001_t000.tse\n",
      "/Users/robert/eeg_data/edf/train/02_tcp_le/024/00002484/s001_2006_05_18/00002484_s001_t000.tse_bi\n",
      "/Users/robert/eeg_data/edf/train/02_tcp_le/024/00002484/s001_2006_05_18/00002484_s001.txt\n",
      "/Users/robert/eeg_data/edf/train/02_tcp_le/024/00002427/s003_2006_02_28/00002427_s003_t000.tse_bi\n",
      "/Users/robert/eeg_data/edf/train/02_tcp_le/024/00002427/s003_2006_02_28/00002427_s003.txt\n",
      "/Users/robert/eeg_data/edf/train/02_tcp_le/024/00002427/s003_2006_02_28/00002427_s003_t000.tse\n",
      "/Users/robert/eeg_data/edf/train/02_tcp_le/024/00002427/s003_2006_02_28/00002427_s003_t000.lbl\n",
      "/Users/robert/eeg_data/edf/train/02_tcp_le/024/00002427/s003_2006_02_28/00002427_s003_t000.lbl_bi\n",
      "/Users/robert/eeg_data/edf/train/02_tcp_le/024/00002427/s003_2006_02_28/00002427_s003_t000.edf\n",
      "/Users/robert/eeg_data/edf/train/02_tcp_le/024/00002489/s003_2007_03_29/00002489_s003_t000.lbl_bi\n",
      "/Users/robert/eeg_data/edf/train/02_tcp_le/024/00002489/s003_2007_03_29/00002489_s003.txt\n",
      "/Users/robert/eeg_data/edf/train/02_tcp_le/024/00002489/s003_2007_03_29/00002489_s003_t000.tse\n",
      "/Users/robert/eeg_data/edf/train/02_tcp_le/024/00002489/s003_2007_03_29/00002489_s003_t000.lbl\n",
      "/Users/robert/eeg_data/edf/train/02_tcp_le/024/00002489/s003_2007_03_29/00002489_s003_t000.tse_bi\n",
      "/Users/robert/eeg_data/edf/train/02_tcp_le/024/00002489/s003_2007_03_29/00002489_s003_t000.edf\n",
      "/Users/robert/eeg_data/edf/train/02_tcp_le/024/00002445/s002_2007_10_10/00002445_s002_t000.edf\n",
      "/Users/robert/eeg_data/edf/train/02_tcp_le/024/00002445/s002_2007_10_10/00002445_s002_t001.edf\n",
      "/Users/robert/eeg_data/edf/train/02_tcp_le/024/00002445/s002_2007_10_10/00002445_s002_t000.tse\n",
      "/Users/robert/eeg_data/edf/train/02_tcp_le/024/00002445/s002_2007_10_10/00002445_s002_t000.tse_bi\n",
      "/Users/robert/eeg_data/edf/train/02_tcp_le/024/00002445/s002_2007_10_10/00002445_s002_t000.lbl\n",
      "/Users/robert/eeg_data/edf/train/02_tcp_le/024/00002445/s002_2007_10_10/00002445_s002_t001.lbl\n",
      "/Users/robert/eeg_data/edf/train/02_tcp_le/024/00002445/s002_2007_10_10/00002445_s002_t001.tse\n",
      "/Users/robert/eeg_data/edf/train/02_tcp_le/024/00002445/s002_2007_10_10/00002445_s002_t001.lbl_bi\n",
      "/Users/robert/eeg_data/edf/train/02_tcp_le/024/00002445/s002_2007_10_10/00002445_s002.txt\n",
      "/Users/robert/eeg_data/edf/train/02_tcp_le/024/00002445/s002_2007_10_10/00002445_s002_t001.tse_bi\n",
      "/Users/robert/eeg_data/edf/train/02_tcp_le/024/00002445/s002_2007_10_10/00002445_s002_t000.lbl_bi\n",
      "/Users/robert/eeg_data/edf/train/02_tcp_le/024/00002435/s002_2006_01_20/00002435_s002_t002.edf\n",
      "/Users/robert/eeg_data/edf/train/02_tcp_le/024/00002435/s002_2006_01_20/00002435_s002_t001.edf\n",
      "/Users/robert/eeg_data/edf/train/02_tcp_le/024/00002435/s002_2006_01_20/00002435_s002_t002.tse_bi\n",
      "/Users/robert/eeg_data/edf/train/02_tcp_le/024/00002435/s002_2006_01_20/00002435_s002_t001.lbl_bi\n",
      "/Users/robert/eeg_data/edf/train/02_tcp_le/024/00002435/s002_2006_01_20/00002435_s002_t001.tse\n",
      "/Users/robert/eeg_data/edf/train/02_tcp_le/024/00002435/s002_2006_01_20/00002435_s002_t001.lbl\n",
      "/Users/robert/eeg_data/edf/train/02_tcp_le/024/00002435/s002_2006_01_20/00002435_s002_t002.tse\n",
      "/Users/robert/eeg_data/edf/train/02_tcp_le/024/00002435/s002_2006_01_20/00002435_s002_t002.lbl\n",
      "/Users/robert/eeg_data/edf/train/02_tcp_le/024/00002435/s002_2006_01_20/00002435_s002_t002.lbl_bi\n",
      "/Users/robert/eeg_data/edf/train/02_tcp_le/024/00002435/s002_2006_01_20/00002435_s002_t001.tse_bi\n",
      "/Users/robert/eeg_data/edf/train/02_tcp_le/024/00002435/s002_2006_01_20/00002435_s002.txt\n",
      "/Users/robert/eeg_data/edf/train/02_tcp_le/023/00002394/s001_2006_01_16/00002394_s001_t000.edf\n",
      "/Users/robert/eeg_data/edf/train/02_tcp_le/023/00002394/s001_2006_01_16/00002394_s001_t000.tse_bi\n",
      "/Users/robert/eeg_data/edf/train/02_tcp_le/023/00002394/s001_2006_01_16/00002394_s001_t000.lbl\n",
      "/Users/robert/eeg_data/edf/train/02_tcp_le/023/00002394/s001_2006_01_16/00002394_s001_t000.tse\n",
      "/Users/robert/eeg_data/edf/train/02_tcp_le/023/00002394/s001_2006_01_16/00002394_s001_t000.lbl_bi\n",
      "/Users/robert/eeg_data/edf/train/02_tcp_le/023/00002394/s001_2006_01_16/00002394_s001.txt\n",
      "/Users/robert/eeg_data/edf/train/02_tcp_le/015/00001548/s002_2004_04_20/00001548_s002_t000.tse_bi\n",
      "/Users/robert/eeg_data/edf/train/02_tcp_le/015/00001548/s002_2004_04_20/00001548_s002.txt\n",
      "/Users/robert/eeg_data/edf/train/02_tcp_le/015/00001548/s002_2004_04_20/00001548_s002_t000.tse\n",
      "/Users/robert/eeg_data/edf/train/02_tcp_le/015/00001548/s002_2004_04_20/00001548_s002_t000.lbl\n",
      "/Users/robert/eeg_data/edf/train/02_tcp_le/015/00001548/s002_2004_04_20/00001548_s002_t000.lbl_bi\n",
      "/Users/robert/eeg_data/edf/train/02_tcp_le/015/00001548/s002_2004_04_20/00001548_s002_t000.edf\n",
      "/Users/robert/eeg_data/edf/train/02_tcp_le/015/00001543/s001_2004_07_14/00001543_s001.txt\n",
      "/Users/robert/eeg_data/edf/train/02_tcp_le/015/00001543/s001_2004_07_14/00001543_s001_t000.tse_bi\n",
      "/Users/robert/eeg_data/edf/train/02_tcp_le/015/00001543/s001_2004_07_14/00001543_s001_t000.tse\n",
      "/Users/robert/eeg_data/edf/train/02_tcp_le/015/00001543/s001_2004_07_14/00001543_s001_t000.lbl\n"
     ]
    }
   ],
   "source": [
    "counter = 0\n",
    "for dirname, _, filenames in os.walk(train_path):\n",
    "    for filename in filenames:\n",
    "        counter += 1\n",
    "        if counter > 100:\n",
    "            break\n",
    "        print(os.path.join(dirname, filename))"
   ]
  },
  {
   "cell_type": "code",
   "execution_count": 7,
   "metadata": {},
   "outputs": [
    {
     "name": "stdout",
     "output_type": "stream",
     "text": [
      "bckg samples 6976\n",
      "seiz samples 2377\n"
     ]
    }
   ],
   "source": [
    "bckg_cnt = 0\n",
    "seiz_cnt = 0\n",
    "bckg_dict = {}\n",
    "seiz_dict = {}\n",
    "with open(ref_train_file) as f:\n",
    "    for line in f:\n",
    "        file_name, start_time, end_time, label, prob = line.split()\n",
    "        if 0.0 <= float(start_time) and float(start_time) <= 2147483647 and 0.0 <= float(end_time) and float(end_time) <= 2147483647:\n",
    "            file_name = file_name.split('.')[0]\n",
    "            if label == 'bckg':\n",
    "                bckg_cnt += 1\n",
    "                curr_times = bckg_dict.get(file_name, [])\n",
    "                curr_times.append((start_time, end_time))\n",
    "                bckg_dict.update({file_name: curr_times})\n",
    "            elif label == 'seiz':\n",
    "                seiz_cnt += 1\n",
    "                curr_times = seiz_dict.get(file_name, [])\n",
    "                curr_times.append((start_time, end_time))\n",
    "                seiz_dict.update({file_name: curr_times})\n",
    "print('bckg samples', bckg_cnt)\n",
    "print('seiz samples', seiz_cnt)"
   ]
  },
  {
   "cell_type": "code",
   "execution_count": 8,
   "metadata": {},
   "outputs": [
    {
     "name": "stdout",
     "output_type": "stream",
     "text": [
      "bckg samples 1686\n",
      "seiz samples 673\n"
     ]
    }
   ],
   "source": [
    "bckg_cnt = 0\n",
    "seiz_cnt = 0\n",
    "bckg_dev_dict = {}\n",
    "seiz_dev_dict = {}\n",
    "with open(ref_dev_file) as f:\n",
    "    for line in f:\n",
    "        file_name, start_time, end_time, label, prob = line.split()\n",
    "        if 0.0 <= float(start_time) and float(start_time) <= 2147483647 and 0.0 <= float(end_time) and float(end_time) <= 2147483647:\n",
    "            file_name = file_name.split('.')[0]\n",
    "            if label == 'bckg':\n",
    "                bckg_cnt += 1\n",
    "                curr_times = bckg_dev_dict.get(file_name, [])\n",
    "                curr_times.append((start_time, end_time))\n",
    "                bckg_dev_dict.update({file_name: curr_times})\n",
    "            elif label == 'seiz':\n",
    "                seiz_cnt += 1\n",
    "                curr_times = seiz_dev_dict.get(file_name, [])\n",
    "                curr_times.append((start_time, end_time))\n",
    "                seiz_dev_dict.update({file_name: curr_times})\n",
    "print('bckg samples', bckg_cnt)\n",
    "print('seiz samples', seiz_cnt)"
   ]
  },
  {
   "cell_type": "code",
   "execution_count": null,
   "metadata": {},
   "outputs": [],
   "source": []
  },
  {
   "cell_type": "code",
   "execution_count": 9,
   "metadata": {},
   "outputs": [],
   "source": [
    "from pathlib import Path\n",
    "import glob\n",
    "import mne\n",
    "from mne.io import read_raw_edf"
   ]
  },
  {
   "cell_type": "code",
   "execution_count": 125,
   "metadata": {},
   "outputs": [],
   "source": [
    "training_subset_dir = '/Users/robert/Desktop/School/Grad/481c/seizure-classification/training/data_subset/train'\n",
    "dev_subset_dir = '/Users/robert/Desktop/School/Grad/481c/seizure-classification/training/data_subset/dev'"
   ]
  },
  {
   "cell_type": "code",
   "execution_count": 154,
   "metadata": {},
   "outputs": [
    {
     "name": "stdout",
     "output_type": "stream",
     "text": [
      "Extracting EDF parameters from /Users/robert/eeg_data/edf/dev/03_tcp_ar_a/022/00002297/s003_2007_10_23/00002297_s003_t001.edf...\n",
      "EDF file detected\n",
      "Setting channel info structure...\n",
      "Creating raw.info structure...\n",
      "Reading 0 ... 185599  =      0.000 ...   463.998 secs...\n",
      "Writing /Users/robert/Desktop/School/Grad/481c/seizure-classification/training/data_subset/dev/00002297_s003_t001_start_0.0000_end_36.0700_type_bckg_eeg.fif\n",
      "Closing /Users/robert/Desktop/School/Grad/481c/seizure-classification/training/data_subset/dev/00002297_s003_t001_start_0.0000_end_36.0700_type_bckg_eeg.fif\n",
      "[done]\n",
      "Writing /Users/robert/Desktop/School/Grad/481c/seizure-classification/training/data_subset/dev/00002297_s003_t001_start_85.1225_end_123.9525_type_bckg_eeg.fif\n",
      "Closing /Users/robert/Desktop/School/Grad/481c/seizure-classification/training/data_subset/dev/00002297_s003_t001_start_85.1225_end_123.9525_type_bckg_eeg.fif\n",
      "[done]\n",
      "Writing /Users/robert/Desktop/School/Grad/481c/seizure-classification/training/data_subset/dev/00002297_s003_t001_start_172.0575_end_251.9850_type_bckg_eeg.fif\n",
      "Closing /Users/robert/Desktop/School/Grad/481c/seizure-classification/training/data_subset/dev/00002297_s003_t001_start_172.0575_end_251.9850_type_bckg_eeg.fif\n",
      "[done]\n",
      "Writing /Users/robert/Desktop/School/Grad/481c/seizure-classification/training/data_subset/dev/00002297_s003_t001_start_309.0100_end_328.0225_type_bckg_eeg.fif\n",
      "Closing /Users/robert/Desktop/School/Grad/481c/seizure-classification/training/data_subset/dev/00002297_s003_t001_start_309.0100_end_328.0225_type_bckg_eeg.fif\n",
      "[done]\n",
      "Writing /Users/robert/Desktop/School/Grad/481c/seizure-classification/training/data_subset/dev/00002297_s003_t001_start_343.0575_end_350.0325_type_bckg_eeg.fif\n",
      "Closing /Users/robert/Desktop/School/Grad/481c/seizure-classification/training/data_subset/dev/00002297_s003_t001_start_343.0575_end_350.0325_type_bckg_eeg.fif\n",
      "[done]\n",
      "Writing /Users/robert/Desktop/School/Grad/481c/seizure-classification/training/data_subset/dev/00002297_s003_t001_start_412.9925_end_464.0000_type_bckg_eeg.fif\n",
      "Closing /Users/robert/Desktop/School/Grad/481c/seizure-classification/training/data_subset/dev/00002297_s003_t001_start_412.9925_end_464.0000_type_bckg_eeg.fif\n",
      "[done]\n",
      "Extracting EDF parameters from /Users/robert/eeg_data/edf/dev/03_tcp_ar_a/022/00002297/s003_2007_10_23/00002297_s003_t001.edf...\n",
      "EDF file detected\n",
      "Setting channel info structure...\n",
      "Creating raw.info structure...\n",
      "Reading 0 ... 185599  =      0.000 ...   463.998 secs...\n",
      "Writing /Users/robert/Desktop/School/Grad/481c/seizure-classification/training/data_subset/dev/00002297_s003_t001_start_36.0700_end_85.1225_type_seiz_eeg.fif\n"
     ]
    },
    {
     "name": "stderr",
     "output_type": "stream",
     "text": [
      "<ipython-input-154-8c037cfb9b83>:16: RuntimeWarning: This filename (/Users/robert/Desktop/School/Grad/481c/seizure-classification/training/data_subset/dev/00002297_s003_t001_start_0.0000_end_36.0700_type_bckg_eeg.fif) does not conform to MNE naming conventions. All raw files should end with raw.fif, raw_sss.fif, raw_tsss.fif, raw.fif.gz, raw_sss.fif.gz, raw_tsss.fif.gz or _meg.fif\n",
      "  raw_data.save(new_subset_name, picks=['eeg'],\n",
      "<ipython-input-154-8c037cfb9b83>:16: RuntimeWarning: This filename (/Users/robert/Desktop/School/Grad/481c/seizure-classification/training/data_subset/dev/00002297_s003_t001_start_85.1225_end_123.9525_type_bckg_eeg.fif) does not conform to MNE naming conventions. All raw files should end with raw.fif, raw_sss.fif, raw_tsss.fif, raw.fif.gz, raw_sss.fif.gz, raw_tsss.fif.gz or _meg.fif\n",
      "  raw_data.save(new_subset_name, picks=['eeg'],\n",
      "<ipython-input-154-8c037cfb9b83>:16: RuntimeWarning: This filename (/Users/robert/Desktop/School/Grad/481c/seizure-classification/training/data_subset/dev/00002297_s003_t001_start_172.0575_end_251.9850_type_bckg_eeg.fif) does not conform to MNE naming conventions. All raw files should end with raw.fif, raw_sss.fif, raw_tsss.fif, raw.fif.gz, raw_sss.fif.gz, raw_tsss.fif.gz or _meg.fif\n",
      "  raw_data.save(new_subset_name, picks=['eeg'],\n",
      "<ipython-input-154-8c037cfb9b83>:16: RuntimeWarning: This filename (/Users/robert/Desktop/School/Grad/481c/seizure-classification/training/data_subset/dev/00002297_s003_t001_start_309.0100_end_328.0225_type_bckg_eeg.fif) does not conform to MNE naming conventions. All raw files should end with raw.fif, raw_sss.fif, raw_tsss.fif, raw.fif.gz, raw_sss.fif.gz, raw_tsss.fif.gz or _meg.fif\n",
      "  raw_data.save(new_subset_name, picks=['eeg'],\n",
      "<ipython-input-154-8c037cfb9b83>:16: RuntimeWarning: This filename (/Users/robert/Desktop/School/Grad/481c/seizure-classification/training/data_subset/dev/00002297_s003_t001_start_343.0575_end_350.0325_type_bckg_eeg.fif) does not conform to MNE naming conventions. All raw files should end with raw.fif, raw_sss.fif, raw_tsss.fif, raw.fif.gz, raw_sss.fif.gz, raw_tsss.fif.gz or _meg.fif\n",
      "  raw_data.save(new_subset_name, picks=['eeg'],\n",
      "<ipython-input-154-8c037cfb9b83>:16: RuntimeWarning: This filename (/Users/robert/Desktop/School/Grad/481c/seizure-classification/training/data_subset/dev/00002297_s003_t001_start_412.9925_end_464.0000_type_bckg_eeg.fif) does not conform to MNE naming conventions. All raw files should end with raw.fif, raw_sss.fif, raw_tsss.fif, raw.fif.gz, raw_sss.fif.gz, raw_tsss.fif.gz or _meg.fif\n",
      "  raw_data.save(new_subset_name, picks=['eeg'],\n",
      "<ipython-input-154-8c037cfb9b83>:30: RuntimeWarning: This filename (/Users/robert/Desktop/School/Grad/481c/seizure-classification/training/data_subset/dev/00002297_s003_t001_start_36.0700_end_85.1225_type_seiz_eeg.fif) does not conform to MNE naming conventions. All raw files should end with raw.fif, raw_sss.fif, raw_tsss.fif, raw.fif.gz, raw_sss.fif.gz, raw_tsss.fif.gz or _meg.fif\n",
      "  raw_data.save(new_subset_name, picks=['eeg'],\n"
     ]
    },
    {
     "name": "stdout",
     "output_type": "stream",
     "text": [
      "Closing /Users/robert/Desktop/School/Grad/481c/seizure-classification/training/data_subset/dev/00002297_s003_t001_start_36.0700_end_85.1225_type_seiz_eeg.fif\n",
      "[done]\n",
      "Writing /Users/robert/Desktop/School/Grad/481c/seizure-classification/training/data_subset/dev/00002297_s003_t001_start_123.9525_end_172.0575_type_seiz_eeg.fif\n",
      "Closing /Users/robert/Desktop/School/Grad/481c/seizure-classification/training/data_subset/dev/00002297_s003_t001_start_123.9525_end_172.0575_type_seiz_eeg.fif\n",
      "[done]\n",
      "Writing /Users/robert/Desktop/School/Grad/481c/seizure-classification/training/data_subset/dev/00002297_s003_t001_start_251.9850_end_309.0100_type_seiz_eeg.fif\n",
      "Closing /Users/robert/Desktop/School/Grad/481c/seizure-classification/training/data_subset/dev/00002297_s003_t001_start_251.9850_end_309.0100_type_seiz_eeg.fif\n",
      "[done]\n",
      "Writing /Users/robert/Desktop/School/Grad/481c/seizure-classification/training/data_subset/dev/00002297_s003_t001_start_328.0225_end_343.0575_type_seiz_eeg.fif\n",
      "Closing /Users/robert/Desktop/School/Grad/481c/seizure-classification/training/data_subset/dev/00002297_s003_t001_start_328.0225_end_343.0575_type_seiz_eeg.fif\n",
      "[done]\n",
      "Writing /Users/robert/Desktop/School/Grad/481c/seizure-classification/training/data_subset/dev/00002297_s003_t001_start_350.0325_end_412.9925_type_seiz_eeg.fif\n",
      "Closing /Users/robert/Desktop/School/Grad/481c/seizure-classification/training/data_subset/dev/00002297_s003_t001_start_350.0325_end_412.9925_type_seiz_eeg.fif\n",
      "[done]\n",
      "Extracting EDF parameters from /Users/robert/eeg_data/edf/dev/03_tcp_ar_a/022/00002297/s003_2007_10_23/00002297_s003_t000.edf...\n",
      "EDF file detected\n",
      "Setting channel info structure...\n",
      "Creating raw.info structure...\n",
      "Reading 0 ... 173999  =      0.000 ...   434.998 secs...\n",
      "Writing /Users/robert/Desktop/School/Grad/481c/seizure-classification/training/data_subset/dev/00002297_s003_t000_start_0.0000_end_1.0000_type_bckg_eeg.fif\n"
     ]
    },
    {
     "name": "stderr",
     "output_type": "stream",
     "text": [
      "<ipython-input-154-8c037cfb9b83>:30: RuntimeWarning: This filename (/Users/robert/Desktop/School/Grad/481c/seizure-classification/training/data_subset/dev/00002297_s003_t001_start_123.9525_end_172.0575_type_seiz_eeg.fif) does not conform to MNE naming conventions. All raw files should end with raw.fif, raw_sss.fif, raw_tsss.fif, raw.fif.gz, raw_sss.fif.gz, raw_tsss.fif.gz or _meg.fif\n",
      "  raw_data.save(new_subset_name, picks=['eeg'],\n",
      "<ipython-input-154-8c037cfb9b83>:30: RuntimeWarning: This filename (/Users/robert/Desktop/School/Grad/481c/seizure-classification/training/data_subset/dev/00002297_s003_t001_start_251.9850_end_309.0100_type_seiz_eeg.fif) does not conform to MNE naming conventions. All raw files should end with raw.fif, raw_sss.fif, raw_tsss.fif, raw.fif.gz, raw_sss.fif.gz, raw_tsss.fif.gz or _meg.fif\n",
      "  raw_data.save(new_subset_name, picks=['eeg'],\n",
      "<ipython-input-154-8c037cfb9b83>:30: RuntimeWarning: This filename (/Users/robert/Desktop/School/Grad/481c/seizure-classification/training/data_subset/dev/00002297_s003_t001_start_328.0225_end_343.0575_type_seiz_eeg.fif) does not conform to MNE naming conventions. All raw files should end with raw.fif, raw_sss.fif, raw_tsss.fif, raw.fif.gz, raw_sss.fif.gz, raw_tsss.fif.gz or _meg.fif\n",
      "  raw_data.save(new_subset_name, picks=['eeg'],\n",
      "<ipython-input-154-8c037cfb9b83>:30: RuntimeWarning: This filename (/Users/robert/Desktop/School/Grad/481c/seizure-classification/training/data_subset/dev/00002297_s003_t001_start_350.0325_end_412.9925_type_seiz_eeg.fif) does not conform to MNE naming conventions. All raw files should end with raw.fif, raw_sss.fif, raw_tsss.fif, raw.fif.gz, raw_sss.fif.gz, raw_tsss.fif.gz or _meg.fif\n",
      "  raw_data.save(new_subset_name, picks=['eeg'],\n",
      "<ipython-input-154-8c037cfb9b83>:16: RuntimeWarning: This filename (/Users/robert/Desktop/School/Grad/481c/seizure-classification/training/data_subset/dev/00002297_s003_t000_start_0.0000_end_1.0000_type_bckg_eeg.fif) does not conform to MNE naming conventions. All raw files should end with raw.fif, raw_sss.fif, raw_tsss.fif, raw.fif.gz, raw_sss.fif.gz, raw_tsss.fif.gz or _meg.fif\n",
      "  raw_data.save(new_subset_name, picks=['eeg'],\n"
     ]
    },
    {
     "name": "stdout",
     "output_type": "stream",
     "text": [
      "Closing /Users/robert/Desktop/School/Grad/481c/seizure-classification/training/data_subset/dev/00002297_s003_t000_start_0.0000_end_1.0000_type_bckg_eeg.fif\n",
      "[done]\n",
      "Writing /Users/robert/Desktop/School/Grad/481c/seizure-classification/training/data_subset/dev/00002297_s003_t000_start_318.9350_end_328.8650_type_bckg_eeg.fif\n",
      "Closing /Users/robert/Desktop/School/Grad/481c/seizure-classification/training/data_subset/dev/00002297_s003_t000_start_318.9350_end_328.8650_type_bckg_eeg.fif\n",
      "[done]\n",
      "Writing /Users/robert/Desktop/School/Grad/481c/seizure-classification/training/data_subset/dev/00002297_s003_t000_start_371.0975_end_378.9125_type_bckg_eeg.fif\n",
      "Closing /Users/robert/Desktop/School/Grad/481c/seizure-classification/training/data_subset/dev/00002297_s003_t000_start_371.0975_end_378.9125_type_bckg_eeg.fif\n",
      "[done]\n",
      "Writing /Users/robert/Desktop/School/Grad/481c/seizure-classification/training/data_subset/dev/00002297_s003_t000_start_422.8350_end_435.0000_type_bckg_eeg.fif\n",
      "Closing /Users/robert/Desktop/School/Grad/481c/seizure-classification/training/data_subset/dev/00002297_s003_t000_start_422.8350_end_435.0000_type_bckg_eeg.fif\n",
      "[done]\n",
      "Extracting EDF parameters from /Users/robert/eeg_data/edf/dev/03_tcp_ar_a/022/00002297/s003_2007_10_23/00002297_s003_t000.edf...\n",
      "EDF file detected\n",
      "Setting channel info structure...\n",
      "Creating raw.info structure...\n",
      "Reading 0 ... 173999  =      0.000 ...   434.998 secs...\n",
      "Writing /Users/robert/Desktop/School/Grad/481c/seizure-classification/training/data_subset/dev/00002297_s003_t000_start_1.0000_end_318.9350_type_seiz_eeg.fif\n"
     ]
    },
    {
     "name": "stderr",
     "output_type": "stream",
     "text": [
      "<ipython-input-154-8c037cfb9b83>:16: RuntimeWarning: This filename (/Users/robert/Desktop/School/Grad/481c/seizure-classification/training/data_subset/dev/00002297_s003_t000_start_318.9350_end_328.8650_type_bckg_eeg.fif) does not conform to MNE naming conventions. All raw files should end with raw.fif, raw_sss.fif, raw_tsss.fif, raw.fif.gz, raw_sss.fif.gz, raw_tsss.fif.gz or _meg.fif\n",
      "  raw_data.save(new_subset_name, picks=['eeg'],\n",
      "<ipython-input-154-8c037cfb9b83>:16: RuntimeWarning: This filename (/Users/robert/Desktop/School/Grad/481c/seizure-classification/training/data_subset/dev/00002297_s003_t000_start_371.0975_end_378.9125_type_bckg_eeg.fif) does not conform to MNE naming conventions. All raw files should end with raw.fif, raw_sss.fif, raw_tsss.fif, raw.fif.gz, raw_sss.fif.gz, raw_tsss.fif.gz or _meg.fif\n",
      "  raw_data.save(new_subset_name, picks=['eeg'],\n",
      "<ipython-input-154-8c037cfb9b83>:16: RuntimeWarning: This filename (/Users/robert/Desktop/School/Grad/481c/seizure-classification/training/data_subset/dev/00002297_s003_t000_start_422.8350_end_435.0000_type_bckg_eeg.fif) does not conform to MNE naming conventions. All raw files should end with raw.fif, raw_sss.fif, raw_tsss.fif, raw.fif.gz, raw_sss.fif.gz, raw_tsss.fif.gz or _meg.fif\n",
      "  raw_data.save(new_subset_name, picks=['eeg'],\n",
      "<ipython-input-154-8c037cfb9b83>:30: RuntimeWarning: This filename (/Users/robert/Desktop/School/Grad/481c/seizure-classification/training/data_subset/dev/00002297_s003_t000_start_1.0000_end_318.9350_type_seiz_eeg.fif) does not conform to MNE naming conventions. All raw files should end with raw.fif, raw_sss.fif, raw_tsss.fif, raw.fif.gz, raw_sss.fif.gz, raw_tsss.fif.gz or _meg.fif\n",
      "  raw_data.save(new_subset_name, picks=['eeg'],\n"
     ]
    },
    {
     "name": "stdout",
     "output_type": "stream",
     "text": [
      "Closing /Users/robert/Desktop/School/Grad/481c/seizure-classification/training/data_subset/dev/00002297_s003_t000_start_1.0000_end_318.9350_type_seiz_eeg.fif\n",
      "[done]\n",
      "Writing /Users/robert/Desktop/School/Grad/481c/seizure-classification/training/data_subset/dev/00002297_s003_t000_start_328.8650_end_371.0975_type_seiz_eeg.fif\n",
      "Closing /Users/robert/Desktop/School/Grad/481c/seizure-classification/training/data_subset/dev/00002297_s003_t000_start_328.8650_end_371.0975_type_seiz_eeg.fif\n",
      "[done]\n",
      "Writing /Users/robert/Desktop/School/Grad/481c/seizure-classification/training/data_subset/dev/00002297_s003_t000_start_378.9125_end_422.8350_type_seiz_eeg.fif\n",
      "Closing /Users/robert/Desktop/School/Grad/481c/seizure-classification/training/data_subset/dev/00002297_s003_t000_start_378.9125_end_422.8350_type_seiz_eeg.fif\n",
      "[done]\n",
      "Extracting EDF parameters from /Users/robert/eeg_data/edf/dev/03_tcp_ar_a/022/00002297/s003_2007_10_23/00002297_s003_t002.edf...\n",
      "EDF file detected\n",
      "Setting channel info structure...\n",
      "Creating raw.info structure...\n",
      "Reading 0 ... 151199  =      0.000 ...   377.998 secs...\n",
      "Writing /Users/robert/Desktop/School/Grad/481c/seizure-classification/training/data_subset/dev/00002297_s003_t002_start_0.0000_end_16.0250_type_bckg_eeg.fif\n",
      "Closing /Users/robert/Desktop/School/Grad/481c/seizure-classification/training/data_subset/dev/00002297_s003_t002_start_0.0000_end_16.0250_type_bckg_eeg.fif\n",
      "[done]\n",
      "Writing /Users/robert/Desktop/School/Grad/481c/seizure-classification/training/data_subset/dev/00002297_s003_t002_start_76.2825_end_144.0725_type_bckg_eeg.fif\n",
      "Closing /Users/robert/Desktop/School/Grad/481c/seizure-classification/training/data_subset/dev/00002297_s003_t002_start_76.2825_end_144.0725_type_bckg_eeg.fif\n",
      "[done]\n",
      "Writing /Users/robert/Desktop/School/Grad/481c/seizure-classification/training/data_subset/dev/00002297_s003_t002_start_208.0675_end_215.0475_type_bckg_eeg.fif\n",
      "Closing /Users/robert/Desktop/School/Grad/481c/seizure-classification/training/data_subset/dev/00002297_s003_t002_start_208.0675_end_215.0475_type_bckg_eeg.fif\n",
      "[done]\n",
      "Writing /Users/robert/Desktop/School/Grad/481c/seizure-classification/training/data_subset/dev/00002297_s003_t002_start_306.7425_end_378.0000_type_bckg_eeg.fif\n"
     ]
    },
    {
     "name": "stderr",
     "output_type": "stream",
     "text": [
      "<ipython-input-154-8c037cfb9b83>:30: RuntimeWarning: This filename (/Users/robert/Desktop/School/Grad/481c/seizure-classification/training/data_subset/dev/00002297_s003_t000_start_328.8650_end_371.0975_type_seiz_eeg.fif) does not conform to MNE naming conventions. All raw files should end with raw.fif, raw_sss.fif, raw_tsss.fif, raw.fif.gz, raw_sss.fif.gz, raw_tsss.fif.gz or _meg.fif\n",
      "  raw_data.save(new_subset_name, picks=['eeg'],\n",
      "<ipython-input-154-8c037cfb9b83>:30: RuntimeWarning: This filename (/Users/robert/Desktop/School/Grad/481c/seizure-classification/training/data_subset/dev/00002297_s003_t000_start_378.9125_end_422.8350_type_seiz_eeg.fif) does not conform to MNE naming conventions. All raw files should end with raw.fif, raw_sss.fif, raw_tsss.fif, raw.fif.gz, raw_sss.fif.gz, raw_tsss.fif.gz or _meg.fif\n",
      "  raw_data.save(new_subset_name, picks=['eeg'],\n",
      "<ipython-input-154-8c037cfb9b83>:16: RuntimeWarning: This filename (/Users/robert/Desktop/School/Grad/481c/seizure-classification/training/data_subset/dev/00002297_s003_t002_start_0.0000_end_16.0250_type_bckg_eeg.fif) does not conform to MNE naming conventions. All raw files should end with raw.fif, raw_sss.fif, raw_tsss.fif, raw.fif.gz, raw_sss.fif.gz, raw_tsss.fif.gz or _meg.fif\n",
      "  raw_data.save(new_subset_name, picks=['eeg'],\n",
      "<ipython-input-154-8c037cfb9b83>:16: RuntimeWarning: This filename (/Users/robert/Desktop/School/Grad/481c/seizure-classification/training/data_subset/dev/00002297_s003_t002_start_76.2825_end_144.0725_type_bckg_eeg.fif) does not conform to MNE naming conventions. All raw files should end with raw.fif, raw_sss.fif, raw_tsss.fif, raw.fif.gz, raw_sss.fif.gz, raw_tsss.fif.gz or _meg.fif\n",
      "  raw_data.save(new_subset_name, picks=['eeg'],\n",
      "<ipython-input-154-8c037cfb9b83>:16: RuntimeWarning: This filename (/Users/robert/Desktop/School/Grad/481c/seizure-classification/training/data_subset/dev/00002297_s003_t002_start_208.0675_end_215.0475_type_bckg_eeg.fif) does not conform to MNE naming conventions. All raw files should end with raw.fif, raw_sss.fif, raw_tsss.fif, raw.fif.gz, raw_sss.fif.gz, raw_tsss.fif.gz or _meg.fif\n",
      "  raw_data.save(new_subset_name, picks=['eeg'],\n",
      "<ipython-input-154-8c037cfb9b83>:16: RuntimeWarning: This filename (/Users/robert/Desktop/School/Grad/481c/seizure-classification/training/data_subset/dev/00002297_s003_t002_start_306.7425_end_378.0000_type_bckg_eeg.fif) does not conform to MNE naming conventions. All raw files should end with raw.fif, raw_sss.fif, raw_tsss.fif, raw.fif.gz, raw_sss.fif.gz, raw_tsss.fif.gz or _meg.fif\n",
      "  raw_data.save(new_subset_name, picks=['eeg'],\n"
     ]
    },
    {
     "name": "stdout",
     "output_type": "stream",
     "text": [
      "Closing /Users/robert/Desktop/School/Grad/481c/seizure-classification/training/data_subset/dev/00002297_s003_t002_start_306.7425_end_378.0000_type_bckg_eeg.fif\n",
      "[done]\n",
      "Extracting EDF parameters from /Users/robert/eeg_data/edf/dev/03_tcp_ar_a/022/00002297/s003_2007_10_23/00002297_s003_t002.edf...\n",
      "EDF file detected\n",
      "Setting channel info structure...\n",
      "Creating raw.info structure...\n",
      "Reading 0 ... 151199  =      0.000 ...   377.998 secs...\n",
      "Writing /Users/robert/Desktop/School/Grad/481c/seizure-classification/training/data_subset/dev/00002297_s003_t002_start_16.0250_end_76.2825_type_seiz_eeg.fif\n",
      "Closing /Users/robert/Desktop/School/Grad/481c/seizure-classification/training/data_subset/dev/00002297_s003_t002_start_16.0250_end_76.2825_type_seiz_eeg.fif\n",
      "[done]\n",
      "Writing /Users/robert/Desktop/School/Grad/481c/seizure-classification/training/data_subset/dev/00002297_s003_t002_start_144.0725_end_208.0675_type_seiz_eeg.fif\n",
      "Closing /Users/robert/Desktop/School/Grad/481c/seizure-classification/training/data_subset/dev/00002297_s003_t002_start_144.0725_end_208.0675_type_seiz_eeg.fif\n",
      "[done]\n",
      "Writing /Users/robert/Desktop/School/Grad/481c/seizure-classification/training/data_subset/dev/00002297_s003_t002_start_215.0475_end_306.7425_type_seiz_eeg.fif\n",
      "Closing /Users/robert/Desktop/School/Grad/481c/seizure-classification/training/data_subset/dev/00002297_s003_t002_start_215.0475_end_306.7425_type_seiz_eeg.fif\n",
      "[done]\n",
      "Extracting EDF parameters from /Users/robert/eeg_data/edf/dev/03_tcp_ar_a/022/00002297/s003_2007_10_23/00002297_s003_t003.edf...\n",
      "EDF file detected\n",
      "Setting channel info structure...\n",
      "Creating raw.info structure...\n",
      "Reading 0 ... 49199  =      0.000 ...   122.998 secs...\n",
      "Writing /Users/robert/Desktop/School/Grad/481c/seizure-classification/training/data_subset/dev/00002297_s003_t003_start_0.0000_end_3.9975_type_bckg_eeg.fif\n",
      "Closing /Users/robert/Desktop/School/Grad/481c/seizure-classification/training/data_subset/dev/00002297_s003_t003_start_0.0000_end_3.9975_type_bckg_eeg.fif\n",
      "[done]\n",
      "Writing /Users/robert/Desktop/School/Grad/481c/seizure-classification/training/data_subset/dev/00002297_s003_t003_start_102.8975_end_123.0000_type_bckg_eeg.fif\n"
     ]
    },
    {
     "name": "stderr",
     "output_type": "stream",
     "text": [
      "<ipython-input-154-8c037cfb9b83>:30: RuntimeWarning: This filename (/Users/robert/Desktop/School/Grad/481c/seizure-classification/training/data_subset/dev/00002297_s003_t002_start_16.0250_end_76.2825_type_seiz_eeg.fif) does not conform to MNE naming conventions. All raw files should end with raw.fif, raw_sss.fif, raw_tsss.fif, raw.fif.gz, raw_sss.fif.gz, raw_tsss.fif.gz or _meg.fif\n",
      "  raw_data.save(new_subset_name, picks=['eeg'],\n",
      "<ipython-input-154-8c037cfb9b83>:30: RuntimeWarning: This filename (/Users/robert/Desktop/School/Grad/481c/seizure-classification/training/data_subset/dev/00002297_s003_t002_start_144.0725_end_208.0675_type_seiz_eeg.fif) does not conform to MNE naming conventions. All raw files should end with raw.fif, raw_sss.fif, raw_tsss.fif, raw.fif.gz, raw_sss.fif.gz, raw_tsss.fif.gz or _meg.fif\n",
      "  raw_data.save(new_subset_name, picks=['eeg'],\n",
      "<ipython-input-154-8c037cfb9b83>:30: RuntimeWarning: This filename (/Users/robert/Desktop/School/Grad/481c/seizure-classification/training/data_subset/dev/00002297_s003_t002_start_215.0475_end_306.7425_type_seiz_eeg.fif) does not conform to MNE naming conventions. All raw files should end with raw.fif, raw_sss.fif, raw_tsss.fif, raw.fif.gz, raw_sss.fif.gz, raw_tsss.fif.gz or _meg.fif\n",
      "  raw_data.save(new_subset_name, picks=['eeg'],\n",
      "<ipython-input-154-8c037cfb9b83>:16: RuntimeWarning: This filename (/Users/robert/Desktop/School/Grad/481c/seizure-classification/training/data_subset/dev/00002297_s003_t003_start_0.0000_end_3.9975_type_bckg_eeg.fif) does not conform to MNE naming conventions. All raw files should end with raw.fif, raw_sss.fif, raw_tsss.fif, raw.fif.gz, raw_sss.fif.gz, raw_tsss.fif.gz or _meg.fif\n",
      "  raw_data.save(new_subset_name, picks=['eeg'],\n",
      "<ipython-input-154-8c037cfb9b83>:16: RuntimeWarning: This filename (/Users/robert/Desktop/School/Grad/481c/seizure-classification/training/data_subset/dev/00002297_s003_t003_start_102.8975_end_123.0000_type_bckg_eeg.fif) does not conform to MNE naming conventions. All raw files should end with raw.fif, raw_sss.fif, raw_tsss.fif, raw.fif.gz, raw_sss.fif.gz, raw_tsss.fif.gz or _meg.fif\n",
      "  raw_data.save(new_subset_name, picks=['eeg'],\n"
     ]
    },
    {
     "name": "stdout",
     "output_type": "stream",
     "text": [
      "Closing /Users/robert/Desktop/School/Grad/481c/seizure-classification/training/data_subset/dev/00002297_s003_t003_start_102.8975_end_123.0000_type_bckg_eeg.fif\n",
      "[done]\n",
      "Extracting EDF parameters from /Users/robert/eeg_data/edf/dev/03_tcp_ar_a/022/00002297/s003_2007_10_23/00002297_s003_t003.edf...\n",
      "EDF file detected\n",
      "Setting channel info structure...\n",
      "Creating raw.info structure...\n",
      "Reading 0 ... 49199  =      0.000 ...   122.998 secs...\n",
      "Writing /Users/robert/Desktop/School/Grad/481c/seizure-classification/training/data_subset/dev/00002297_s003_t003_start_3.9975_end_102.8975_type_seiz_eeg.fif\n",
      "Closing /Users/robert/Desktop/School/Grad/481c/seizure-classification/training/data_subset/dev/00002297_s003_t003_start_3.9975_end_102.8975_type_seiz_eeg.fif\n",
      "[done]\n",
      "Extracting EDF parameters from /Users/robert/eeg_data/edf/dev/03_tcp_ar_a/022/00002297/s004_2007_10_23/00002297_s004_t001.edf...\n",
      "EDF file detected\n",
      "Setting channel info structure...\n",
      "Creating raw.info structure...\n",
      "Reading 0 ... 83599  =      0.000 ...   208.998 secs...\n",
      "Writing /Users/robert/Desktop/School/Grad/481c/seizure-classification/training/data_subset/dev/00002297_s004_t001_start_0.0000_end_7.9825_type_bckg_eeg.fif\n",
      "Closing /Users/robert/Desktop/School/Grad/481c/seizure-classification/training/data_subset/dev/00002297_s004_t001_start_0.0000_end_7.9825_type_bckg_eeg.fif\n",
      "[done]\n",
      "Writing /Users/robert/Desktop/School/Grad/481c/seizure-classification/training/data_subset/dev/00002297_s004_t001_start_88.0500_end_92.5575_type_bckg_eeg.fif\n",
      "Closing /Users/robert/Desktop/School/Grad/481c/seizure-classification/training/data_subset/dev/00002297_s004_t001_start_88.0500_end_92.5575_type_bckg_eeg.fif\n",
      "[done]\n",
      "Writing /Users/robert/Desktop/School/Grad/481c/seizure-classification/training/data_subset/dev/00002297_s004_t001_start_180.0050_end_209.0000_type_bckg_eeg.fif\n",
      "Closing /Users/robert/Desktop/School/Grad/481c/seizure-classification/training/data_subset/dev/00002297_s004_t001_start_180.0050_end_209.0000_type_bckg_eeg.fif\n",
      "[done]\n",
      "Extracting EDF parameters from /Users/robert/eeg_data/edf/dev/03_tcp_ar_a/022/00002297/s004_2007_10_23/00002297_s004_t001.edf...\n",
      "EDF file detected\n",
      "Setting channel info structure...\n",
      "Creating raw.info structure...\n",
      "Reading 0 ... 83599  =      0.000 ...   208.998 secs...\n",
      "Writing /Users/robert/Desktop/School/Grad/481c/seizure-classification/training/data_subset/dev/00002297_s004_t001_start_7.9825_end_88.0500_type_seiz_eeg.fif\n"
     ]
    },
    {
     "name": "stderr",
     "output_type": "stream",
     "text": [
      "<ipython-input-154-8c037cfb9b83>:30: RuntimeWarning: This filename (/Users/robert/Desktop/School/Grad/481c/seizure-classification/training/data_subset/dev/00002297_s003_t003_start_3.9975_end_102.8975_type_seiz_eeg.fif) does not conform to MNE naming conventions. All raw files should end with raw.fif, raw_sss.fif, raw_tsss.fif, raw.fif.gz, raw_sss.fif.gz, raw_tsss.fif.gz or _meg.fif\n",
      "  raw_data.save(new_subset_name, picks=['eeg'],\n",
      "<ipython-input-154-8c037cfb9b83>:16: RuntimeWarning: This filename (/Users/robert/Desktop/School/Grad/481c/seizure-classification/training/data_subset/dev/00002297_s004_t001_start_0.0000_end_7.9825_type_bckg_eeg.fif) does not conform to MNE naming conventions. All raw files should end with raw.fif, raw_sss.fif, raw_tsss.fif, raw.fif.gz, raw_sss.fif.gz, raw_tsss.fif.gz or _meg.fif\n",
      "  raw_data.save(new_subset_name, picks=['eeg'],\n",
      "<ipython-input-154-8c037cfb9b83>:16: RuntimeWarning: This filename (/Users/robert/Desktop/School/Grad/481c/seizure-classification/training/data_subset/dev/00002297_s004_t001_start_88.0500_end_92.5575_type_bckg_eeg.fif) does not conform to MNE naming conventions. All raw files should end with raw.fif, raw_sss.fif, raw_tsss.fif, raw.fif.gz, raw_sss.fif.gz, raw_tsss.fif.gz or _meg.fif\n",
      "  raw_data.save(new_subset_name, picks=['eeg'],\n",
      "<ipython-input-154-8c037cfb9b83>:16: RuntimeWarning: This filename (/Users/robert/Desktop/School/Grad/481c/seizure-classification/training/data_subset/dev/00002297_s004_t001_start_180.0050_end_209.0000_type_bckg_eeg.fif) does not conform to MNE naming conventions. All raw files should end with raw.fif, raw_sss.fif, raw_tsss.fif, raw.fif.gz, raw_sss.fif.gz, raw_tsss.fif.gz or _meg.fif\n",
      "  raw_data.save(new_subset_name, picks=['eeg'],\n",
      "<ipython-input-154-8c037cfb9b83>:30: RuntimeWarning: This filename (/Users/robert/Desktop/School/Grad/481c/seizure-classification/training/data_subset/dev/00002297_s004_t001_start_7.9825_end_88.0500_type_seiz_eeg.fif) does not conform to MNE naming conventions. All raw files should end with raw.fif, raw_sss.fif, raw_tsss.fif, raw.fif.gz, raw_sss.fif.gz, raw_tsss.fif.gz or _meg.fif\n",
      "  raw_data.save(new_subset_name, picks=['eeg'],\n"
     ]
    },
    {
     "name": "stdout",
     "output_type": "stream",
     "text": [
      "Closing /Users/robert/Desktop/School/Grad/481c/seizure-classification/training/data_subset/dev/00002297_s004_t001_start_7.9825_end_88.0500_type_seiz_eeg.fif\n",
      "[done]\n",
      "Writing /Users/robert/Desktop/School/Grad/481c/seizure-classification/training/data_subset/dev/00002297_s004_t001_start_92.5575_end_180.0050_type_seiz_eeg.fif\n",
      "Closing /Users/robert/Desktop/School/Grad/481c/seizure-classification/training/data_subset/dev/00002297_s004_t001_start_92.5575_end_180.0050_type_seiz_eeg.fif\n",
      "[done]\n",
      "Extracting EDF parameters from /Users/robert/eeg_data/edf/dev/03_tcp_ar_a/022/00002297/s004_2007_10_23/00002297_s004_t000.edf...\n",
      "EDF file detected\n",
      "Setting channel info structure...\n",
      "Creating raw.info structure...\n",
      "Reading 0 ... 131199  =      0.000 ...   327.998 secs...\n",
      "Writing /Users/robert/Desktop/School/Grad/481c/seizure-classification/training/data_subset/dev/00002297_s004_t000_start_0.0000_end_137.0525_type_bckg_eeg.fif\n",
      "Closing /Users/robert/Desktop/School/Grad/481c/seizure-classification/training/data_subset/dev/00002297_s004_t000_start_0.0000_end_137.0525_type_bckg_eeg.fif\n",
      "[done]\n",
      "Writing /Users/robert/Desktop/School/Grad/481c/seizure-classification/training/data_subset/dev/00002297_s004_t000_start_236.5775_end_239.8250_type_bckg_eeg.fif\n",
      "Closing /Users/robert/Desktop/School/Grad/481c/seizure-classification/training/data_subset/dev/00002297_s004_t000_start_236.5775_end_239.8250_type_bckg_eeg.fif\n",
      "[done]\n",
      "Writing /Users/robert/Desktop/School/Grad/481c/seizure-classification/training/data_subset/dev/00002297_s004_t000_start_302.0275_end_328.0000_type_bckg_eeg.fif\n",
      "Closing /Users/robert/Desktop/School/Grad/481c/seizure-classification/training/data_subset/dev/00002297_s004_t000_start_302.0275_end_328.0000_type_bckg_eeg.fif\n",
      "[done]\n",
      "Extracting EDF parameters from /Users/robert/eeg_data/edf/dev/03_tcp_ar_a/022/00002297/s004_2007_10_23/00002297_s004_t000.edf...\n",
      "EDF file detected\n"
     ]
    },
    {
     "name": "stderr",
     "output_type": "stream",
     "text": [
      "<ipython-input-154-8c037cfb9b83>:30: RuntimeWarning: This filename (/Users/robert/Desktop/School/Grad/481c/seizure-classification/training/data_subset/dev/00002297_s004_t001_start_92.5575_end_180.0050_type_seiz_eeg.fif) does not conform to MNE naming conventions. All raw files should end with raw.fif, raw_sss.fif, raw_tsss.fif, raw.fif.gz, raw_sss.fif.gz, raw_tsss.fif.gz or _meg.fif\n",
      "  raw_data.save(new_subset_name, picks=['eeg'],\n",
      "<ipython-input-154-8c037cfb9b83>:16: RuntimeWarning: This filename (/Users/robert/Desktop/School/Grad/481c/seizure-classification/training/data_subset/dev/00002297_s004_t000_start_0.0000_end_137.0525_type_bckg_eeg.fif) does not conform to MNE naming conventions. All raw files should end with raw.fif, raw_sss.fif, raw_tsss.fif, raw.fif.gz, raw_sss.fif.gz, raw_tsss.fif.gz or _meg.fif\n",
      "  raw_data.save(new_subset_name, picks=['eeg'],\n",
      "<ipython-input-154-8c037cfb9b83>:16: RuntimeWarning: This filename (/Users/robert/Desktop/School/Grad/481c/seizure-classification/training/data_subset/dev/00002297_s004_t000_start_236.5775_end_239.8250_type_bckg_eeg.fif) does not conform to MNE naming conventions. All raw files should end with raw.fif, raw_sss.fif, raw_tsss.fif, raw.fif.gz, raw_sss.fif.gz, raw_tsss.fif.gz or _meg.fif\n",
      "  raw_data.save(new_subset_name, picks=['eeg'],\n",
      "<ipython-input-154-8c037cfb9b83>:16: RuntimeWarning: This filename (/Users/robert/Desktop/School/Grad/481c/seizure-classification/training/data_subset/dev/00002297_s004_t000_start_302.0275_end_328.0000_type_bckg_eeg.fif) does not conform to MNE naming conventions. All raw files should end with raw.fif, raw_sss.fif, raw_tsss.fif, raw.fif.gz, raw_sss.fif.gz, raw_tsss.fif.gz or _meg.fif\n",
      "  raw_data.save(new_subset_name, picks=['eeg'],\n"
     ]
    },
    {
     "name": "stdout",
     "output_type": "stream",
     "text": [
      "Setting channel info structure...\n",
      "Creating raw.info structure...\n",
      "Reading 0 ... 131199  =      0.000 ...   327.998 secs...\n",
      "Writing /Users/robert/Desktop/School/Grad/481c/seizure-classification/training/data_subset/dev/00002297_s004_t000_start_137.0525_end_236.5775_type_seiz_eeg.fif\n",
      "Closing /Users/robert/Desktop/School/Grad/481c/seizure-classification/training/data_subset/dev/00002297_s004_t000_start_137.0525_end_236.5775_type_seiz_eeg.fif\n",
      "[done]\n",
      "Writing /Users/robert/Desktop/School/Grad/481c/seizure-classification/training/data_subset/dev/00002297_s004_t000_start_239.8250_end_302.0275_type_seiz_eeg.fif\n",
      "Closing /Users/robert/Desktop/School/Grad/481c/seizure-classification/training/data_subset/dev/00002297_s004_t000_start_239.8250_end_302.0275_type_seiz_eeg.fif\n",
      "[done]\n",
      "Extracting EDF parameters from /Users/robert/eeg_data/edf/dev/03_tcp_ar_a/040/00004087/s003_2007_07_24/00004087_s003_t004.edf...\n",
      "EDF file detected\n",
      "Setting channel info structure...\n",
      "Creating raw.info structure...\n",
      "Reading 0 ... 125999  =      0.000 ...   314.998 secs...\n",
      "Writing /Users/robert/Desktop/School/Grad/481c/seizure-classification/training/data_subset/dev/00004087_s003_t004_start_0.0000_end_10.0050_type_bckg_eeg.fif\n",
      "Closing /Users/robert/Desktop/School/Grad/481c/seizure-classification/training/data_subset/dev/00004087_s003_t004_start_0.0000_end_10.0050_type_bckg_eeg.fif\n",
      "[done]\n",
      "Writing /Users/robert/Desktop/School/Grad/481c/seizure-classification/training/data_subset/dev/00004087_s003_t004_start_111.1025_end_315.0000_type_bckg_eeg.fif\n",
      "Closing /Users/robert/Desktop/School/Grad/481c/seizure-classification/training/data_subset/dev/00004087_s003_t004_start_111.1025_end_315.0000_type_bckg_eeg.fif\n",
      "[done]\n",
      "Extracting EDF parameters from /Users/robert/eeg_data/edf/dev/03_tcp_ar_a/040/00004087/s003_2007_07_24/00004087_s003_t004.edf...\n",
      "EDF file detected\n",
      "Setting channel info structure...\n",
      "Creating raw.info structure...\n",
      "Reading 0 ... 125999  =      0.000 ...   314.998 secs...\n"
     ]
    },
    {
     "name": "stderr",
     "output_type": "stream",
     "text": [
      "<ipython-input-154-8c037cfb9b83>:30: RuntimeWarning: This filename (/Users/robert/Desktop/School/Grad/481c/seizure-classification/training/data_subset/dev/00002297_s004_t000_start_137.0525_end_236.5775_type_seiz_eeg.fif) does not conform to MNE naming conventions. All raw files should end with raw.fif, raw_sss.fif, raw_tsss.fif, raw.fif.gz, raw_sss.fif.gz, raw_tsss.fif.gz or _meg.fif\n",
      "  raw_data.save(new_subset_name, picks=['eeg'],\n",
      "<ipython-input-154-8c037cfb9b83>:30: RuntimeWarning: This filename (/Users/robert/Desktop/School/Grad/481c/seizure-classification/training/data_subset/dev/00002297_s004_t000_start_239.8250_end_302.0275_type_seiz_eeg.fif) does not conform to MNE naming conventions. All raw files should end with raw.fif, raw_sss.fif, raw_tsss.fif, raw.fif.gz, raw_sss.fif.gz, raw_tsss.fif.gz or _meg.fif\n",
      "  raw_data.save(new_subset_name, picks=['eeg'],\n",
      "<ipython-input-154-8c037cfb9b83>:16: RuntimeWarning: This filename (/Users/robert/Desktop/School/Grad/481c/seizure-classification/training/data_subset/dev/00004087_s003_t004_start_0.0000_end_10.0050_type_bckg_eeg.fif) does not conform to MNE naming conventions. All raw files should end with raw.fif, raw_sss.fif, raw_tsss.fif, raw.fif.gz, raw_sss.fif.gz, raw_tsss.fif.gz or _meg.fif\n",
      "  raw_data.save(new_subset_name, picks=['eeg'],\n",
      "<ipython-input-154-8c037cfb9b83>:16: RuntimeWarning: This filename (/Users/robert/Desktop/School/Grad/481c/seizure-classification/training/data_subset/dev/00004087_s003_t004_start_111.1025_end_315.0000_type_bckg_eeg.fif) does not conform to MNE naming conventions. All raw files should end with raw.fif, raw_sss.fif, raw_tsss.fif, raw.fif.gz, raw_sss.fif.gz, raw_tsss.fif.gz or _meg.fif\n",
      "  raw_data.save(new_subset_name, picks=['eeg'],\n"
     ]
    },
    {
     "name": "stdout",
     "output_type": "stream",
     "text": [
      "Writing /Users/robert/Desktop/School/Grad/481c/seizure-classification/training/data_subset/dev/00004087_s003_t004_start_10.0050_end_111.1025_type_seiz_eeg.fif\n",
      "Closing /Users/robert/Desktop/School/Grad/481c/seizure-classification/training/data_subset/dev/00004087_s003_t004_start_10.0050_end_111.1025_type_seiz_eeg.fif\n",
      "[done]\n",
      "Extracting EDF parameters from /Users/robert/eeg_data/edf/dev/03_tcp_ar_a/040/00004087/s003_2007_07_24/00004087_s003_t002.edf...\n",
      "EDF file detected\n",
      "Setting channel info structure...\n",
      "Creating raw.info structure...\n",
      "Reading 0 ... 128399  =      0.000 ...   320.998 secs...\n",
      "Writing /Users/robert/Desktop/School/Grad/481c/seizure-classification/training/data_subset/dev/00004087_s003_t002_start_0.0000_end_10.0075_type_bckg_eeg.fif\n",
      "Closing /Users/robert/Desktop/School/Grad/481c/seizure-classification/training/data_subset/dev/00004087_s003_t002_start_0.0000_end_10.0075_type_bckg_eeg.fif\n",
      "[done]\n",
      "Writing /Users/robert/Desktop/School/Grad/481c/seizure-classification/training/data_subset/dev/00004087_s003_t002_start_135.1375_end_321.0000_type_bckg_eeg.fif\n",
      "Closing /Users/robert/Desktop/School/Grad/481c/seizure-classification/training/data_subset/dev/00004087_s003_t002_start_135.1375_end_321.0000_type_bckg_eeg.fif\n",
      "[done]\n",
      "Extracting EDF parameters from /Users/robert/eeg_data/edf/dev/03_tcp_ar_a/040/00004087/s003_2007_07_24/00004087_s003_t002.edf...\n",
      "EDF file detected\n",
      "Setting channel info structure...\n",
      "Creating raw.info structure...\n",
      "Reading 0 ... 128399  =      0.000 ...   320.998 secs...\n"
     ]
    },
    {
     "name": "stderr",
     "output_type": "stream",
     "text": [
      "<ipython-input-154-8c037cfb9b83>:30: RuntimeWarning: This filename (/Users/robert/Desktop/School/Grad/481c/seizure-classification/training/data_subset/dev/00004087_s003_t004_start_10.0050_end_111.1025_type_seiz_eeg.fif) does not conform to MNE naming conventions. All raw files should end with raw.fif, raw_sss.fif, raw_tsss.fif, raw.fif.gz, raw_sss.fif.gz, raw_tsss.fif.gz or _meg.fif\n",
      "  raw_data.save(new_subset_name, picks=['eeg'],\n",
      "<ipython-input-154-8c037cfb9b83>:16: RuntimeWarning: This filename (/Users/robert/Desktop/School/Grad/481c/seizure-classification/training/data_subset/dev/00004087_s003_t002_start_0.0000_end_10.0075_type_bckg_eeg.fif) does not conform to MNE naming conventions. All raw files should end with raw.fif, raw_sss.fif, raw_tsss.fif, raw.fif.gz, raw_sss.fif.gz, raw_tsss.fif.gz or _meg.fif\n",
      "  raw_data.save(new_subset_name, picks=['eeg'],\n",
      "<ipython-input-154-8c037cfb9b83>:16: RuntimeWarning: This filename (/Users/robert/Desktop/School/Grad/481c/seizure-classification/training/data_subset/dev/00004087_s003_t002_start_135.1375_end_321.0000_type_bckg_eeg.fif) does not conform to MNE naming conventions. All raw files should end with raw.fif, raw_sss.fif, raw_tsss.fif, raw.fif.gz, raw_sss.fif.gz, raw_tsss.fif.gz or _meg.fif\n",
      "  raw_data.save(new_subset_name, picks=['eeg'],\n"
     ]
    },
    {
     "name": "stdout",
     "output_type": "stream",
     "text": [
      "Writing /Users/robert/Desktop/School/Grad/481c/seizure-classification/training/data_subset/dev/00004087_s003_t002_start_10.0075_end_135.1375_type_seiz_eeg.fif\n",
      "Closing /Users/robert/Desktop/School/Grad/481c/seizure-classification/training/data_subset/dev/00004087_s003_t002_start_10.0075_end_135.1375_type_seiz_eeg.fif\n",
      "[done]\n",
      "Extracting EDF parameters from /Users/robert/eeg_data/edf/dev/03_tcp_ar_a/040/00004087/s003_2007_07_24/00004087_s003_t003.edf...\n",
      "EDF file detected\n",
      "Setting channel info structure...\n",
      "Creating raw.info structure...\n",
      "Reading 0 ... 137199  =      0.000 ...   342.998 secs...\n",
      "Writing /Users/robert/Desktop/School/Grad/481c/seizure-classification/training/data_subset/dev/00004087_s003_t003_start_0.0000_end_343.0000_type_bckg_eeg.fif\n"
     ]
    },
    {
     "name": "stderr",
     "output_type": "stream",
     "text": [
      "<ipython-input-154-8c037cfb9b83>:30: RuntimeWarning: This filename (/Users/robert/Desktop/School/Grad/481c/seizure-classification/training/data_subset/dev/00004087_s003_t002_start_10.0075_end_135.1375_type_seiz_eeg.fif) does not conform to MNE naming conventions. All raw files should end with raw.fif, raw_sss.fif, raw_tsss.fif, raw.fif.gz, raw_sss.fif.gz, raw_tsss.fif.gz or _meg.fif\n",
      "  raw_data.save(new_subset_name, picks=['eeg'],\n",
      "<ipython-input-154-8c037cfb9b83>:16: RuntimeWarning: This filename (/Users/robert/Desktop/School/Grad/481c/seizure-classification/training/data_subset/dev/00004087_s003_t003_start_0.0000_end_343.0000_type_bckg_eeg.fif) does not conform to MNE naming conventions. All raw files should end with raw.fif, raw_sss.fif, raw_tsss.fif, raw.fif.gz, raw_sss.fif.gz, raw_tsss.fif.gz or _meg.fif\n",
      "  raw_data.save(new_subset_name, picks=['eeg'],\n"
     ]
    },
    {
     "name": "stdout",
     "output_type": "stream",
     "text": [
      "Closing /Users/robert/Desktop/School/Grad/481c/seizure-classification/training/data_subset/dev/00004087_s003_t003_start_0.0000_end_343.0000_type_bckg_eeg.fif\n",
      "[done]\n",
      "Extracting EDF parameters from /Users/robert/eeg_data/edf/dev/03_tcp_ar_a/040/00004087/s003_2007_07_24/00004087_s003_t001.edf...\n",
      "EDF file detected\n",
      "Setting channel info structure...\n",
      "Creating raw.info structure...\n",
      "Reading 0 ... 80399  =      0.000 ...   200.998 secs...\n",
      "Writing /Users/robert/Desktop/School/Grad/481c/seizure-classification/training/data_subset/dev/00004087_s003_t001_start_0.0000_end_201.0000_type_bckg_eeg.fif\n",
      "Closing /Users/robert/Desktop/School/Grad/481c/seizure-classification/training/data_subset/dev/00004087_s003_t001_start_0.0000_end_201.0000_type_bckg_eeg.fif\n",
      "[done]\n",
      "Extracting EDF parameters from /Users/robert/eeg_data/edf/dev/03_tcp_ar_a/040/00004087/s003_2007_07_24/00004087_s003_t000.edf...\n",
      "EDF file detected\n",
      "Setting channel info structure...\n",
      "Creating raw.info structure...\n",
      "Reading 0 ... 124399  =      0.000 ...   310.998 secs...\n",
      "Writing /Users/robert/Desktop/School/Grad/481c/seizure-classification/training/data_subset/dev/00004087_s003_t000_start_0.0000_end_311.0000_type_bckg_eeg.fif\n",
      "Closing /Users/robert/Desktop/School/Grad/481c/seizure-classification/training/data_subset/dev/00004087_s003_t000_start_0.0000_end_311.0000_type_bckg_eeg.fif\n",
      "[done]\n",
      "Extracting EDF parameters from /Users/robert/eeg_data/edf/dev/03_tcp_ar_a/065/00006546/s011_2011_02_16/00006546_s011_t002.edf...\n",
      "EDF file detected\n"
     ]
    },
    {
     "name": "stderr",
     "output_type": "stream",
     "text": [
      "<ipython-input-154-8c037cfb9b83>:16: RuntimeWarning: This filename (/Users/robert/Desktop/School/Grad/481c/seizure-classification/training/data_subset/dev/00004087_s003_t001_start_0.0000_end_201.0000_type_bckg_eeg.fif) does not conform to MNE naming conventions. All raw files should end with raw.fif, raw_sss.fif, raw_tsss.fif, raw.fif.gz, raw_sss.fif.gz, raw_tsss.fif.gz or _meg.fif\n",
      "  raw_data.save(new_subset_name, picks=['eeg'],\n",
      "<ipython-input-154-8c037cfb9b83>:16: RuntimeWarning: This filename (/Users/robert/Desktop/School/Grad/481c/seizure-classification/training/data_subset/dev/00004087_s003_t000_start_0.0000_end_311.0000_type_bckg_eeg.fif) does not conform to MNE naming conventions. All raw files should end with raw.fif, raw_sss.fif, raw_tsss.fif, raw.fif.gz, raw_sss.fif.gz, raw_tsss.fif.gz or _meg.fif\n",
      "  raw_data.save(new_subset_name, picks=['eeg'],\n"
     ]
    },
    {
     "name": "stdout",
     "output_type": "stream",
     "text": [
      "Setting channel info structure...\n",
      "Creating raw.info structure...\n",
      "Reading 0 ... 161999  =      0.000 ...   404.998 secs...\n",
      "Writing /Users/robert/Desktop/School/Grad/481c/seizure-classification/training/data_subset/dev/00006546_s011_t002_start_0.0000_end_106.9700_type_bckg_eeg.fif\n",
      "Closing /Users/robert/Desktop/School/Grad/481c/seizure-classification/training/data_subset/dev/00006546_s011_t002_start_0.0000_end_106.9700_type_bckg_eeg.fif\n",
      "[done]\n",
      "Writing /Users/robert/Desktop/School/Grad/481c/seizure-classification/training/data_subset/dev/00006546_s011_t002_start_122.9000_end_405.0000_type_bckg_eeg.fif\n",
      "Closing /Users/robert/Desktop/School/Grad/481c/seizure-classification/training/data_subset/dev/00006546_s011_t002_start_122.9000_end_405.0000_type_bckg_eeg.fif\n",
      "[done]\n",
      "Extracting EDF parameters from /Users/robert/eeg_data/edf/dev/03_tcp_ar_a/065/00006546/s011_2011_02_16/00006546_s011_t002.edf...\n",
      "EDF file detected\n",
      "Setting channel info structure...\n",
      "Creating raw.info structure...\n",
      "Reading 0 ... 161999  =      0.000 ...   404.998 secs...\n"
     ]
    },
    {
     "name": "stderr",
     "output_type": "stream",
     "text": [
      "<ipython-input-154-8c037cfb9b83>:16: RuntimeWarning: This filename (/Users/robert/Desktop/School/Grad/481c/seizure-classification/training/data_subset/dev/00006546_s011_t002_start_0.0000_end_106.9700_type_bckg_eeg.fif) does not conform to MNE naming conventions. All raw files should end with raw.fif, raw_sss.fif, raw_tsss.fif, raw.fif.gz, raw_sss.fif.gz, raw_tsss.fif.gz or _meg.fif\n",
      "  raw_data.save(new_subset_name, picks=['eeg'],\n",
      "<ipython-input-154-8c037cfb9b83>:16: RuntimeWarning: This filename (/Users/robert/Desktop/School/Grad/481c/seizure-classification/training/data_subset/dev/00006546_s011_t002_start_122.9000_end_405.0000_type_bckg_eeg.fif) does not conform to MNE naming conventions. All raw files should end with raw.fif, raw_sss.fif, raw_tsss.fif, raw.fif.gz, raw_sss.fif.gz, raw_tsss.fif.gz or _meg.fif\n",
      "  raw_data.save(new_subset_name, picks=['eeg'],\n"
     ]
    },
    {
     "name": "stdout",
     "output_type": "stream",
     "text": [
      "Writing /Users/robert/Desktop/School/Grad/481c/seizure-classification/training/data_subset/dev/00006546_s011_t002_start_106.9700_end_122.9000_type_seiz_eeg.fif\n",
      "Closing /Users/robert/Desktop/School/Grad/481c/seizure-classification/training/data_subset/dev/00006546_s011_t002_start_106.9700_end_122.9000_type_seiz_eeg.fif\n",
      "[done]\n",
      "Extracting EDF parameters from /Users/robert/eeg_data/edf/dev/03_tcp_ar_a/065/00006546/s011_2011_02_16/00006546_s011_t003.edf...\n",
      "EDF file detected\n",
      "Setting channel info structure...\n",
      "Creating raw.info structure...\n",
      "Reading 0 ... 165999  =      0.000 ...   414.998 secs...\n",
      "Writing /Users/robert/Desktop/School/Grad/481c/seizure-classification/training/data_subset/dev/00006546_s011_t003_start_0.0000_end_415.0000_type_bckg_eeg.fif\n"
     ]
    },
    {
     "name": "stderr",
     "output_type": "stream",
     "text": [
      "<ipython-input-154-8c037cfb9b83>:30: RuntimeWarning: This filename (/Users/robert/Desktop/School/Grad/481c/seizure-classification/training/data_subset/dev/00006546_s011_t002_start_106.9700_end_122.9000_type_seiz_eeg.fif) does not conform to MNE naming conventions. All raw files should end with raw.fif, raw_sss.fif, raw_tsss.fif, raw.fif.gz, raw_sss.fif.gz, raw_tsss.fif.gz or _meg.fif\n",
      "  raw_data.save(new_subset_name, picks=['eeg'],\n",
      "<ipython-input-154-8c037cfb9b83>:16: RuntimeWarning: This filename (/Users/robert/Desktop/School/Grad/481c/seizure-classification/training/data_subset/dev/00006546_s011_t003_start_0.0000_end_415.0000_type_bckg_eeg.fif) does not conform to MNE naming conventions. All raw files should end with raw.fif, raw_sss.fif, raw_tsss.fif, raw.fif.gz, raw_sss.fif.gz, raw_tsss.fif.gz or _meg.fif\n",
      "  raw_data.save(new_subset_name, picks=['eeg'],\n"
     ]
    },
    {
     "name": "stdout",
     "output_type": "stream",
     "text": [
      "Closing /Users/robert/Desktop/School/Grad/481c/seizure-classification/training/data_subset/dev/00006546_s011_t003_start_0.0000_end_415.0000_type_bckg_eeg.fif\n",
      "[done]\n",
      "Extracting EDF parameters from /Users/robert/eeg_data/edf/dev/03_tcp_ar_a/065/00006546/s011_2011_02_16/00006546_s011_t001.edf...\n",
      "EDF file detected\n",
      "Setting channel info structure...\n",
      "Creating raw.info structure...\n",
      "Reading 0 ... 189599  =      0.000 ...   473.998 secs...\n",
      "Writing /Users/robert/Desktop/School/Grad/481c/seizure-classification/training/data_subset/dev/00006546_s011_t001_start_0.0000_end_474.0000_type_bckg_eeg.fif\n",
      "Closing /Users/robert/Desktop/School/Grad/481c/seizure-classification/training/data_subset/dev/00006546_s011_t001_start_0.0000_end_474.0000_type_bckg_eeg.fif\n"
     ]
    },
    {
     "name": "stderr",
     "output_type": "stream",
     "text": [
      "<ipython-input-154-8c037cfb9b83>:16: RuntimeWarning: This filename (/Users/robert/Desktop/School/Grad/481c/seizure-classification/training/data_subset/dev/00006546_s011_t001_start_0.0000_end_474.0000_type_bckg_eeg.fif) does not conform to MNE naming conventions. All raw files should end with raw.fif, raw_sss.fif, raw_tsss.fif, raw.fif.gz, raw_sss.fif.gz, raw_tsss.fif.gz or _meg.fif\n",
      "  raw_data.save(new_subset_name, picks=['eeg'],\n"
     ]
    },
    {
     "name": "stdout",
     "output_type": "stream",
     "text": [
      "[done]\n",
      "Extracting EDF parameters from /Users/robert/eeg_data/edf/dev/03_tcp_ar_a/065/00006546/s011_2011_02_16/00006546_s011_t000.edf...\n",
      "EDF file detected\n",
      "Setting channel info structure...\n",
      "Creating raw.info structure...\n",
      "Reading 0 ... 101999  =      0.000 ...   254.998 secs...\n",
      "Writing /Users/robert/Desktop/School/Grad/481c/seizure-classification/training/data_subset/dev/00006546_s011_t000_start_0.0000_end_255.0000_type_bckg_eeg.fif\n",
      "Closing /Users/robert/Desktop/School/Grad/481c/seizure-classification/training/data_subset/dev/00006546_s011_t000_start_0.0000_end_255.0000_type_bckg_eeg.fif\n",
      "[done]\n",
      "Extracting EDF parameters from /Users/robert/eeg_data/edf/dev/03_tcp_ar_a/065/00006546/s011_2011_02_16/00006546_s011_t004.edf...\n",
      "EDF file detected\n",
      "Setting channel info structure...\n",
      "Creating raw.info structure...\n",
      "Reading 0 ... 189999  =      0.000 ...   474.998 secs...\n"
     ]
    },
    {
     "name": "stderr",
     "output_type": "stream",
     "text": [
      "<ipython-input-154-8c037cfb9b83>:16: RuntimeWarning: This filename (/Users/robert/Desktop/School/Grad/481c/seizure-classification/training/data_subset/dev/00006546_s011_t000_start_0.0000_end_255.0000_type_bckg_eeg.fif) does not conform to MNE naming conventions. All raw files should end with raw.fif, raw_sss.fif, raw_tsss.fif, raw.fif.gz, raw_sss.fif.gz, raw_tsss.fif.gz or _meg.fif\n",
      "  raw_data.save(new_subset_name, picks=['eeg'],\n",
      "<ipython-input-154-8c037cfb9b83>:16: RuntimeWarning: This filename (/Users/robert/Desktop/School/Grad/481c/seizure-classification/training/data_subset/dev/00006546_s011_t004_start_0.0000_end_475.0000_type_bckg_eeg.fif) does not conform to MNE naming conventions. All raw files should end with raw.fif, raw_sss.fif, raw_tsss.fif, raw.fif.gz, raw_sss.fif.gz, raw_tsss.fif.gz or _meg.fif\n",
      "  raw_data.save(new_subset_name, picks=['eeg'],\n"
     ]
    },
    {
     "name": "stdout",
     "output_type": "stream",
     "text": [
      "Writing /Users/robert/Desktop/School/Grad/481c/seizure-classification/training/data_subset/dev/00006546_s011_t004_start_0.0000_end_475.0000_type_bckg_eeg.fif\n",
      "Closing /Users/robert/Desktop/School/Grad/481c/seizure-classification/training/data_subset/dev/00006546_s011_t004_start_0.0000_end_475.0000_type_bckg_eeg.fif\n",
      "[done]\n",
      "Extracting EDF parameters from /Users/robert/eeg_data/edf/dev/03_tcp_ar_a/065/00006546/s011_2011_02_16/00006546_s011_t005.edf...\n",
      "EDF file detected\n",
      "Setting channel info structure...\n",
      "Creating raw.info structure...\n",
      "Reading 0 ... 24399  =      0.000 ...    60.998 secs...\n",
      "Writing /Users/robert/Desktop/School/Grad/481c/seizure-classification/training/data_subset/dev/00006546_s011_t005_start_0.0000_end_10.9250_type_bckg_eeg.fif\n",
      "Closing /Users/robert/Desktop/School/Grad/481c/seizure-classification/training/data_subset/dev/00006546_s011_t005_start_0.0000_end_10.9250_type_bckg_eeg.fif\n",
      "[done]\n",
      "Writing /Users/robert/Desktop/School/Grad/481c/seizure-classification/training/data_subset/dev/00006546_s011_t005_start_24.9600_end_61.0000_type_bckg_eeg.fif\n",
      "Closing /Users/robert/Desktop/School/Grad/481c/seizure-classification/training/data_subset/dev/00006546_s011_t005_start_24.9600_end_61.0000_type_bckg_eeg.fif\n",
      "[done]\n",
      "Extracting EDF parameters from /Users/robert/eeg_data/edf/dev/03_tcp_ar_a/065/00006546/s011_2011_02_16/00006546_s011_t005.edf...\n",
      "EDF file detected\n",
      "Setting channel info structure...\n",
      "Creating raw.info structure...\n",
      "Reading 0 ... 24399  =      0.000 ...    60.998 secs...\n",
      "Writing /Users/robert/Desktop/School/Grad/481c/seizure-classification/training/data_subset/dev/00006546_s011_t005_start_10.9250_end_24.9600_type_seiz_eeg.fif\n",
      "Closing /Users/robert/Desktop/School/Grad/481c/seizure-classification/training/data_subset/dev/00006546_s011_t005_start_10.9250_end_24.9600_type_seiz_eeg.fif\n",
      "[done]\n",
      "Extracting EDF parameters from /Users/robert/eeg_data/edf/dev/03_tcp_ar_a/065/00006546/s011_2011_02_16/00006546_s011_t007.edf...\n",
      "EDF file detected\n",
      "Setting channel info structure...\n",
      "Creating raw.info structure...\n",
      "Reading 0 ... 189599  =      0.000 ...   473.998 secs...\n",
      "Writing /Users/robert/Desktop/School/Grad/481c/seizure-classification/training/data_subset/dev/00006546_s011_t007_start_0.0000_end_474.0000_type_bckg_eeg.fif\n"
     ]
    },
    {
     "name": "stderr",
     "output_type": "stream",
     "text": [
      "<ipython-input-154-8c037cfb9b83>:16: RuntimeWarning: This filename (/Users/robert/Desktop/School/Grad/481c/seizure-classification/training/data_subset/dev/00006546_s011_t005_start_0.0000_end_10.9250_type_bckg_eeg.fif) does not conform to MNE naming conventions. All raw files should end with raw.fif, raw_sss.fif, raw_tsss.fif, raw.fif.gz, raw_sss.fif.gz, raw_tsss.fif.gz or _meg.fif\n",
      "  raw_data.save(new_subset_name, picks=['eeg'],\n",
      "<ipython-input-154-8c037cfb9b83>:16: RuntimeWarning: This filename (/Users/robert/Desktop/School/Grad/481c/seizure-classification/training/data_subset/dev/00006546_s011_t005_start_24.9600_end_61.0000_type_bckg_eeg.fif) does not conform to MNE naming conventions. All raw files should end with raw.fif, raw_sss.fif, raw_tsss.fif, raw.fif.gz, raw_sss.fif.gz, raw_tsss.fif.gz or _meg.fif\n",
      "  raw_data.save(new_subset_name, picks=['eeg'],\n",
      "<ipython-input-154-8c037cfb9b83>:30: RuntimeWarning: This filename (/Users/robert/Desktop/School/Grad/481c/seizure-classification/training/data_subset/dev/00006546_s011_t005_start_10.9250_end_24.9600_type_seiz_eeg.fif) does not conform to MNE naming conventions. All raw files should end with raw.fif, raw_sss.fif, raw_tsss.fif, raw.fif.gz, raw_sss.fif.gz, raw_tsss.fif.gz or _meg.fif\n",
      "  raw_data.save(new_subset_name, picks=['eeg'],\n",
      "<ipython-input-154-8c037cfb9b83>:16: RuntimeWarning: This filename (/Users/robert/Desktop/School/Grad/481c/seizure-classification/training/data_subset/dev/00006546_s011_t007_start_0.0000_end_474.0000_type_bckg_eeg.fif) does not conform to MNE naming conventions. All raw files should end with raw.fif, raw_sss.fif, raw_tsss.fif, raw.fif.gz, raw_sss.fif.gz, raw_tsss.fif.gz or _meg.fif\n",
      "  raw_data.save(new_subset_name, picks=['eeg'],\n"
     ]
    },
    {
     "name": "stdout",
     "output_type": "stream",
     "text": [
      "Closing /Users/robert/Desktop/School/Grad/481c/seizure-classification/training/data_subset/dev/00006546_s011_t007_start_0.0000_end_474.0000_type_bckg_eeg.fif\n",
      "[done]\n",
      "Extracting EDF parameters from /Users/robert/eeg_data/edf/dev/03_tcp_ar_a/065/00006546/s011_2011_02_16/00006546_s011_t006.edf...\n",
      "EDF file detected\n",
      "Setting channel info structure...\n",
      "Creating raw.info structure...\n",
      "Reading 0 ... 185999  =      0.000 ...   464.998 secs...\n",
      "Writing /Users/robert/Desktop/School/Grad/481c/seizure-classification/training/data_subset/dev/00006546_s011_t006_start_0.0000_end_465.0000_type_bckg_eeg.fif\n",
      "Closing /Users/robert/Desktop/School/Grad/481c/seizure-classification/training/data_subset/dev/00006546_s011_t006_start_0.0000_end_465.0000_type_bckg_eeg.fif\n",
      "[done]\n",
      "Extracting EDF parameters from /Users/robert/eeg_data/edf/dev/03_tcp_ar_a/065/00006546/s010_2011_02_15/00006546_s010_t002.edf...\n",
      "EDF file detected\n",
      "Setting channel info structure...\n",
      "Creating raw.info structure...\n",
      "Reading 0 ... 110399  =      0.000 ...   275.998 secs...\n",
      "Writing /Users/robert/Desktop/School/Grad/481c/seizure-classification/training/data_subset/dev/00006546_s010_t002_start_0.0000_end_276.0000_type_bckg_eeg.fif\n"
     ]
    },
    {
     "name": "stderr",
     "output_type": "stream",
     "text": [
      "<ipython-input-154-8c037cfb9b83>:16: RuntimeWarning: This filename (/Users/robert/Desktop/School/Grad/481c/seizure-classification/training/data_subset/dev/00006546_s011_t006_start_0.0000_end_465.0000_type_bckg_eeg.fif) does not conform to MNE naming conventions. All raw files should end with raw.fif, raw_sss.fif, raw_tsss.fif, raw.fif.gz, raw_sss.fif.gz, raw_tsss.fif.gz or _meg.fif\n",
      "  raw_data.save(new_subset_name, picks=['eeg'],\n",
      "<ipython-input-154-8c037cfb9b83>:16: RuntimeWarning: This filename (/Users/robert/Desktop/School/Grad/481c/seizure-classification/training/data_subset/dev/00006546_s010_t002_start_0.0000_end_276.0000_type_bckg_eeg.fif) does not conform to MNE naming conventions. All raw files should end with raw.fif, raw_sss.fif, raw_tsss.fif, raw.fif.gz, raw_sss.fif.gz, raw_tsss.fif.gz or _meg.fif\n",
      "  raw_data.save(new_subset_name, picks=['eeg'],\n"
     ]
    },
    {
     "name": "stdout",
     "output_type": "stream",
     "text": [
      "Closing /Users/robert/Desktop/School/Grad/481c/seizure-classification/training/data_subset/dev/00006546_s010_t002_start_0.0000_end_276.0000_type_bckg_eeg.fif\n",
      "[done]\n",
      "Extracting EDF parameters from /Users/robert/eeg_data/edf/dev/03_tcp_ar_a/065/00006546/s010_2011_02_15/00006546_s010_t003.edf...\n",
      "EDF file detected\n",
      "Setting channel info structure...\n",
      "Creating raw.info structure...\n",
      "Reading 0 ... 261999  =      0.000 ...   654.997 secs...\n",
      "Writing /Users/robert/Desktop/School/Grad/481c/seizure-classification/training/data_subset/dev/00006546_s010_t003_start_0.0000_end_655.0000_type_bckg_eeg.fif\n",
      "Closing /Users/robert/Desktop/School/Grad/481c/seizure-classification/training/data_subset/dev/00006546_s010_t003_start_0.0000_end_655.0000_type_bckg_eeg.fif\n",
      "[done]\n",
      "Extracting EDF parameters from /Users/robert/eeg_data/edf/dev/03_tcp_ar_a/065/00006546/s010_2011_02_15/00006546_s010_t001.edf...\n",
      "EDF file detected\n",
      "Setting channel info structure...\n",
      "Creating raw.info structure...\n",
      "Reading 0 ... 109999  =      0.000 ...   274.998 secs...\n",
      "Writing /Users/robert/Desktop/School/Grad/481c/seizure-classification/training/data_subset/dev/00006546_s010_t001_start_0.0000_end_275.0000_type_bckg_eeg.fif\n"
     ]
    },
    {
     "name": "stderr",
     "output_type": "stream",
     "text": [
      "<ipython-input-154-8c037cfb9b83>:16: RuntimeWarning: This filename (/Users/robert/Desktop/School/Grad/481c/seizure-classification/training/data_subset/dev/00006546_s010_t003_start_0.0000_end_655.0000_type_bckg_eeg.fif) does not conform to MNE naming conventions. All raw files should end with raw.fif, raw_sss.fif, raw_tsss.fif, raw.fif.gz, raw_sss.fif.gz, raw_tsss.fif.gz or _meg.fif\n",
      "  raw_data.save(new_subset_name, picks=['eeg'],\n",
      "<ipython-input-154-8c037cfb9b83>:16: RuntimeWarning: This filename (/Users/robert/Desktop/School/Grad/481c/seizure-classification/training/data_subset/dev/00006546_s010_t001_start_0.0000_end_275.0000_type_bckg_eeg.fif) does not conform to MNE naming conventions. All raw files should end with raw.fif, raw_sss.fif, raw_tsss.fif, raw.fif.gz, raw_sss.fif.gz, raw_tsss.fif.gz or _meg.fif\n",
      "  raw_data.save(new_subset_name, picks=['eeg'],\n"
     ]
    },
    {
     "name": "stdout",
     "output_type": "stream",
     "text": [
      "Closing /Users/robert/Desktop/School/Grad/481c/seizure-classification/training/data_subset/dev/00006546_s010_t001_start_0.0000_end_275.0000_type_bckg_eeg.fif\n",
      "[done]\n",
      "Extracting EDF parameters from /Users/robert/eeg_data/edf/dev/03_tcp_ar_a/065/00006546/s010_2011_02_15/00006546_s010_t000.edf...\n",
      "EDF file detected\n",
      "Setting channel info structure...\n",
      "Creating raw.info structure...\n",
      "Reading 0 ... 177599  =      0.000 ...   443.998 secs...\n",
      "Writing /Users/robert/Desktop/School/Grad/481c/seizure-classification/training/data_subset/dev/00006546_s010_t000_start_0.0000_end_444.0000_type_bckg_eeg.fif\n",
      "Closing /Users/robert/Desktop/School/Grad/481c/seizure-classification/training/data_subset/dev/00006546_s010_t000_start_0.0000_end_444.0000_type_bckg_eeg.fif\n",
      "[done]\n",
      "Extracting EDF parameters from /Users/robert/eeg_data/edf/dev/03_tcp_ar_a/065/00006546/s010_2011_02_15/00006546_s010_t004.edf...\n",
      "EDF file detected\n",
      "Setting channel info structure...\n",
      "Creating raw.info structure...\n",
      "Reading 0 ... 177999  =      0.000 ...   444.998 secs...\n",
      "Writing /Users/robert/Desktop/School/Grad/481c/seizure-classification/training/data_subset/dev/00006546_s010_t004_start_0.0000_end_445.0000_type_bckg_eeg.fif\n"
     ]
    },
    {
     "name": "stderr",
     "output_type": "stream",
     "text": [
      "<ipython-input-154-8c037cfb9b83>:16: RuntimeWarning: This filename (/Users/robert/Desktop/School/Grad/481c/seizure-classification/training/data_subset/dev/00006546_s010_t000_start_0.0000_end_444.0000_type_bckg_eeg.fif) does not conform to MNE naming conventions. All raw files should end with raw.fif, raw_sss.fif, raw_tsss.fif, raw.fif.gz, raw_sss.fif.gz, raw_tsss.fif.gz or _meg.fif\n",
      "  raw_data.save(new_subset_name, picks=['eeg'],\n",
      "<ipython-input-154-8c037cfb9b83>:16: RuntimeWarning: This filename (/Users/robert/Desktop/School/Grad/481c/seizure-classification/training/data_subset/dev/00006546_s010_t004_start_0.0000_end_445.0000_type_bckg_eeg.fif) does not conform to MNE naming conventions. All raw files should end with raw.fif, raw_sss.fif, raw_tsss.fif, raw.fif.gz, raw_sss.fif.gz, raw_tsss.fif.gz or _meg.fif\n",
      "  raw_data.save(new_subset_name, picks=['eeg'],\n"
     ]
    },
    {
     "name": "stdout",
     "output_type": "stream",
     "text": [
      "Closing /Users/robert/Desktop/School/Grad/481c/seizure-classification/training/data_subset/dev/00006546_s010_t004_start_0.0000_end_445.0000_type_bckg_eeg.fif\n",
      "[done]\n",
      "Extracting EDF parameters from /Users/robert/eeg_data/edf/dev/03_tcp_ar_a/065/00006546/s010_2011_02_15/00006546_s010_t005.edf...\n",
      "EDF file detected\n",
      "Setting channel info structure...\n",
      "Creating raw.info structure...\n",
      "Reading 0 ... 177599  =      0.000 ...   443.998 secs...\n",
      "Writing /Users/robert/Desktop/School/Grad/481c/seizure-classification/training/data_subset/dev/00006546_s010_t005_start_0.0000_end_444.0000_type_bckg_eeg.fif\n",
      "Closing /Users/robert/Desktop/School/Grad/481c/seizure-classification/training/data_subset/dev/00006546_s010_t005_start_0.0000_end_444.0000_type_bckg_eeg.fif\n",
      "[done]\n",
      "Extracting EDF parameters from /Users/robert/eeg_data/edf/dev/03_tcp_ar_a/065/00006546/s015_2011_03_15/00006546_s015_t000.edf...\n",
      "EDF file detected\n",
      "Setting channel info structure...\n",
      "Creating raw.info structure...\n",
      "Reading 0 ... 182015  =      0.000 ...   710.996 secs...\n"
     ]
    },
    {
     "name": "stderr",
     "output_type": "stream",
     "text": [
      "<ipython-input-154-8c037cfb9b83>:16: RuntimeWarning: This filename (/Users/robert/Desktop/School/Grad/481c/seizure-classification/training/data_subset/dev/00006546_s010_t005_start_0.0000_end_444.0000_type_bckg_eeg.fif) does not conform to MNE naming conventions. All raw files should end with raw.fif, raw_sss.fif, raw_tsss.fif, raw.fif.gz, raw_sss.fif.gz, raw_tsss.fif.gz or _meg.fif\n",
      "  raw_data.save(new_subset_name, picks=['eeg'],\n"
     ]
    },
    {
     "name": "stdout",
     "output_type": "stream",
     "text": [
      "Writing /Users/robert/Desktop/School/Grad/481c/seizure-classification/training/data_subset/dev/00006546_s015_t000_start_0.0000_end_711.0000_type_bckg_eeg.fif\n",
      "Closing /Users/robert/Desktop/School/Grad/481c/seizure-classification/training/data_subset/dev/00006546_s015_t000_start_0.0000_end_711.0000_type_bckg_eeg.fif\n",
      "[done]\n",
      "Extracting EDF parameters from /Users/robert/eeg_data/edf/dev/03_tcp_ar_a/065/00006546/s013_2011_02_18/00006546_s013_t001.edf...\n",
      "EDF file detected\n",
      "Setting channel info structure...\n",
      "Creating raw.info structure...\n",
      "Reading 0 ... 149999  =      0.000 ...   374.998 secs...\n",
      "Writing /Users/robert/Desktop/School/Grad/481c/seizure-classification/training/data_subset/dev/00006546_s013_t001_start_0.0000_end_375.0000_type_bckg_eeg.fif\n"
     ]
    },
    {
     "name": "stderr",
     "output_type": "stream",
     "text": [
      "<ipython-input-154-8c037cfb9b83>:16: RuntimeWarning: This filename (/Users/robert/Desktop/School/Grad/481c/seizure-classification/training/data_subset/dev/00006546_s015_t000_start_0.0000_end_711.0000_type_bckg_eeg.fif) does not conform to MNE naming conventions. All raw files should end with raw.fif, raw_sss.fif, raw_tsss.fif, raw.fif.gz, raw_sss.fif.gz, raw_tsss.fif.gz or _meg.fif\n",
      "  raw_data.save(new_subset_name, picks=['eeg'],\n",
      "<ipython-input-154-8c037cfb9b83>:16: RuntimeWarning: This filename (/Users/robert/Desktop/School/Grad/481c/seizure-classification/training/data_subset/dev/00006546_s013_t001_start_0.0000_end_375.0000_type_bckg_eeg.fif) does not conform to MNE naming conventions. All raw files should end with raw.fif, raw_sss.fif, raw_tsss.fif, raw.fif.gz, raw_sss.fif.gz, raw_tsss.fif.gz or _meg.fif\n",
      "  raw_data.save(new_subset_name, picks=['eeg'],\n"
     ]
    },
    {
     "name": "stdout",
     "output_type": "stream",
     "text": [
      "Closing /Users/robert/Desktop/School/Grad/481c/seizure-classification/training/data_subset/dev/00006546_s013_t001_start_0.0000_end_375.0000_type_bckg_eeg.fif\n",
      "[done]\n",
      "Extracting EDF parameters from /Users/robert/eeg_data/edf/dev/03_tcp_ar_a/065/00006546/s013_2011_02_18/00006546_s013_t000.edf...\n",
      "EDF file detected\n",
      "Setting channel info structure...\n",
      "Creating raw.info structure...\n",
      "Reading 0 ... 329999  =      0.000 ...   824.997 secs...\n",
      "Writing /Users/robert/Desktop/School/Grad/481c/seizure-classification/training/data_subset/dev/00006546_s013_t000_start_0.0000_end_290.0175_type_bckg_eeg.fif\n",
      "Closing /Users/robert/Desktop/School/Grad/481c/seizure-classification/training/data_subset/dev/00006546_s013_t000_start_0.0000_end_290.0175_type_bckg_eeg.fif\n",
      "[done]\n",
      "Writing /Users/robert/Desktop/School/Grad/481c/seizure-classification/training/data_subset/dev/00006546_s013_t000_start_361.0775_end_825.0000_type_bckg_eeg.fif\n",
      "Closing /Users/robert/Desktop/School/Grad/481c/seizure-classification/training/data_subset/dev/00006546_s013_t000_start_361.0775_end_825.0000_type_bckg_eeg.fif\n",
      "[done]\n",
      "Extracting EDF parameters from /Users/robert/eeg_data/edf/dev/03_tcp_ar_a/065/00006546/s013_2011_02_18/00006546_s013_t000.edf...\n",
      "EDF file detected\n",
      "Setting channel info structure...\n",
      "Creating raw.info structure...\n",
      "Reading 0 ... 329999  =      0.000 ...   824.997 secs...\n"
     ]
    },
    {
     "name": "stderr",
     "output_type": "stream",
     "text": [
      "<ipython-input-154-8c037cfb9b83>:16: RuntimeWarning: This filename (/Users/robert/Desktop/School/Grad/481c/seizure-classification/training/data_subset/dev/00006546_s013_t000_start_0.0000_end_290.0175_type_bckg_eeg.fif) does not conform to MNE naming conventions. All raw files should end with raw.fif, raw_sss.fif, raw_tsss.fif, raw.fif.gz, raw_sss.fif.gz, raw_tsss.fif.gz or _meg.fif\n",
      "  raw_data.save(new_subset_name, picks=['eeg'],\n",
      "<ipython-input-154-8c037cfb9b83>:16: RuntimeWarning: This filename (/Users/robert/Desktop/School/Grad/481c/seizure-classification/training/data_subset/dev/00006546_s013_t000_start_361.0775_end_825.0000_type_bckg_eeg.fif) does not conform to MNE naming conventions. All raw files should end with raw.fif, raw_sss.fif, raw_tsss.fif, raw.fif.gz, raw_sss.fif.gz, raw_tsss.fif.gz or _meg.fif\n",
      "  raw_data.save(new_subset_name, picks=['eeg'],\n"
     ]
    },
    {
     "name": "stdout",
     "output_type": "stream",
     "text": [
      "Writing /Users/robert/Desktop/School/Grad/481c/seizure-classification/training/data_subset/dev/00006546_s013_t000_start_290.0175_end_361.0775_type_seiz_eeg.fif\n",
      "Closing /Users/robert/Desktop/School/Grad/481c/seizure-classification/training/data_subset/dev/00006546_s013_t000_start_290.0175_end_361.0775_type_seiz_eeg.fif\n",
      "[done]\n",
      "Extracting EDF parameters from /Users/robert/eeg_data/edf/dev/03_tcp_ar_a/065/00006546/s013_2011_02_18/00006546_s013_t002.edf...\n",
      "EDF file detected\n",
      "Setting channel info structure...\n",
      "Creating raw.info structure...\n",
      "Reading 0 ... 165999  =      0.000 ...   414.998 secs...\n",
      "Writing /Users/robert/Desktop/School/Grad/481c/seizure-classification/training/data_subset/dev/00006546_s013_t002_start_0.0000_end_415.0000_type_bckg_eeg.fif\n",
      "Closing /Users/robert/Desktop/School/Grad/481c/seizure-classification/training/data_subset/dev/00006546_s013_t002_start_0.0000_end_415.0000_type_bckg_eeg.fif\n",
      "[done]\n",
      "Extracting EDF parameters from /Users/robert/eeg_data/edf/dev/03_tcp_ar_a/065/00006546/s013_2011_02_18/00006546_s013_t003.edf...\n",
      "EDF file detected\n",
      "Setting channel info structure...\n",
      "Creating raw.info structure...\n",
      "Reading 0 ... 109199  =      0.000 ...   272.998 secs...\n"
     ]
    },
    {
     "name": "stderr",
     "output_type": "stream",
     "text": [
      "<ipython-input-154-8c037cfb9b83>:30: RuntimeWarning: This filename (/Users/robert/Desktop/School/Grad/481c/seizure-classification/training/data_subset/dev/00006546_s013_t000_start_290.0175_end_361.0775_type_seiz_eeg.fif) does not conform to MNE naming conventions. All raw files should end with raw.fif, raw_sss.fif, raw_tsss.fif, raw.fif.gz, raw_sss.fif.gz, raw_tsss.fif.gz or _meg.fif\n",
      "  raw_data.save(new_subset_name, picks=['eeg'],\n",
      "<ipython-input-154-8c037cfb9b83>:16: RuntimeWarning: This filename (/Users/robert/Desktop/School/Grad/481c/seizure-classification/training/data_subset/dev/00006546_s013_t002_start_0.0000_end_415.0000_type_bckg_eeg.fif) does not conform to MNE naming conventions. All raw files should end with raw.fif, raw_sss.fif, raw_tsss.fif, raw.fif.gz, raw_sss.fif.gz, raw_tsss.fif.gz or _meg.fif\n",
      "  raw_data.save(new_subset_name, picks=['eeg'],\n"
     ]
    },
    {
     "name": "stdout",
     "output_type": "stream",
     "text": [
      "Writing /Users/robert/Desktop/School/Grad/481c/seizure-classification/training/data_subset/dev/00006546_s013_t003_start_0.0000_end_273.0000_type_bckg_eeg.fif\n",
      "Closing /Users/robert/Desktop/School/Grad/481c/seizure-classification/training/data_subset/dev/00006546_s013_t003_start_0.0000_end_273.0000_type_bckg_eeg.fif\n",
      "[done]\n",
      "Extracting EDF parameters from /Users/robert/eeg_data/edf/dev/03_tcp_ar_a/065/00006546/s016_2011_03_15/00006546_s016_t001.edf...\n",
      "EDF file detected\n",
      "Setting channel info structure...\n",
      "Creating raw.info structure...\n",
      "Reading 0 ... 253999  =      0.000 ...   634.997 secs...\n",
      "Writing /Users/robert/Desktop/School/Grad/481c/seizure-classification/training/data_subset/dev/00006546_s016_t001_start_0.0000_end_184.9425_type_bckg_eeg.fif\n"
     ]
    },
    {
     "name": "stderr",
     "output_type": "stream",
     "text": [
      "<ipython-input-154-8c037cfb9b83>:16: RuntimeWarning: This filename (/Users/robert/Desktop/School/Grad/481c/seizure-classification/training/data_subset/dev/00006546_s013_t003_start_0.0000_end_273.0000_type_bckg_eeg.fif) does not conform to MNE naming conventions. All raw files should end with raw.fif, raw_sss.fif, raw_tsss.fif, raw.fif.gz, raw_sss.fif.gz, raw_tsss.fif.gz or _meg.fif\n",
      "  raw_data.save(new_subset_name, picks=['eeg'],\n",
      "<ipython-input-154-8c037cfb9b83>:16: RuntimeWarning: This filename (/Users/robert/Desktop/School/Grad/481c/seizure-classification/training/data_subset/dev/00006546_s016_t001_start_0.0000_end_184.9425_type_bckg_eeg.fif) does not conform to MNE naming conventions. All raw files should end with raw.fif, raw_sss.fif, raw_tsss.fif, raw.fif.gz, raw_sss.fif.gz, raw_tsss.fif.gz or _meg.fif\n",
      "  raw_data.save(new_subset_name, picks=['eeg'],\n"
     ]
    },
    {
     "name": "stdout",
     "output_type": "stream",
     "text": [
      "Closing /Users/robert/Desktop/School/Grad/481c/seizure-classification/training/data_subset/dev/00006546_s016_t001_start_0.0000_end_184.9425_type_bckg_eeg.fif\n",
      "[done]\n",
      "Writing /Users/robert/Desktop/School/Grad/481c/seizure-classification/training/data_subset/dev/00006546_s016_t001_start_215.0000_end_635.0000_type_bckg_eeg.fif\n",
      "Closing /Users/robert/Desktop/School/Grad/481c/seizure-classification/training/data_subset/dev/00006546_s016_t001_start_215.0000_end_635.0000_type_bckg_eeg.fif\n",
      "[done]\n",
      "Extracting EDF parameters from /Users/robert/eeg_data/edf/dev/03_tcp_ar_a/065/00006546/s016_2011_03_15/00006546_s016_t001.edf...\n",
      "EDF file detected\n",
      "Setting channel info structure...\n",
      "Creating raw.info structure...\n",
      "Reading 0 ... 253999  =      0.000 ...   634.997 secs...\n",
      "Writing /Users/robert/Desktop/School/Grad/481c/seizure-classification/training/data_subset/dev/00006546_s016_t001_start_184.9425_end_215.0000_type_seiz_eeg.fif\n"
     ]
    },
    {
     "name": "stderr",
     "output_type": "stream",
     "text": [
      "<ipython-input-154-8c037cfb9b83>:16: RuntimeWarning: This filename (/Users/robert/Desktop/School/Grad/481c/seizure-classification/training/data_subset/dev/00006546_s016_t001_start_215.0000_end_635.0000_type_bckg_eeg.fif) does not conform to MNE naming conventions. All raw files should end with raw.fif, raw_sss.fif, raw_tsss.fif, raw.fif.gz, raw_sss.fif.gz, raw_tsss.fif.gz or _meg.fif\n",
      "  raw_data.save(new_subset_name, picks=['eeg'],\n",
      "<ipython-input-154-8c037cfb9b83>:30: RuntimeWarning: This filename (/Users/robert/Desktop/School/Grad/481c/seizure-classification/training/data_subset/dev/00006546_s016_t001_start_184.9425_end_215.0000_type_seiz_eeg.fif) does not conform to MNE naming conventions. All raw files should end with raw.fif, raw_sss.fif, raw_tsss.fif, raw.fif.gz, raw_sss.fif.gz, raw_tsss.fif.gz or _meg.fif\n",
      "  raw_data.save(new_subset_name, picks=['eeg'],\n"
     ]
    },
    {
     "name": "stdout",
     "output_type": "stream",
     "text": [
      "Closing /Users/robert/Desktop/School/Grad/481c/seizure-classification/training/data_subset/dev/00006546_s016_t001_start_184.9425_end_215.0000_type_seiz_eeg.fif\n",
      "[done]\n",
      "Extracting EDF parameters from /Users/robert/eeg_data/edf/dev/03_tcp_ar_a/065/00006546/s016_2011_03_15/00006546_s016_t000.edf...\n",
      "EDF file detected\n",
      "Setting channel info structure...\n",
      "Creating raw.info structure...\n",
      "Reading 0 ... 273999  =      0.000 ...   684.997 secs...\n",
      "Writing /Users/robert/Desktop/School/Grad/481c/seizure-classification/training/data_subset/dev/00006546_s016_t000_start_0.0000_end_294.0000_type_bckg_eeg.fif\n",
      "Closing /Users/robert/Desktop/School/Grad/481c/seizure-classification/training/data_subset/dev/00006546_s016_t000_start_0.0000_end_294.0000_type_bckg_eeg.fif\n",
      "[done]\n",
      "Writing /Users/robert/Desktop/School/Grad/481c/seizure-classification/training/data_subset/dev/00006546_s016_t000_start_314.0925_end_685.0000_type_bckg_eeg.fif\n",
      "Closing /Users/robert/Desktop/School/Grad/481c/seizure-classification/training/data_subset/dev/00006546_s016_t000_start_314.0925_end_685.0000_type_bckg_eeg.fif\n",
      "[done]\n",
      "Extracting EDF parameters from /Users/robert/eeg_data/edf/dev/03_tcp_ar_a/065/00006546/s016_2011_03_15/00006546_s016_t000.edf...\n",
      "EDF file detected\n",
      "Setting channel info structure...\n",
      "Creating raw.info structure...\n",
      "Reading 0 ... 273999  =      0.000 ...   684.997 secs...\n"
     ]
    },
    {
     "name": "stderr",
     "output_type": "stream",
     "text": [
      "<ipython-input-154-8c037cfb9b83>:16: RuntimeWarning: This filename (/Users/robert/Desktop/School/Grad/481c/seizure-classification/training/data_subset/dev/00006546_s016_t000_start_0.0000_end_294.0000_type_bckg_eeg.fif) does not conform to MNE naming conventions. All raw files should end with raw.fif, raw_sss.fif, raw_tsss.fif, raw.fif.gz, raw_sss.fif.gz, raw_tsss.fif.gz or _meg.fif\n",
      "  raw_data.save(new_subset_name, picks=['eeg'],\n",
      "<ipython-input-154-8c037cfb9b83>:16: RuntimeWarning: This filename (/Users/robert/Desktop/School/Grad/481c/seizure-classification/training/data_subset/dev/00006546_s016_t000_start_314.0925_end_685.0000_type_bckg_eeg.fif) does not conform to MNE naming conventions. All raw files should end with raw.fif, raw_sss.fif, raw_tsss.fif, raw.fif.gz, raw_sss.fif.gz, raw_tsss.fif.gz or _meg.fif\n",
      "  raw_data.save(new_subset_name, picks=['eeg'],\n"
     ]
    },
    {
     "name": "stdout",
     "output_type": "stream",
     "text": [
      "Writing /Users/robert/Desktop/School/Grad/481c/seizure-classification/training/data_subset/dev/00006546_s016_t000_start_294.0000_end_314.0925_type_seiz_eeg.fif\n",
      "Closing /Users/robert/Desktop/School/Grad/481c/seizure-classification/training/data_subset/dev/00006546_s016_t000_start_294.0000_end_314.0925_type_seiz_eeg.fif\n",
      "[done]\n",
      "Extracting EDF parameters from /Users/robert/eeg_data/edf/dev/03_tcp_ar_a/065/00006546/s012_2011_02_17/00006546_s012_t004.edf...\n",
      "EDF file detected\n",
      "Setting channel info structure...\n",
      "Creating raw.info structure...\n",
      "Reading 0 ... 165599  =      0.000 ...   413.998 secs...\n",
      "Writing /Users/robert/Desktop/School/Grad/481c/seizure-classification/training/data_subset/dev/00006546_s012_t004_start_0.0000_end_60.4525_type_bckg_eeg.fif\n",
      "Closing /Users/robert/Desktop/School/Grad/481c/seizure-classification/training/data_subset/dev/00006546_s012_t004_start_0.0000_end_60.4525_type_bckg_eeg.fif\n",
      "[done]\n",
      "Writing /Users/robert/Desktop/School/Grad/481c/seizure-classification/training/data_subset/dev/00006546_s012_t004_start_77.9900_end_414.0000_type_bckg_eeg.fif\n",
      "Closing /Users/robert/Desktop/School/Grad/481c/seizure-classification/training/data_subset/dev/00006546_s012_t004_start_77.9900_end_414.0000_type_bckg_eeg.fif\n",
      "[done]\n",
      "Extracting EDF parameters from /Users/robert/eeg_data/edf/dev/03_tcp_ar_a/065/00006546/s012_2011_02_17/00006546_s012_t004.edf...\n",
      "EDF file detected\n",
      "Setting channel info structure...\n",
      "Creating raw.info structure...\n",
      "Reading 0 ... 165599  =      0.000 ...   413.998 secs...\n"
     ]
    },
    {
     "name": "stderr",
     "output_type": "stream",
     "text": [
      "<ipython-input-154-8c037cfb9b83>:30: RuntimeWarning: This filename (/Users/robert/Desktop/School/Grad/481c/seizure-classification/training/data_subset/dev/00006546_s016_t000_start_294.0000_end_314.0925_type_seiz_eeg.fif) does not conform to MNE naming conventions. All raw files should end with raw.fif, raw_sss.fif, raw_tsss.fif, raw.fif.gz, raw_sss.fif.gz, raw_tsss.fif.gz or _meg.fif\n",
      "  raw_data.save(new_subset_name, picks=['eeg'],\n",
      "<ipython-input-154-8c037cfb9b83>:16: RuntimeWarning: This filename (/Users/robert/Desktop/School/Grad/481c/seizure-classification/training/data_subset/dev/00006546_s012_t004_start_0.0000_end_60.4525_type_bckg_eeg.fif) does not conform to MNE naming conventions. All raw files should end with raw.fif, raw_sss.fif, raw_tsss.fif, raw.fif.gz, raw_sss.fif.gz, raw_tsss.fif.gz or _meg.fif\n",
      "  raw_data.save(new_subset_name, picks=['eeg'],\n",
      "<ipython-input-154-8c037cfb9b83>:16: RuntimeWarning: This filename (/Users/robert/Desktop/School/Grad/481c/seizure-classification/training/data_subset/dev/00006546_s012_t004_start_77.9900_end_414.0000_type_bckg_eeg.fif) does not conform to MNE naming conventions. All raw files should end with raw.fif, raw_sss.fif, raw_tsss.fif, raw.fif.gz, raw_sss.fif.gz, raw_tsss.fif.gz or _meg.fif\n",
      "  raw_data.save(new_subset_name, picks=['eeg'],\n"
     ]
    },
    {
     "name": "stdout",
     "output_type": "stream",
     "text": [
      "Writing /Users/robert/Desktop/School/Grad/481c/seizure-classification/training/data_subset/dev/00006546_s012_t004_start_60.4525_end_77.9900_type_seiz_eeg.fif\n",
      "Closing /Users/robert/Desktop/School/Grad/481c/seizure-classification/training/data_subset/dev/00006546_s012_t004_start_60.4525_end_77.9900_type_seiz_eeg.fif\n",
      "[done]\n",
      "Extracting EDF parameters from /Users/robert/eeg_data/edf/dev/03_tcp_ar_a/065/00006546/s012_2011_02_17/00006546_s012_t001.edf...\n",
      "EDF file detected\n",
      "Setting channel info structure...\n",
      "Creating raw.info structure...\n",
      "Reading 0 ... 177999  =      0.000 ...   444.998 secs...\n",
      "Writing /Users/robert/Desktop/School/Grad/481c/seizure-classification/training/data_subset/dev/00006546_s012_t001_start_0.0000_end_445.0000_type_bckg_eeg.fif\n",
      "Closing /Users/robert/Desktop/School/Grad/481c/seizure-classification/training/data_subset/dev/00006546_s012_t001_start_0.0000_end_445.0000_type_bckg_eeg.fif\n",
      "[done]\n",
      "Extracting EDF parameters from /Users/robert/eeg_data/edf/dev/03_tcp_ar_a/065/00006546/s012_2011_02_17/00006546_s012_t000.edf...\n",
      "EDF file detected\n",
      "Setting channel info structure...\n",
      "Creating raw.info structure...\n",
      "Reading 0 ... 189999  =      0.000 ...   474.998 secs...\n"
     ]
    },
    {
     "name": "stderr",
     "output_type": "stream",
     "text": [
      "<ipython-input-154-8c037cfb9b83>:30: RuntimeWarning: This filename (/Users/robert/Desktop/School/Grad/481c/seizure-classification/training/data_subset/dev/00006546_s012_t004_start_60.4525_end_77.9900_type_seiz_eeg.fif) does not conform to MNE naming conventions. All raw files should end with raw.fif, raw_sss.fif, raw_tsss.fif, raw.fif.gz, raw_sss.fif.gz, raw_tsss.fif.gz or _meg.fif\n",
      "  raw_data.save(new_subset_name, picks=['eeg'],\n",
      "<ipython-input-154-8c037cfb9b83>:16: RuntimeWarning: This filename (/Users/robert/Desktop/School/Grad/481c/seizure-classification/training/data_subset/dev/00006546_s012_t001_start_0.0000_end_445.0000_type_bckg_eeg.fif) does not conform to MNE naming conventions. All raw files should end with raw.fif, raw_sss.fif, raw_tsss.fif, raw.fif.gz, raw_sss.fif.gz, raw_tsss.fif.gz or _meg.fif\n",
      "  raw_data.save(new_subset_name, picks=['eeg'],\n"
     ]
    },
    {
     "name": "stdout",
     "output_type": "stream",
     "text": [
      "Writing /Users/robert/Desktop/School/Grad/481c/seizure-classification/training/data_subset/dev/00006546_s012_t000_start_0.0000_end_475.0000_type_bckg_eeg.fif\n",
      "Closing /Users/robert/Desktop/School/Grad/481c/seizure-classification/training/data_subset/dev/00006546_s012_t000_start_0.0000_end_475.0000_type_bckg_eeg.fif\n",
      "[done]\n",
      "Extracting EDF parameters from /Users/robert/eeg_data/edf/dev/03_tcp_ar_a/065/00006546/s012_2011_02_17/00006546_s012_t002.edf...\n",
      "EDF file detected\n",
      "Setting channel info structure...\n",
      "Creating raw.info structure...\n",
      "Reading 0 ... 157999  =      0.000 ...   394.998 secs...\n",
      "Writing /Users/robert/Desktop/School/Grad/481c/seizure-classification/training/data_subset/dev/00006546_s012_t002_start_0.0000_end_395.0000_type_bckg_eeg.fif\n"
     ]
    },
    {
     "name": "stderr",
     "output_type": "stream",
     "text": [
      "<ipython-input-154-8c037cfb9b83>:16: RuntimeWarning: This filename (/Users/robert/Desktop/School/Grad/481c/seizure-classification/training/data_subset/dev/00006546_s012_t000_start_0.0000_end_475.0000_type_bckg_eeg.fif) does not conform to MNE naming conventions. All raw files should end with raw.fif, raw_sss.fif, raw_tsss.fif, raw.fif.gz, raw_sss.fif.gz, raw_tsss.fif.gz or _meg.fif\n",
      "  raw_data.save(new_subset_name, picks=['eeg'],\n",
      "<ipython-input-154-8c037cfb9b83>:16: RuntimeWarning: This filename (/Users/robert/Desktop/School/Grad/481c/seizure-classification/training/data_subset/dev/00006546_s012_t002_start_0.0000_end_395.0000_type_bckg_eeg.fif) does not conform to MNE naming conventions. All raw files should end with raw.fif, raw_sss.fif, raw_tsss.fif, raw.fif.gz, raw_sss.fif.gz, raw_tsss.fif.gz or _meg.fif\n",
      "  raw_data.save(new_subset_name, picks=['eeg'],\n"
     ]
    },
    {
     "name": "stdout",
     "output_type": "stream",
     "text": [
      "Closing /Users/robert/Desktop/School/Grad/481c/seizure-classification/training/data_subset/dev/00006546_s012_t002_start_0.0000_end_395.0000_type_bckg_eeg.fif\n",
      "[done]\n",
      "Extracting EDF parameters from /Users/robert/eeg_data/edf/dev/03_tcp_ar_a/065/00006546/s012_2011_02_17/00006546_s012_t003.edf...\n",
      "EDF file detected\n",
      "Setting channel info structure...\n",
      "Creating raw.info structure...\n",
      "Reading 0 ... 165999  =      0.000 ...   414.998 secs...\n",
      "Writing /Users/robert/Desktop/School/Grad/481c/seizure-classification/training/data_subset/dev/00006546_s012_t003_start_0.0000_end_415.0000_type_bckg_eeg.fif\n",
      "Closing /Users/robert/Desktop/School/Grad/481c/seizure-classification/training/data_subset/dev/00006546_s012_t003_start_0.0000_end_415.0000_type_bckg_eeg.fif\n",
      "[done]\n",
      "Extracting EDF parameters from /Users/robert/eeg_data/edf/dev/03_tcp_ar_a/054/00005479/s005_2011_01_05/00005479_s005_t007.edf...\n",
      "EDF file detected\n",
      "Setting channel info structure...\n",
      "Creating raw.info structure...\n",
      "Reading 0 ... 249999  =      0.000 ...   624.997 secs...\n",
      "Writing /Users/robert/Desktop/School/Grad/481c/seizure-classification/training/data_subset/dev/00005479_s005_t007_start_0.0000_end_78.0150_type_bckg_eeg.fif\n",
      "Closing /Users/robert/Desktop/School/Grad/481c/seizure-classification/training/data_subset/dev/00005479_s005_t007_start_0.0000_end_78.0150_type_bckg_eeg.fif\n",
      "[done]\n",
      "Writing /Users/robert/Desktop/School/Grad/481c/seizure-classification/training/data_subset/dev/00005479_s005_t007_start_93.3269_end_483.9920_type_bckg_eeg.fif\n"
     ]
    },
    {
     "name": "stderr",
     "output_type": "stream",
     "text": [
      "<ipython-input-154-8c037cfb9b83>:16: RuntimeWarning: This filename (/Users/robert/Desktop/School/Grad/481c/seizure-classification/training/data_subset/dev/00006546_s012_t003_start_0.0000_end_415.0000_type_bckg_eeg.fif) does not conform to MNE naming conventions. All raw files should end with raw.fif, raw_sss.fif, raw_tsss.fif, raw.fif.gz, raw_sss.fif.gz, raw_tsss.fif.gz or _meg.fif\n",
      "  raw_data.save(new_subset_name, picks=['eeg'],\n",
      "<ipython-input-154-8c037cfb9b83>:16: RuntimeWarning: This filename (/Users/robert/Desktop/School/Grad/481c/seizure-classification/training/data_subset/dev/00005479_s005_t007_start_0.0000_end_78.0150_type_bckg_eeg.fif) does not conform to MNE naming conventions. All raw files should end with raw.fif, raw_sss.fif, raw_tsss.fif, raw.fif.gz, raw_sss.fif.gz, raw_tsss.fif.gz or _meg.fif\n",
      "  raw_data.save(new_subset_name, picks=['eeg'],\n",
      "<ipython-input-154-8c037cfb9b83>:16: RuntimeWarning: This filename (/Users/robert/Desktop/School/Grad/481c/seizure-classification/training/data_subset/dev/00005479_s005_t007_start_93.3269_end_483.9920_type_bckg_eeg.fif) does not conform to MNE naming conventions. All raw files should end with raw.fif, raw_sss.fif, raw_tsss.fif, raw.fif.gz, raw_sss.fif.gz, raw_tsss.fif.gz or _meg.fif\n",
      "  raw_data.save(new_subset_name, picks=['eeg'],\n"
     ]
    },
    {
     "name": "stdout",
     "output_type": "stream",
     "text": [
      "Closing /Users/robert/Desktop/School/Grad/481c/seizure-classification/training/data_subset/dev/00005479_s005_t007_start_93.3269_end_483.9920_type_bckg_eeg.fif\n",
      "[done]\n",
      "Writing /Users/robert/Desktop/School/Grad/481c/seizure-classification/training/data_subset/dev/00005479_s005_t007_start_510.5850_end_625.0000_type_bckg_eeg.fif\n",
      "Closing /Users/robert/Desktop/School/Grad/481c/seizure-classification/training/data_subset/dev/00005479_s005_t007_start_510.5850_end_625.0000_type_bckg_eeg.fif\n",
      "[done]\n",
      "Extracting EDF parameters from /Users/robert/eeg_data/edf/dev/03_tcp_ar_a/054/00005479/s005_2011_01_05/00005479_s005_t007.edf...\n",
      "EDF file detected\n",
      "Setting channel info structure...\n",
      "Creating raw.info structure...\n",
      "Reading 0 ... 249999  =      0.000 ...   624.997 secs...\n",
      "Writing /Users/robert/Desktop/School/Grad/481c/seizure-classification/training/data_subset/dev/00005479_s005_t007_start_78.0150_end_93.3269_type_seiz_eeg.fif\n",
      "Closing /Users/robert/Desktop/School/Grad/481c/seizure-classification/training/data_subset/dev/00005479_s005_t007_start_78.0150_end_93.3269_type_seiz_eeg.fif\n",
      "[done]\n",
      "Writing /Users/robert/Desktop/School/Grad/481c/seizure-classification/training/data_subset/dev/00005479_s005_t007_start_483.9920_end_510.5850_type_seiz_eeg.fif\n",
      "Closing /Users/robert/Desktop/School/Grad/481c/seizure-classification/training/data_subset/dev/00005479_s005_t007_start_483.9920_end_510.5850_type_seiz_eeg.fif\n",
      "[done]\n",
      "Extracting EDF parameters from /Users/robert/eeg_data/edf/dev/03_tcp_ar_a/054/00005479/s005_2011_01_05/00005479_s005_t006.edf...\n",
      "EDF file detected\n",
      "Setting channel info structure...\n",
      "Creating raw.info structure...\n",
      "Reading 0 ... 101999  =      0.000 ...   254.998 secs...\n"
     ]
    },
    {
     "name": "stderr",
     "output_type": "stream",
     "text": [
      "<ipython-input-154-8c037cfb9b83>:16: RuntimeWarning: This filename (/Users/robert/Desktop/School/Grad/481c/seizure-classification/training/data_subset/dev/00005479_s005_t007_start_510.5850_end_625.0000_type_bckg_eeg.fif) does not conform to MNE naming conventions. All raw files should end with raw.fif, raw_sss.fif, raw_tsss.fif, raw.fif.gz, raw_sss.fif.gz, raw_tsss.fif.gz or _meg.fif\n",
      "  raw_data.save(new_subset_name, picks=['eeg'],\n",
      "<ipython-input-154-8c037cfb9b83>:30: RuntimeWarning: This filename (/Users/robert/Desktop/School/Grad/481c/seizure-classification/training/data_subset/dev/00005479_s005_t007_start_78.0150_end_93.3269_type_seiz_eeg.fif) does not conform to MNE naming conventions. All raw files should end with raw.fif, raw_sss.fif, raw_tsss.fif, raw.fif.gz, raw_sss.fif.gz, raw_tsss.fif.gz or _meg.fif\n",
      "  raw_data.save(new_subset_name, picks=['eeg'],\n",
      "<ipython-input-154-8c037cfb9b83>:30: RuntimeWarning: This filename (/Users/robert/Desktop/School/Grad/481c/seizure-classification/training/data_subset/dev/00005479_s005_t007_start_483.9920_end_510.5850_type_seiz_eeg.fif) does not conform to MNE naming conventions. All raw files should end with raw.fif, raw_sss.fif, raw_tsss.fif, raw.fif.gz, raw_sss.fif.gz, raw_tsss.fif.gz or _meg.fif\n",
      "  raw_data.save(new_subset_name, picks=['eeg'],\n"
     ]
    },
    {
     "name": "stdout",
     "output_type": "stream",
     "text": [
      "Writing /Users/robert/Desktop/School/Grad/481c/seizure-classification/training/data_subset/dev/00005479_s005_t006_start_0.0000_end_34.1712_type_bckg_eeg.fif\n",
      "Closing /Users/robert/Desktop/School/Grad/481c/seizure-classification/training/data_subset/dev/00005479_s005_t006_start_0.0000_end_34.1712_type_bckg_eeg.fif\n",
      "[done]\n",
      "Writing /Users/robert/Desktop/School/Grad/481c/seizure-classification/training/data_subset/dev/00005479_s005_t006_start_63.1263_end_255.0000_type_bckg_eeg.fif\n",
      "Closing /Users/robert/Desktop/School/Grad/481c/seizure-classification/training/data_subset/dev/00005479_s005_t006_start_63.1263_end_255.0000_type_bckg_eeg.fif\n",
      "[done]\n",
      "Extracting EDF parameters from /Users/robert/eeg_data/edf/dev/03_tcp_ar_a/054/00005479/s005_2011_01_05/00005479_s005_t006.edf...\n",
      "EDF file detected\n",
      "Setting channel info structure...\n",
      "Creating raw.info structure...\n",
      "Reading 0 ... 101999  =      0.000 ...   254.998 secs...\n",
      "Writing /Users/robert/Desktop/School/Grad/481c/seizure-classification/training/data_subset/dev/00005479_s005_t006_start_34.1712_end_63.1263_type_seiz_eeg.fif\n",
      "Closing /Users/robert/Desktop/School/Grad/481c/seizure-classification/training/data_subset/dev/00005479_s005_t006_start_34.1712_end_63.1263_type_seiz_eeg.fif\n",
      "[done]\n",
      "Extracting EDF parameters from /Users/robert/eeg_data/edf/dev/03_tcp_ar_a/054/00005479/s005_2011_01_05/00005479_s005_t004.edf...\n",
      "EDF file detected\n",
      "Setting channel info structure...\n",
      "Creating raw.info structure...\n",
      "Reading 0 ... 145599  =      0.000 ...   363.998 secs...\n"
     ]
    },
    {
     "name": "stderr",
     "output_type": "stream",
     "text": [
      "<ipython-input-154-8c037cfb9b83>:16: RuntimeWarning: This filename (/Users/robert/Desktop/School/Grad/481c/seizure-classification/training/data_subset/dev/00005479_s005_t006_start_0.0000_end_34.1712_type_bckg_eeg.fif) does not conform to MNE naming conventions. All raw files should end with raw.fif, raw_sss.fif, raw_tsss.fif, raw.fif.gz, raw_sss.fif.gz, raw_tsss.fif.gz or _meg.fif\n",
      "  raw_data.save(new_subset_name, picks=['eeg'],\n",
      "<ipython-input-154-8c037cfb9b83>:16: RuntimeWarning: This filename (/Users/robert/Desktop/School/Grad/481c/seizure-classification/training/data_subset/dev/00005479_s005_t006_start_63.1263_end_255.0000_type_bckg_eeg.fif) does not conform to MNE naming conventions. All raw files should end with raw.fif, raw_sss.fif, raw_tsss.fif, raw.fif.gz, raw_sss.fif.gz, raw_tsss.fif.gz or _meg.fif\n",
      "  raw_data.save(new_subset_name, picks=['eeg'],\n",
      "<ipython-input-154-8c037cfb9b83>:30: RuntimeWarning: This filename (/Users/robert/Desktop/School/Grad/481c/seizure-classification/training/data_subset/dev/00005479_s005_t006_start_34.1712_end_63.1263_type_seiz_eeg.fif) does not conform to MNE naming conventions. All raw files should end with raw.fif, raw_sss.fif, raw_tsss.fif, raw.fif.gz, raw_sss.fif.gz, raw_tsss.fif.gz or _meg.fif\n",
      "  raw_data.save(new_subset_name, picks=['eeg'],\n"
     ]
    },
    {
     "name": "stdout",
     "output_type": "stream",
     "text": [
      "Writing /Users/robert/Desktop/School/Grad/481c/seizure-classification/training/data_subset/dev/00005479_s005_t004_start_0.0000_end_118.8411_type_bckg_eeg.fif\n",
      "Closing /Users/robert/Desktop/School/Grad/481c/seizure-classification/training/data_subset/dev/00005479_s005_t004_start_0.0000_end_118.8411_type_bckg_eeg.fif\n",
      "[done]\n",
      "Writing /Users/robert/Desktop/School/Grad/481c/seizure-classification/training/data_subset/dev/00005479_s005_t004_start_128.8999_end_364.0000_type_bckg_eeg.fif\n",
      "Closing /Users/robert/Desktop/School/Grad/481c/seizure-classification/training/data_subset/dev/00005479_s005_t004_start_128.8999_end_364.0000_type_bckg_eeg.fif\n",
      "[done]\n",
      "Extracting EDF parameters from /Users/robert/eeg_data/edf/dev/03_tcp_ar_a/054/00005479/s005_2011_01_05/00005479_s005_t004.edf...\n",
      "EDF file detected\n",
      "Setting channel info structure...\n",
      "Creating raw.info structure...\n",
      "Reading 0 ... 145599  =      0.000 ...   363.998 secs...\n",
      "Writing /Users/robert/Desktop/School/Grad/481c/seizure-classification/training/data_subset/dev/00005479_s005_t004_start_118.8411_end_128.8999_type_seiz_eeg.fif\n",
      "Closing /Users/robert/Desktop/School/Grad/481c/seizure-classification/training/data_subset/dev/00005479_s005_t004_start_118.8411_end_128.8999_type_seiz_eeg.fif\n",
      "[done]\n",
      "Extracting EDF parameters from /Users/robert/eeg_data/edf/dev/03_tcp_ar_a/054/00005479/s005_2011_01_05/00005479_s005_t005.edf...\n",
      "EDF file detected\n",
      "Setting channel info structure...\n",
      "Creating raw.info structure...\n",
      "Reading 0 ... 129999  =      0.000 ...   324.998 secs...\n"
     ]
    },
    {
     "name": "stderr",
     "output_type": "stream",
     "text": [
      "<ipython-input-154-8c037cfb9b83>:16: RuntimeWarning: This filename (/Users/robert/Desktop/School/Grad/481c/seizure-classification/training/data_subset/dev/00005479_s005_t004_start_0.0000_end_118.8411_type_bckg_eeg.fif) does not conform to MNE naming conventions. All raw files should end with raw.fif, raw_sss.fif, raw_tsss.fif, raw.fif.gz, raw_sss.fif.gz, raw_tsss.fif.gz or _meg.fif\n",
      "  raw_data.save(new_subset_name, picks=['eeg'],\n",
      "<ipython-input-154-8c037cfb9b83>:16: RuntimeWarning: This filename (/Users/robert/Desktop/School/Grad/481c/seizure-classification/training/data_subset/dev/00005479_s005_t004_start_128.8999_end_364.0000_type_bckg_eeg.fif) does not conform to MNE naming conventions. All raw files should end with raw.fif, raw_sss.fif, raw_tsss.fif, raw.fif.gz, raw_sss.fif.gz, raw_tsss.fif.gz or _meg.fif\n",
      "  raw_data.save(new_subset_name, picks=['eeg'],\n",
      "<ipython-input-154-8c037cfb9b83>:30: RuntimeWarning: This filename (/Users/robert/Desktop/School/Grad/481c/seizure-classification/training/data_subset/dev/00005479_s005_t004_start_118.8411_end_128.8999_type_seiz_eeg.fif) does not conform to MNE naming conventions. All raw files should end with raw.fif, raw_sss.fif, raw_tsss.fif, raw.fif.gz, raw_sss.fif.gz, raw_tsss.fif.gz or _meg.fif\n",
      "  raw_data.save(new_subset_name, picks=['eeg'],\n",
      "<ipython-input-154-8c037cfb9b83>:16: RuntimeWarning: This filename (/Users/robert/Desktop/School/Grad/481c/seizure-classification/training/data_subset/dev/00005479_s005_t005_start_0.0000_end_86.5164_type_bckg_eeg.fif) does not conform to MNE naming conventions. All raw files should end with raw.fif, raw_sss.fif, raw_tsss.fif, raw.fif.gz, raw_sss.fif.gz, raw_tsss.fif.gz or _meg.fif\n",
      "  raw_data.save(new_subset_name, picks=['eeg'],\n"
     ]
    },
    {
     "name": "stdout",
     "output_type": "stream",
     "text": [
      "Writing /Users/robert/Desktop/School/Grad/481c/seizure-classification/training/data_subset/dev/00005479_s005_t005_start_0.0000_end_86.5164_type_bckg_eeg.fif\n",
      "Closing /Users/robert/Desktop/School/Grad/481c/seizure-classification/training/data_subset/dev/00005479_s005_t005_start_0.0000_end_86.5164_type_bckg_eeg.fif\n",
      "[done]\n",
      "Writing /Users/robert/Desktop/School/Grad/481c/seizure-classification/training/data_subset/dev/00005479_s005_t005_start_109.3394_end_325.0000_type_bckg_eeg.fif\n",
      "Closing /Users/robert/Desktop/School/Grad/481c/seizure-classification/training/data_subset/dev/00005479_s005_t005_start_109.3394_end_325.0000_type_bckg_eeg.fif\n",
      "[done]\n",
      "Extracting EDF parameters from /Users/robert/eeg_data/edf/dev/03_tcp_ar_a/054/00005479/s005_2011_01_05/00005479_s005_t005.edf...\n",
      "EDF file detected\n",
      "Setting channel info structure...\n",
      "Creating raw.info structure...\n",
      "Reading 0 ... 129999  =      0.000 ...   324.998 secs...\n",
      "Writing /Users/robert/Desktop/School/Grad/481c/seizure-classification/training/data_subset/dev/00005479_s005_t005_start_86.5164_end_109.3394_type_seiz_eeg.fif\n",
      "Closing /Users/robert/Desktop/School/Grad/481c/seizure-classification/training/data_subset/dev/00005479_s005_t005_start_86.5164_end_109.3394_type_seiz_eeg.fif\n",
      "[done]\n",
      "Extracting EDF parameters from /Users/robert/eeg_data/edf/dev/03_tcp_ar_a/054/00005479/s005_2011_01_05/00005479_s005_t001.edf...\n",
      "EDF file detected\n",
      "Setting channel info structure...\n",
      "Creating raw.info structure...\n",
      "Reading 0 ... 181999  =      0.000 ...   454.998 secs...\n",
      "Writing /Users/robert/Desktop/School/Grad/481c/seizure-classification/training/data_subset/dev/00005479_s005_t001_start_0.0000_end_455.0000_type_bckg_eeg.fif\n"
     ]
    },
    {
     "name": "stderr",
     "output_type": "stream",
     "text": [
      "<ipython-input-154-8c037cfb9b83>:16: RuntimeWarning: This filename (/Users/robert/Desktop/School/Grad/481c/seizure-classification/training/data_subset/dev/00005479_s005_t005_start_109.3394_end_325.0000_type_bckg_eeg.fif) does not conform to MNE naming conventions. All raw files should end with raw.fif, raw_sss.fif, raw_tsss.fif, raw.fif.gz, raw_sss.fif.gz, raw_tsss.fif.gz or _meg.fif\n",
      "  raw_data.save(new_subset_name, picks=['eeg'],\n",
      "<ipython-input-154-8c037cfb9b83>:30: RuntimeWarning: This filename (/Users/robert/Desktop/School/Grad/481c/seizure-classification/training/data_subset/dev/00005479_s005_t005_start_86.5164_end_109.3394_type_seiz_eeg.fif) does not conform to MNE naming conventions. All raw files should end with raw.fif, raw_sss.fif, raw_tsss.fif, raw.fif.gz, raw_sss.fif.gz, raw_tsss.fif.gz or _meg.fif\n",
      "  raw_data.save(new_subset_name, picks=['eeg'],\n",
      "<ipython-input-154-8c037cfb9b83>:16: RuntimeWarning: This filename (/Users/robert/Desktop/School/Grad/481c/seizure-classification/training/data_subset/dev/00005479_s005_t001_start_0.0000_end_455.0000_type_bckg_eeg.fif) does not conform to MNE naming conventions. All raw files should end with raw.fif, raw_sss.fif, raw_tsss.fif, raw.fif.gz, raw_sss.fif.gz, raw_tsss.fif.gz or _meg.fif\n",
      "  raw_data.save(new_subset_name, picks=['eeg'],\n"
     ]
    },
    {
     "name": "stdout",
     "output_type": "stream",
     "text": [
      "Closing /Users/robert/Desktop/School/Grad/481c/seizure-classification/training/data_subset/dev/00005479_s005_t001_start_0.0000_end_455.0000_type_bckg_eeg.fif\n",
      "[done]\n",
      "Extracting EDF parameters from /Users/robert/eeg_data/edf/dev/03_tcp_ar_a/054/00005479/s005_2011_01_05/00005479_s005_t000.edf...\n",
      "EDF file detected\n",
      "Setting channel info structure...\n",
      "Creating raw.info structure...\n",
      "Reading 0 ... 157999  =      0.000 ...   394.998 secs...\n",
      "Writing /Users/robert/Desktop/School/Grad/481c/seizure-classification/training/data_subset/dev/00005479_s005_t000_start_0.0000_end_395.0000_type_bckg_eeg.fif\n",
      "Closing /Users/robert/Desktop/School/Grad/481c/seizure-classification/training/data_subset/dev/00005479_s005_t000_start_0.0000_end_395.0000_type_bckg_eeg.fif\n",
      "[done]\n",
      "Extracting EDF parameters from /Users/robert/eeg_data/edf/dev/03_tcp_ar_a/054/00005479/s005_2011_01_05/00005479_s005_t002.edf...\n",
      "EDF file detected\n",
      "Setting channel info structure...\n",
      "Creating raw.info structure...\n",
      "Reading 0 ... 169999  =      0.000 ...   424.998 secs...\n",
      "Writing /Users/robert/Desktop/School/Grad/481c/seizure-classification/training/data_subset/dev/00005479_s005_t002_start_0.0000_end_100.7699_type_bckg_eeg.fif\n",
      "Closing /Users/robert/Desktop/School/Grad/481c/seizure-classification/training/data_subset/dev/00005479_s005_t002_start_0.0000_end_100.7699_type_bckg_eeg.fif\n",
      "[done]\n",
      "Writing /Users/robert/Desktop/School/Grad/481c/seizure-classification/training/data_subset/dev/00005479_s005_t002_start_134.9999_end_425.0000_type_bckg_eeg.fif\n"
     ]
    },
    {
     "name": "stderr",
     "output_type": "stream",
     "text": [
      "<ipython-input-154-8c037cfb9b83>:16: RuntimeWarning: This filename (/Users/robert/Desktop/School/Grad/481c/seizure-classification/training/data_subset/dev/00005479_s005_t000_start_0.0000_end_395.0000_type_bckg_eeg.fif) does not conform to MNE naming conventions. All raw files should end with raw.fif, raw_sss.fif, raw_tsss.fif, raw.fif.gz, raw_sss.fif.gz, raw_tsss.fif.gz or _meg.fif\n",
      "  raw_data.save(new_subset_name, picks=['eeg'],\n",
      "<ipython-input-154-8c037cfb9b83>:16: RuntimeWarning: This filename (/Users/robert/Desktop/School/Grad/481c/seizure-classification/training/data_subset/dev/00005479_s005_t002_start_0.0000_end_100.7699_type_bckg_eeg.fif) does not conform to MNE naming conventions. All raw files should end with raw.fif, raw_sss.fif, raw_tsss.fif, raw.fif.gz, raw_sss.fif.gz, raw_tsss.fif.gz or _meg.fif\n",
      "  raw_data.save(new_subset_name, picks=['eeg'],\n",
      "<ipython-input-154-8c037cfb9b83>:16: RuntimeWarning: This filename (/Users/robert/Desktop/School/Grad/481c/seizure-classification/training/data_subset/dev/00005479_s005_t002_start_134.9999_end_425.0000_type_bckg_eeg.fif) does not conform to MNE naming conventions. All raw files should end with raw.fif, raw_sss.fif, raw_tsss.fif, raw.fif.gz, raw_sss.fif.gz, raw_tsss.fif.gz or _meg.fif\n",
      "  raw_data.save(new_subset_name, picks=['eeg'],\n"
     ]
    },
    {
     "name": "stdout",
     "output_type": "stream",
     "text": [
      "Closing /Users/robert/Desktop/School/Grad/481c/seizure-classification/training/data_subset/dev/00005479_s005_t002_start_134.9999_end_425.0000_type_bckg_eeg.fif\n",
      "[done]\n",
      "Extracting EDF parameters from /Users/robert/eeg_data/edf/dev/03_tcp_ar_a/054/00005479/s005_2011_01_05/00005479_s005_t002.edf...\n",
      "EDF file detected\n",
      "Setting channel info structure...\n",
      "Creating raw.info structure...\n",
      "Reading 0 ... 169999  =      0.000 ...   424.998 secs...\n",
      "Writing /Users/robert/Desktop/School/Grad/481c/seizure-classification/training/data_subset/dev/00005479_s005_t002_start_100.7699_end_134.9999_type_seiz_eeg.fif\n",
      "Closing /Users/robert/Desktop/School/Grad/481c/seizure-classification/training/data_subset/dev/00005479_s005_t002_start_100.7699_end_134.9999_type_seiz_eeg.fif\n",
      "[done]\n",
      "Extracting EDF parameters from /Users/robert/eeg_data/edf/dev/03_tcp_ar_a/054/00005479/s005_2011_01_05/00005479_s005_t003.edf...\n",
      "EDF file detected\n",
      "Setting channel info structure...\n",
      "Creating raw.info structure...\n",
      "Reading 0 ... 169999  =      0.000 ...   424.998 secs...\n",
      "Writing /Users/robert/Desktop/School/Grad/481c/seizure-classification/training/data_subset/dev/00005479_s005_t003_start_0.0000_end_100.7034_type_bckg_eeg.fif\n",
      "Closing /Users/robert/Desktop/School/Grad/481c/seizure-classification/training/data_subset/dev/00005479_s005_t003_start_0.0000_end_100.7034_type_bckg_eeg.fif\n",
      "[done]\n",
      "Writing /Users/robert/Desktop/School/Grad/481c/seizure-classification/training/data_subset/dev/00005479_s005_t003_start_150.7234_end_425.0000_type_bckg_eeg.fif\n",
      "Closing /Users/robert/Desktop/School/Grad/481c/seizure-classification/training/data_subset/dev/00005479_s005_t003_start_150.7234_end_425.0000_type_bckg_eeg.fif\n",
      "[done]\n",
      "Extracting EDF parameters from /Users/robert/eeg_data/edf/dev/03_tcp_ar_a/054/00005479/s005_2011_01_05/00005479_s005_t003.edf...\n",
      "EDF file detected\n",
      "Setting channel info structure...\n",
      "Creating raw.info structure...\n",
      "Reading 0 ... 169999  =      0.000 ...   424.998 secs...\n"
     ]
    },
    {
     "name": "stderr",
     "output_type": "stream",
     "text": [
      "<ipython-input-154-8c037cfb9b83>:30: RuntimeWarning: This filename (/Users/robert/Desktop/School/Grad/481c/seizure-classification/training/data_subset/dev/00005479_s005_t002_start_100.7699_end_134.9999_type_seiz_eeg.fif) does not conform to MNE naming conventions. All raw files should end with raw.fif, raw_sss.fif, raw_tsss.fif, raw.fif.gz, raw_sss.fif.gz, raw_tsss.fif.gz or _meg.fif\n",
      "  raw_data.save(new_subset_name, picks=['eeg'],\n",
      "<ipython-input-154-8c037cfb9b83>:16: RuntimeWarning: This filename (/Users/robert/Desktop/School/Grad/481c/seizure-classification/training/data_subset/dev/00005479_s005_t003_start_0.0000_end_100.7034_type_bckg_eeg.fif) does not conform to MNE naming conventions. All raw files should end with raw.fif, raw_sss.fif, raw_tsss.fif, raw.fif.gz, raw_sss.fif.gz, raw_tsss.fif.gz or _meg.fif\n",
      "  raw_data.save(new_subset_name, picks=['eeg'],\n",
      "<ipython-input-154-8c037cfb9b83>:16: RuntimeWarning: This filename (/Users/robert/Desktop/School/Grad/481c/seizure-classification/training/data_subset/dev/00005479_s005_t003_start_150.7234_end_425.0000_type_bckg_eeg.fif) does not conform to MNE naming conventions. All raw files should end with raw.fif, raw_sss.fif, raw_tsss.fif, raw.fif.gz, raw_sss.fif.gz, raw_tsss.fif.gz or _meg.fif\n",
      "  raw_data.save(new_subset_name, picks=['eeg'],\n"
     ]
    },
    {
     "name": "stdout",
     "output_type": "stream",
     "text": [
      "Writing /Users/robert/Desktop/School/Grad/481c/seizure-classification/training/data_subset/dev/00005479_s005_t003_start_100.7034_end_150.7234_type_seiz_eeg.fif\n",
      "Closing /Users/robert/Desktop/School/Grad/481c/seizure-classification/training/data_subset/dev/00005479_s005_t003_start_100.7034_end_150.7234_type_seiz_eeg.fif\n",
      "[done]\n",
      "Extracting EDF parameters from /Users/robert/eeg_data/edf/dev/03_tcp_ar_a/054/00005479/s005_2011_01_05/00005479_s005_t008.edf...\n",
      "EDF file detected\n",
      "Setting channel info structure...\n",
      "Creating raw.info structure...\n",
      "Reading 0 ... 101999  =      0.000 ...   254.998 secs...\n",
      "Writing /Users/robert/Desktop/School/Grad/481c/seizure-classification/training/data_subset/dev/00005479_s005_t008_start_0.0000_end_71.7227_type_bckg_eeg.fif\n",
      "Closing /Users/robert/Desktop/School/Grad/481c/seizure-classification/training/data_subset/dev/00005479_s005_t008_start_0.0000_end_71.7227_type_bckg_eeg.fif\n",
      "[done]\n",
      "Writing /Users/robert/Desktop/School/Grad/481c/seizure-classification/training/data_subset/dev/00005479_s005_t008_start_92.6299_end_255.0000_type_bckg_eeg.fif\n",
      "Closing /Users/robert/Desktop/School/Grad/481c/seizure-classification/training/data_subset/dev/00005479_s005_t008_start_92.6299_end_255.0000_type_bckg_eeg.fif\n",
      "[done]\n",
      "Extracting EDF parameters from /Users/robert/eeg_data/edf/dev/03_tcp_ar_a/054/00005479/s005_2011_01_05/00005479_s005_t008.edf...\n",
      "EDF file detected\n",
      "Setting channel info structure...\n",
      "Creating raw.info structure...\n",
      "Reading 0 ... 101999  =      0.000 ...   254.998 secs...\n",
      "Writing /Users/robert/Desktop/School/Grad/481c/seizure-classification/training/data_subset/dev/00005479_s005_t008_start_71.7227_end_92.6299_type_seiz_eeg.fif\n",
      "Closing /Users/robert/Desktop/School/Grad/481c/seizure-classification/training/data_subset/dev/00005479_s005_t008_start_71.7227_end_92.6299_type_seiz_eeg.fif\n",
      "[done]\n",
      "Extracting EDF parameters from /Users/robert/eeg_data/edf/dev/03_tcp_ar_a/054/00005479/s005_2011_01_05/00005479_s005_t009.edf...\n",
      "EDF file detected\n",
      "Setting channel info structure...\n"
     ]
    },
    {
     "name": "stderr",
     "output_type": "stream",
     "text": [
      "<ipython-input-154-8c037cfb9b83>:30: RuntimeWarning: This filename (/Users/robert/Desktop/School/Grad/481c/seizure-classification/training/data_subset/dev/00005479_s005_t003_start_100.7034_end_150.7234_type_seiz_eeg.fif) does not conform to MNE naming conventions. All raw files should end with raw.fif, raw_sss.fif, raw_tsss.fif, raw.fif.gz, raw_sss.fif.gz, raw_tsss.fif.gz or _meg.fif\n",
      "  raw_data.save(new_subset_name, picks=['eeg'],\n",
      "<ipython-input-154-8c037cfb9b83>:16: RuntimeWarning: This filename (/Users/robert/Desktop/School/Grad/481c/seizure-classification/training/data_subset/dev/00005479_s005_t008_start_0.0000_end_71.7227_type_bckg_eeg.fif) does not conform to MNE naming conventions. All raw files should end with raw.fif, raw_sss.fif, raw_tsss.fif, raw.fif.gz, raw_sss.fif.gz, raw_tsss.fif.gz or _meg.fif\n",
      "  raw_data.save(new_subset_name, picks=['eeg'],\n",
      "<ipython-input-154-8c037cfb9b83>:16: RuntimeWarning: This filename (/Users/robert/Desktop/School/Grad/481c/seizure-classification/training/data_subset/dev/00005479_s005_t008_start_92.6299_end_255.0000_type_bckg_eeg.fif) does not conform to MNE naming conventions. All raw files should end with raw.fif, raw_sss.fif, raw_tsss.fif, raw.fif.gz, raw_sss.fif.gz, raw_tsss.fif.gz or _meg.fif\n",
      "  raw_data.save(new_subset_name, picks=['eeg'],\n",
      "<ipython-input-154-8c037cfb9b83>:30: RuntimeWarning: This filename (/Users/robert/Desktop/School/Grad/481c/seizure-classification/training/data_subset/dev/00005479_s005_t008_start_71.7227_end_92.6299_type_seiz_eeg.fif) does not conform to MNE naming conventions. All raw files should end with raw.fif, raw_sss.fif, raw_tsss.fif, raw.fif.gz, raw_sss.fif.gz, raw_tsss.fif.gz or _meg.fif\n",
      "  raw_data.save(new_subset_name, picks=['eeg'],\n"
     ]
    },
    {
     "name": "stdout",
     "output_type": "stream",
     "text": [
      "Creating raw.info structure...\n",
      "Reading 0 ... 185599  =      0.000 ...   463.998 secs...\n",
      "Writing /Users/robert/Desktop/School/Grad/481c/seizure-classification/training/data_subset/dev/00005479_s005_t009_start_0.0000_end_464.0000_type_bckg_eeg.fif\n",
      "Closing /Users/robert/Desktop/School/Grad/481c/seizure-classification/training/data_subset/dev/00005479_s005_t009_start_0.0000_end_464.0000_type_bckg_eeg.fif\n",
      "[done]\n",
      "Extracting EDF parameters from /Users/robert/eeg_data/edf/dev/03_tcp_ar_a/054/00005479/s006_2011_01_06/00005479_s006_t008.edf...\n",
      "EDF file detected\n",
      "Setting channel info structure...\n",
      "Creating raw.info structure...\n",
      "Reading 0 ... 29999  =      0.000 ...    74.998 secs...\n",
      "Writing /Users/robert/Desktop/School/Grad/481c/seizure-classification/training/data_subset/dev/00005479_s006_t008_start_0.0000_end_75.0000_type_bckg_eeg.fif\n",
      "Closing /Users/robert/Desktop/School/Grad/481c/seizure-classification/training/data_subset/dev/00005479_s006_t008_start_0.0000_end_75.0000_type_bckg_eeg.fif\n",
      "[done]\n",
      "Extracting EDF parameters from /Users/robert/eeg_data/edf/dev/03_tcp_ar_a/054/00005479/s006_2011_01_06/00005479_s006_t009.edf...\n",
      "EDF file detected\n",
      "Setting channel info structure...\n",
      "Creating raw.info structure...\n",
      "Reading 0 ... 129999  =      0.000 ...   324.998 secs...\n"
     ]
    },
    {
     "name": "stderr",
     "output_type": "stream",
     "text": [
      "<ipython-input-154-8c037cfb9b83>:16: RuntimeWarning: This filename (/Users/robert/Desktop/School/Grad/481c/seizure-classification/training/data_subset/dev/00005479_s005_t009_start_0.0000_end_464.0000_type_bckg_eeg.fif) does not conform to MNE naming conventions. All raw files should end with raw.fif, raw_sss.fif, raw_tsss.fif, raw.fif.gz, raw_sss.fif.gz, raw_tsss.fif.gz or _meg.fif\n",
      "  raw_data.save(new_subset_name, picks=['eeg'],\n",
      "<ipython-input-154-8c037cfb9b83>:16: RuntimeWarning: This filename (/Users/robert/Desktop/School/Grad/481c/seizure-classification/training/data_subset/dev/00005479_s006_t008_start_0.0000_end_75.0000_type_bckg_eeg.fif) does not conform to MNE naming conventions. All raw files should end with raw.fif, raw_sss.fif, raw_tsss.fif, raw.fif.gz, raw_sss.fif.gz, raw_tsss.fif.gz or _meg.fif\n",
      "  raw_data.save(new_subset_name, picks=['eeg'],\n"
     ]
    },
    {
     "name": "stdout",
     "output_type": "stream",
     "text": [
      "Writing /Users/robert/Desktop/School/Grad/481c/seizure-classification/training/data_subset/dev/00005479_s006_t009_start_0.0000_end_325.0000_type_bckg_eeg.fif\n",
      "Closing /Users/robert/Desktop/School/Grad/481c/seizure-classification/training/data_subset/dev/00005479_s006_t009_start_0.0000_end_325.0000_type_bckg_eeg.fif\n",
      "[done]\n",
      "Extracting EDF parameters from /Users/robert/eeg_data/edf/dev/03_tcp_ar_a/054/00005479/s006_2011_01_06/00005479_s006_t002.edf...\n",
      "EDF file detected\n",
      "Setting channel info structure...\n",
      "Creating raw.info structure...\n",
      "Reading 0 ... 189999  =      0.000 ...   474.998 secs...\n",
      "Writing /Users/robert/Desktop/School/Grad/481c/seizure-classification/training/data_subset/dev/00005479_s006_t002_start_0.0000_end_475.0000_type_bckg_eeg.fif\n"
     ]
    },
    {
     "name": "stderr",
     "output_type": "stream",
     "text": [
      "<ipython-input-154-8c037cfb9b83>:16: RuntimeWarning: This filename (/Users/robert/Desktop/School/Grad/481c/seizure-classification/training/data_subset/dev/00005479_s006_t009_start_0.0000_end_325.0000_type_bckg_eeg.fif) does not conform to MNE naming conventions. All raw files should end with raw.fif, raw_sss.fif, raw_tsss.fif, raw.fif.gz, raw_sss.fif.gz, raw_tsss.fif.gz or _meg.fif\n",
      "  raw_data.save(new_subset_name, picks=['eeg'],\n",
      "<ipython-input-154-8c037cfb9b83>:16: RuntimeWarning: This filename (/Users/robert/Desktop/School/Grad/481c/seizure-classification/training/data_subset/dev/00005479_s006_t002_start_0.0000_end_475.0000_type_bckg_eeg.fif) does not conform to MNE naming conventions. All raw files should end with raw.fif, raw_sss.fif, raw_tsss.fif, raw.fif.gz, raw_sss.fif.gz, raw_tsss.fif.gz or _meg.fif\n",
      "  raw_data.save(new_subset_name, picks=['eeg'],\n"
     ]
    },
    {
     "name": "stdout",
     "output_type": "stream",
     "text": [
      "Closing /Users/robert/Desktop/School/Grad/481c/seizure-classification/training/data_subset/dev/00005479_s006_t002_start_0.0000_end_475.0000_type_bckg_eeg.fif\n",
      "[done]\n",
      "Extracting EDF parameters from /Users/robert/eeg_data/edf/dev/03_tcp_ar_a/054/00005479/s006_2011_01_06/00005479_s006_t003.edf...\n",
      "EDF file detected\n",
      "Setting channel info structure...\n",
      "Creating raw.info structure...\n",
      "Reading 0 ... 85999  =      0.000 ...   214.998 secs...\n",
      "Writing /Users/robert/Desktop/School/Grad/481c/seizure-classification/training/data_subset/dev/00005479_s006_t003_start_0.0000_end_215.0000_type_bckg_eeg.fif\n",
      "Closing /Users/robert/Desktop/School/Grad/481c/seizure-classification/training/data_subset/dev/00005479_s006_t003_start_0.0000_end_215.0000_type_bckg_eeg.fif\n",
      "[done]\n",
      "Extracting EDF parameters from /Users/robert/eeg_data/edf/dev/03_tcp_ar_a/054/00005479/s006_2011_01_06/00005479_s006_t001.edf...\n",
      "EDF file detected\n",
      "Setting channel info structure...\n",
      "Creating raw.info structure...\n",
      "Reading 0 ... 137599  =      0.000 ...   343.998 secs...\n",
      "Writing /Users/robert/Desktop/School/Grad/481c/seizure-classification/training/data_subset/dev/00005479_s006_t001_start_0.0000_end_344.0000_type_bckg_eeg.fif\n",
      "Closing /Users/robert/Desktop/School/Grad/481c/seizure-classification/training/data_subset/dev/00005479_s006_t001_start_0.0000_end_344.0000_type_bckg_eeg.fif\n",
      "[done]\n",
      "Extracting EDF parameters from /Users/robert/eeg_data/edf/dev/03_tcp_ar_a/054/00005479/s006_2011_01_06/00005479_s006_t000.edf...\n",
      "EDF file detected\n",
      "Setting channel info structure...\n",
      "Creating raw.info structure...\n",
      "Reading 0 ... 141999  =      0.000 ...   354.998 secs...\n"
     ]
    },
    {
     "name": "stderr",
     "output_type": "stream",
     "text": [
      "<ipython-input-154-8c037cfb9b83>:16: RuntimeWarning: This filename (/Users/robert/Desktop/School/Grad/481c/seizure-classification/training/data_subset/dev/00005479_s006_t003_start_0.0000_end_215.0000_type_bckg_eeg.fif) does not conform to MNE naming conventions. All raw files should end with raw.fif, raw_sss.fif, raw_tsss.fif, raw.fif.gz, raw_sss.fif.gz, raw_tsss.fif.gz or _meg.fif\n",
      "  raw_data.save(new_subset_name, picks=['eeg'],\n",
      "<ipython-input-154-8c037cfb9b83>:16: RuntimeWarning: This filename (/Users/robert/Desktop/School/Grad/481c/seizure-classification/training/data_subset/dev/00005479_s006_t001_start_0.0000_end_344.0000_type_bckg_eeg.fif) does not conform to MNE naming conventions. All raw files should end with raw.fif, raw_sss.fif, raw_tsss.fif, raw.fif.gz, raw_sss.fif.gz, raw_tsss.fif.gz or _meg.fif\n",
      "  raw_data.save(new_subset_name, picks=['eeg'],\n"
     ]
    },
    {
     "name": "stdout",
     "output_type": "stream",
     "text": [
      "Writing /Users/robert/Desktop/School/Grad/481c/seizure-classification/training/data_subset/dev/00005479_s006_t000_start_0.0000_end_355.0000_type_bckg_eeg.fif\n",
      "Closing /Users/robert/Desktop/School/Grad/481c/seizure-classification/training/data_subset/dev/00005479_s006_t000_start_0.0000_end_355.0000_type_bckg_eeg.fif\n",
      "[done]\n",
      "Extracting EDF parameters from /Users/robert/eeg_data/edf/dev/03_tcp_ar_a/054/00005479/s006_2011_01_06/00005479_s006_t010.edf...\n",
      "EDF file detected\n",
      "Setting channel info structure...\n",
      "Creating raw.info structure...\n",
      "Reading 0 ... 153599  =      0.000 ...   383.998 secs...\n",
      "Writing /Users/robert/Desktop/School/Grad/481c/seizure-classification/training/data_subset/dev/00005479_s006_t010_start_0.0000_end_384.0000_type_bckg_eeg.fif\n"
     ]
    },
    {
     "name": "stderr",
     "output_type": "stream",
     "text": [
      "<ipython-input-154-8c037cfb9b83>:16: RuntimeWarning: This filename (/Users/robert/Desktop/School/Grad/481c/seizure-classification/training/data_subset/dev/00005479_s006_t000_start_0.0000_end_355.0000_type_bckg_eeg.fif) does not conform to MNE naming conventions. All raw files should end with raw.fif, raw_sss.fif, raw_tsss.fif, raw.fif.gz, raw_sss.fif.gz, raw_tsss.fif.gz or _meg.fif\n",
      "  raw_data.save(new_subset_name, picks=['eeg'],\n",
      "<ipython-input-154-8c037cfb9b83>:16: RuntimeWarning: This filename (/Users/robert/Desktop/School/Grad/481c/seizure-classification/training/data_subset/dev/00005479_s006_t010_start_0.0000_end_384.0000_type_bckg_eeg.fif) does not conform to MNE naming conventions. All raw files should end with raw.fif, raw_sss.fif, raw_tsss.fif, raw.fif.gz, raw_sss.fif.gz, raw_tsss.fif.gz or _meg.fif\n",
      "  raw_data.save(new_subset_name, picks=['eeg'],\n"
     ]
    },
    {
     "name": "stdout",
     "output_type": "stream",
     "text": [
      "Closing /Users/robert/Desktop/School/Grad/481c/seizure-classification/training/data_subset/dev/00005479_s006_t010_start_0.0000_end_384.0000_type_bckg_eeg.fif\n",
      "[done]\n",
      "Extracting EDF parameters from /Users/robert/eeg_data/edf/dev/03_tcp_ar_a/054/00005479/s006_2011_01_06/00005479_s006_t004.edf...\n",
      "EDF file detected\n",
      "Setting channel info structure...\n",
      "Creating raw.info structure...\n",
      "Reading 0 ... 77599  =      0.000 ...   193.998 secs...\n",
      "Writing /Users/robert/Desktop/School/Grad/481c/seizure-classification/training/data_subset/dev/00005479_s006_t004_start_0.0000_end_194.0000_type_bckg_eeg.fif\n",
      "Closing /Users/robert/Desktop/School/Grad/481c/seizure-classification/training/data_subset/dev/00005479_s006_t004_start_0.0000_end_194.0000_type_bckg_eeg.fif\n",
      "[done]\n",
      "Extracting EDF parameters from /Users/robert/eeg_data/edf/dev/03_tcp_ar_a/054/00005479/s006_2011_01_06/00005479_s006_t005.edf...\n",
      "EDF file detected\n",
      "Setting channel info structure...\n",
      "Creating raw.info structure...\n",
      "Reading 0 ... 89999  =      0.000 ...   224.998 secs...\n",
      "Writing /Users/robert/Desktop/School/Grad/481c/seizure-classification/training/data_subset/dev/00005479_s006_t005_start_0.0000_end_225.0000_type_bckg_eeg.fif\n",
      "Closing /Users/robert/Desktop/School/Grad/481c/seizure-classification/training/data_subset/dev/00005479_s006_t005_start_0.0000_end_225.0000_type_bckg_eeg.fif\n",
      "[done]\n",
      "Extracting EDF parameters from /Users/robert/eeg_data/edf/dev/03_tcp_ar_a/054/00005479/s006_2011_01_06/00005479_s006_t011.edf...\n",
      "EDF file detected\n",
      "Setting channel info structure...\n",
      "Creating raw.info structure...\n",
      "Reading 0 ... 167199  =      0.000 ...   417.998 secs...\n"
     ]
    },
    {
     "name": "stderr",
     "output_type": "stream",
     "text": [
      "<ipython-input-154-8c037cfb9b83>:16: RuntimeWarning: This filename (/Users/robert/Desktop/School/Grad/481c/seizure-classification/training/data_subset/dev/00005479_s006_t004_start_0.0000_end_194.0000_type_bckg_eeg.fif) does not conform to MNE naming conventions. All raw files should end with raw.fif, raw_sss.fif, raw_tsss.fif, raw.fif.gz, raw_sss.fif.gz, raw_tsss.fif.gz or _meg.fif\n",
      "  raw_data.save(new_subset_name, picks=['eeg'],\n",
      "<ipython-input-154-8c037cfb9b83>:16: RuntimeWarning: This filename (/Users/robert/Desktop/School/Grad/481c/seizure-classification/training/data_subset/dev/00005479_s006_t005_start_0.0000_end_225.0000_type_bckg_eeg.fif) does not conform to MNE naming conventions. All raw files should end with raw.fif, raw_sss.fif, raw_tsss.fif, raw.fif.gz, raw_sss.fif.gz, raw_tsss.fif.gz or _meg.fif\n",
      "  raw_data.save(new_subset_name, picks=['eeg'],\n"
     ]
    },
    {
     "name": "stdout",
     "output_type": "stream",
     "text": [
      "Writing /Users/robert/Desktop/School/Grad/481c/seizure-classification/training/data_subset/dev/00005479_s006_t011_start_0.0000_end_418.0000_type_bckg_eeg.fif\n",
      "Closing /Users/robert/Desktop/School/Grad/481c/seizure-classification/training/data_subset/dev/00005479_s006_t011_start_0.0000_end_418.0000_type_bckg_eeg.fif\n",
      "[done]\n",
      "Extracting EDF parameters from /Users/robert/eeg_data/edf/dev/03_tcp_ar_a/054/00005479/s006_2011_01_06/00005479_s006_t007.edf...\n",
      "EDF file detected\n",
      "Setting channel info structure...\n",
      "Creating raw.info structure...\n",
      "Reading 0 ... 159999  =      0.000 ...   399.998 secs...\n",
      "Writing /Users/robert/Desktop/School/Grad/481c/seizure-classification/training/data_subset/dev/00005479_s006_t007_start_0.0000_end_400.0000_type_bckg_eeg.fif\n"
     ]
    },
    {
     "name": "stderr",
     "output_type": "stream",
     "text": [
      "<ipython-input-154-8c037cfb9b83>:16: RuntimeWarning: This filename (/Users/robert/Desktop/School/Grad/481c/seizure-classification/training/data_subset/dev/00005479_s006_t011_start_0.0000_end_418.0000_type_bckg_eeg.fif) does not conform to MNE naming conventions. All raw files should end with raw.fif, raw_sss.fif, raw_tsss.fif, raw.fif.gz, raw_sss.fif.gz, raw_tsss.fif.gz or _meg.fif\n",
      "  raw_data.save(new_subset_name, picks=['eeg'],\n",
      "<ipython-input-154-8c037cfb9b83>:16: RuntimeWarning: This filename (/Users/robert/Desktop/School/Grad/481c/seizure-classification/training/data_subset/dev/00005479_s006_t007_start_0.0000_end_400.0000_type_bckg_eeg.fif) does not conform to MNE naming conventions. All raw files should end with raw.fif, raw_sss.fif, raw_tsss.fif, raw.fif.gz, raw_sss.fif.gz, raw_tsss.fif.gz or _meg.fif\n",
      "  raw_data.save(new_subset_name, picks=['eeg'],\n"
     ]
    },
    {
     "name": "stdout",
     "output_type": "stream",
     "text": [
      "Closing /Users/robert/Desktop/School/Grad/481c/seizure-classification/training/data_subset/dev/00005479_s006_t007_start_0.0000_end_400.0000_type_bckg_eeg.fif\n",
      "[done]\n",
      "Extracting EDF parameters from /Users/robert/eeg_data/edf/dev/03_tcp_ar_a/054/00005479/s006_2011_01_06/00005479_s006_t006.edf...\n",
      "EDF file detected\n",
      "Setting channel info structure...\n",
      "Creating raw.info structure...\n",
      "Reading 0 ... 173999  =      0.000 ...   434.998 secs...\n",
      "Writing /Users/robert/Desktop/School/Grad/481c/seizure-classification/training/data_subset/dev/00005479_s006_t006_start_0.0000_end_435.0000_type_bckg_eeg.fif\n",
      "Closing /Users/robert/Desktop/School/Grad/481c/seizure-classification/training/data_subset/dev/00005479_s006_t006_start_0.0000_end_435.0000_type_bckg_eeg.fif\n",
      "[done]\n",
      "Extracting EDF parameters from /Users/robert/eeg_data/edf/dev/03_tcp_ar_a/059/00005943/s002_2009_06_28/00005943_s002_t001.edf...\n",
      "EDF file detected\n",
      "Setting channel info structure...\n",
      "Creating raw.info structure...\n",
      "Reading 0 ... 169999  =      0.000 ...   424.998 secs...\n",
      "Writing /Users/robert/Desktop/School/Grad/481c/seizure-classification/training/data_subset/dev/00005943_s002_t001_start_0.0000_end_425.0000_type_bckg_eeg.fif\n"
     ]
    },
    {
     "name": "stderr",
     "output_type": "stream",
     "text": [
      "<ipython-input-154-8c037cfb9b83>:16: RuntimeWarning: This filename (/Users/robert/Desktop/School/Grad/481c/seizure-classification/training/data_subset/dev/00005479_s006_t006_start_0.0000_end_435.0000_type_bckg_eeg.fif) does not conform to MNE naming conventions. All raw files should end with raw.fif, raw_sss.fif, raw_tsss.fif, raw.fif.gz, raw_sss.fif.gz, raw_tsss.fif.gz or _meg.fif\n",
      "  raw_data.save(new_subset_name, picks=['eeg'],\n",
      "<ipython-input-154-8c037cfb9b83>:16: RuntimeWarning: This filename (/Users/robert/Desktop/School/Grad/481c/seizure-classification/training/data_subset/dev/00005943_s002_t001_start_0.0000_end_425.0000_type_bckg_eeg.fif) does not conform to MNE naming conventions. All raw files should end with raw.fif, raw_sss.fif, raw_tsss.fif, raw.fif.gz, raw_sss.fif.gz, raw_tsss.fif.gz or _meg.fif\n",
      "  raw_data.save(new_subset_name, picks=['eeg'],\n"
     ]
    },
    {
     "name": "stdout",
     "output_type": "stream",
     "text": [
      "Closing /Users/robert/Desktop/School/Grad/481c/seizure-classification/training/data_subset/dev/00005943_s002_t001_start_0.0000_end_425.0000_type_bckg_eeg.fif\n",
      "[done]\n",
      "Extracting EDF parameters from /Users/robert/eeg_data/edf/dev/03_tcp_ar_a/059/00005943/s002_2009_06_28/00005943_s002_t000.edf...\n",
      "EDF file detected\n",
      "Setting channel info structure...\n",
      "Creating raw.info structure...\n",
      "Reading 0 ... 137999  =      0.000 ...   344.998 secs...\n",
      "Writing /Users/robert/Desktop/School/Grad/481c/seizure-classification/training/data_subset/dev/00005943_s002_t000_start_0.0000_end_345.0000_type_bckg_eeg.fif\n",
      "Closing /Users/robert/Desktop/School/Grad/481c/seizure-classification/training/data_subset/dev/00005943_s002_t000_start_0.0000_end_345.0000_type_bckg_eeg.fif\n",
      "[done]\n",
      "Extracting EDF parameters from /Users/robert/eeg_data/edf/dev/03_tcp_ar_a/059/00005943/s002_2009_06_28/00005943_s002_t002.edf...\n",
      "EDF file detected\n",
      "Setting channel info structure...\n",
      "Creating raw.info structure...\n",
      "Reading 0 ... 161999  =      0.000 ...   404.998 secs...\n",
      "Writing /Users/robert/Desktop/School/Grad/481c/seizure-classification/training/data_subset/dev/00005943_s002_t002_start_0.0000_end_101.6550_type_bckg_eeg.fif\n",
      "Closing /Users/robert/Desktop/School/Grad/481c/seizure-classification/training/data_subset/dev/00005943_s002_t002_start_0.0000_end_101.6550_type_bckg_eeg.fif\n",
      "[done]\n",
      "Writing /Users/robert/Desktop/School/Grad/481c/seizure-classification/training/data_subset/dev/00005943_s002_t002_start_152.3925_end_405.0000_type_bckg_eeg.fif\n"
     ]
    },
    {
     "name": "stderr",
     "output_type": "stream",
     "text": [
      "<ipython-input-154-8c037cfb9b83>:16: RuntimeWarning: This filename (/Users/robert/Desktop/School/Grad/481c/seizure-classification/training/data_subset/dev/00005943_s002_t000_start_0.0000_end_345.0000_type_bckg_eeg.fif) does not conform to MNE naming conventions. All raw files should end with raw.fif, raw_sss.fif, raw_tsss.fif, raw.fif.gz, raw_sss.fif.gz, raw_tsss.fif.gz or _meg.fif\n",
      "  raw_data.save(new_subset_name, picks=['eeg'],\n",
      "<ipython-input-154-8c037cfb9b83>:16: RuntimeWarning: This filename (/Users/robert/Desktop/School/Grad/481c/seizure-classification/training/data_subset/dev/00005943_s002_t002_start_0.0000_end_101.6550_type_bckg_eeg.fif) does not conform to MNE naming conventions. All raw files should end with raw.fif, raw_sss.fif, raw_tsss.fif, raw.fif.gz, raw_sss.fif.gz, raw_tsss.fif.gz or _meg.fif\n",
      "  raw_data.save(new_subset_name, picks=['eeg'],\n",
      "<ipython-input-154-8c037cfb9b83>:16: RuntimeWarning: This filename (/Users/robert/Desktop/School/Grad/481c/seizure-classification/training/data_subset/dev/00005943_s002_t002_start_152.3925_end_405.0000_type_bckg_eeg.fif) does not conform to MNE naming conventions. All raw files should end with raw.fif, raw_sss.fif, raw_tsss.fif, raw.fif.gz, raw_sss.fif.gz, raw_tsss.fif.gz or _meg.fif\n",
      "  raw_data.save(new_subset_name, picks=['eeg'],\n"
     ]
    },
    {
     "name": "stdout",
     "output_type": "stream",
     "text": [
      "Closing /Users/robert/Desktop/School/Grad/481c/seizure-classification/training/data_subset/dev/00005943_s002_t002_start_152.3925_end_405.0000_type_bckg_eeg.fif\n",
      "[done]\n",
      "Extracting EDF parameters from /Users/robert/eeg_data/edf/dev/03_tcp_ar_a/059/00005943/s002_2009_06_28/00005943_s002_t002.edf...\n",
      "EDF file detected\n",
      "Setting channel info structure...\n",
      "Creating raw.info structure...\n",
      "Reading 0 ... 161999  =      0.000 ...   404.998 secs...\n",
      "Writing /Users/robert/Desktop/School/Grad/481c/seizure-classification/training/data_subset/dev/00005943_s002_t002_start_101.6550_end_152.3925_type_seiz_eeg.fif\n",
      "Closing /Users/robert/Desktop/School/Grad/481c/seizure-classification/training/data_subset/dev/00005943_s002_t002_start_101.6550_end_152.3925_type_seiz_eeg.fif\n",
      "[done]\n",
      "Extracting EDF parameters from /Users/robert/eeg_data/edf/dev/03_tcp_ar_a/059/00005943/s002_2009_06_28/00005943_s002_t003.edf...\n",
      "EDF file detected\n",
      "Setting channel info structure...\n",
      "Creating raw.info structure...\n",
      "Reading 0 ... 173599  =      0.000 ...   433.998 secs...\n",
      "Writing /Users/robert/Desktop/School/Grad/481c/seizure-classification/training/data_subset/dev/00005943_s002_t003_start_0.0000_end_434.0000_type_bckg_eeg.fif\n",
      "Closing /Users/robert/Desktop/School/Grad/481c/seizure-classification/training/data_subset/dev/00005943_s002_t003_start_0.0000_end_434.0000_type_bckg_eeg.fif\n",
      "[done]\n",
      "Extracting EDF parameters from /Users/robert/eeg_data/edf/dev/03_tcp_ar_a/059/00005943/s004_2009_06_29/00005943_s004_t001.edf...\n",
      "EDF file detected\n",
      "Setting channel info structure...\n",
      "Creating raw.info structure...\n",
      "Reading 0 ... 145999  =      0.000 ...   364.998 secs...\n"
     ]
    },
    {
     "name": "stderr",
     "output_type": "stream",
     "text": [
      "<ipython-input-154-8c037cfb9b83>:30: RuntimeWarning: This filename (/Users/robert/Desktop/School/Grad/481c/seizure-classification/training/data_subset/dev/00005943_s002_t002_start_101.6550_end_152.3925_type_seiz_eeg.fif) does not conform to MNE naming conventions. All raw files should end with raw.fif, raw_sss.fif, raw_tsss.fif, raw.fif.gz, raw_sss.fif.gz, raw_tsss.fif.gz or _meg.fif\n",
      "  raw_data.save(new_subset_name, picks=['eeg'],\n",
      "<ipython-input-154-8c037cfb9b83>:16: RuntimeWarning: This filename (/Users/robert/Desktop/School/Grad/481c/seizure-classification/training/data_subset/dev/00005943_s002_t003_start_0.0000_end_434.0000_type_bckg_eeg.fif) does not conform to MNE naming conventions. All raw files should end with raw.fif, raw_sss.fif, raw_tsss.fif, raw.fif.gz, raw_sss.fif.gz, raw_tsss.fif.gz or _meg.fif\n",
      "  raw_data.save(new_subset_name, picks=['eeg'],\n"
     ]
    },
    {
     "name": "stdout",
     "output_type": "stream",
     "text": [
      "Writing /Users/robert/Desktop/School/Grad/481c/seizure-classification/training/data_subset/dev/00005943_s004_t001_start_0.0000_end_365.0000_type_bckg_eeg.fif\n",
      "Closing /Users/robert/Desktop/School/Grad/481c/seizure-classification/training/data_subset/dev/00005943_s004_t001_start_0.0000_end_365.0000_type_bckg_eeg.fif\n",
      "[done]\n",
      "Extracting EDF parameters from /Users/robert/eeg_data/edf/dev/03_tcp_ar_a/059/00005943/s004_2009_06_29/00005943_s004_t000.edf...\n",
      "EDF file detected\n",
      "Setting channel info structure...\n",
      "Creating raw.info structure...\n",
      "Reading 0 ... 157999  =      0.000 ...   394.998 secs...\n",
      "Writing /Users/robert/Desktop/School/Grad/481c/seizure-classification/training/data_subset/dev/00005943_s004_t000_start_0.0000_end_395.0000_type_bckg_eeg.fif\n"
     ]
    },
    {
     "name": "stderr",
     "output_type": "stream",
     "text": [
      "<ipython-input-154-8c037cfb9b83>:16: RuntimeWarning: This filename (/Users/robert/Desktop/School/Grad/481c/seizure-classification/training/data_subset/dev/00005943_s004_t001_start_0.0000_end_365.0000_type_bckg_eeg.fif) does not conform to MNE naming conventions. All raw files should end with raw.fif, raw_sss.fif, raw_tsss.fif, raw.fif.gz, raw_sss.fif.gz, raw_tsss.fif.gz or _meg.fif\n",
      "  raw_data.save(new_subset_name, picks=['eeg'],\n",
      "<ipython-input-154-8c037cfb9b83>:16: RuntimeWarning: This filename (/Users/robert/Desktop/School/Grad/481c/seizure-classification/training/data_subset/dev/00005943_s004_t000_start_0.0000_end_395.0000_type_bckg_eeg.fif) does not conform to MNE naming conventions. All raw files should end with raw.fif, raw_sss.fif, raw_tsss.fif, raw.fif.gz, raw_sss.fif.gz, raw_tsss.fif.gz or _meg.fif\n",
      "  raw_data.save(new_subset_name, picks=['eeg'],\n"
     ]
    },
    {
     "name": "stdout",
     "output_type": "stream",
     "text": [
      "Closing /Users/robert/Desktop/School/Grad/481c/seizure-classification/training/data_subset/dev/00005943_s004_t000_start_0.0000_end_395.0000_type_bckg_eeg.fif\n",
      "[done]\n",
      "Extracting EDF parameters from /Users/robert/eeg_data/edf/dev/03_tcp_ar_a/059/00005943/s004_2009_06_29/00005943_s004_t002.edf...\n",
      "EDF file detected\n",
      "Setting channel info structure...\n",
      "Creating raw.info structure...\n",
      "Reading 0 ... 169999  =      0.000 ...   424.998 secs...\n",
      "Writing /Users/robert/Desktop/School/Grad/481c/seizure-classification/training/data_subset/dev/00005943_s004_t002_start_0.0000_end_425.0000_type_bckg_eeg.fif\n",
      "Closing /Users/robert/Desktop/School/Grad/481c/seizure-classification/training/data_subset/dev/00005943_s004_t002_start_0.0000_end_425.0000_type_bckg_eeg.fif\n",
      "[done]\n",
      "Extracting EDF parameters from /Users/robert/eeg_data/edf/dev/03_tcp_ar_a/059/00005943/s004_2009_06_29/00005943_s004_t003.edf...\n",
      "EDF file detected\n",
      "Setting channel info structure...\n",
      "Creating raw.info structure...\n",
      "Reading 0 ... 169599  =      0.000 ...   423.998 secs...\n",
      "Writing /Users/robert/Desktop/School/Grad/481c/seizure-classification/training/data_subset/dev/00005943_s004_t003_start_0.0000_end_424.0000_type_bckg_eeg.fif\n"
     ]
    },
    {
     "name": "stderr",
     "output_type": "stream",
     "text": [
      "<ipython-input-154-8c037cfb9b83>:16: RuntimeWarning: This filename (/Users/robert/Desktop/School/Grad/481c/seizure-classification/training/data_subset/dev/00005943_s004_t002_start_0.0000_end_425.0000_type_bckg_eeg.fif) does not conform to MNE naming conventions. All raw files should end with raw.fif, raw_sss.fif, raw_tsss.fif, raw.fif.gz, raw_sss.fif.gz, raw_tsss.fif.gz or _meg.fif\n",
      "  raw_data.save(new_subset_name, picks=['eeg'],\n",
      "<ipython-input-154-8c037cfb9b83>:16: RuntimeWarning: This filename (/Users/robert/Desktop/School/Grad/481c/seizure-classification/training/data_subset/dev/00005943_s004_t003_start_0.0000_end_424.0000_type_bckg_eeg.fif) does not conform to MNE naming conventions. All raw files should end with raw.fif, raw_sss.fif, raw_tsss.fif, raw.fif.gz, raw_sss.fif.gz, raw_tsss.fif.gz or _meg.fif\n",
      "  raw_data.save(new_subset_name, picks=['eeg'],\n"
     ]
    },
    {
     "name": "stdout",
     "output_type": "stream",
     "text": [
      "Closing /Users/robert/Desktop/School/Grad/481c/seizure-classification/training/data_subset/dev/00005943_s004_t003_start_0.0000_end_424.0000_type_bckg_eeg.fif\n",
      "[done]\n",
      "Extracting EDF parameters from /Users/robert/eeg_data/edf/dev/02_tcp_le/041/00004151/s001_2007_09_25/00004151_s001_t001.edf...\n",
      "EDF file detected\n",
      "Setting channel info structure...\n",
      "Creating raw.info structure...\n",
      "Reading 0 ... 355749  =      0.000 ...  1422.996 secs...\n",
      "Writing /Users/robert/Desktop/School/Grad/481c/seizure-classification/training/data_subset/dev/00004151_s001_t001_start_57.2880_end_162.7440_type_seiz_eeg.fif\n",
      "Closing /Users/robert/Desktop/School/Grad/481c/seizure-classification/training/data_subset/dev/00004151_s001_t001_start_57.2880_end_162.7440_type_seiz_eeg.fif\n",
      "[done]\n",
      "Extracting EDF parameters from /Users/robert/eeg_data/edf/dev/02_tcp_le/022/00002297/s002_2007_10_22/00002297_s002_t000.edf...\n",
      "EDF file detected\n",
      "Setting channel info structure...\n",
      "Creating raw.info structure...\n",
      "Reading 0 ... 308999  =      0.000 ...  1235.996 secs...\n"
     ]
    },
    {
     "name": "stderr",
     "output_type": "stream",
     "text": [
      "<ipython-input-154-8c037cfb9b83>:30: RuntimeWarning: This filename (/Users/robert/Desktop/School/Grad/481c/seizure-classification/training/data_subset/dev/00004151_s001_t001_start_57.2880_end_162.7440_type_seiz_eeg.fif) does not conform to MNE naming conventions. All raw files should end with raw.fif, raw_sss.fif, raw_tsss.fif, raw.fif.gz, raw_sss.fif.gz, raw_tsss.fif.gz or _meg.fif\n",
      "  raw_data.save(new_subset_name, picks=['eeg'],\n",
      "<ipython-input-154-8c037cfb9b83>:30: RuntimeWarning: This filename (/Users/robert/Desktop/School/Grad/481c/seizure-classification/training/data_subset/dev/00004151_s001_t001_start_711.1520_end_836.1520_type_seiz_eeg.fif) does not conform to MNE naming conventions. All raw files should end with raw.fif, raw_sss.fif, raw_tsss.fif, raw.fif.gz, raw_sss.fif.gz, raw_tsss.fif.gz or _meg.fif\n",
      "  raw_data.save(new_subset_name, picks=['eeg'],\n",
      "<ipython-input-154-8c037cfb9b83>:30: RuntimeWarning: This filename (/Users/robert/Desktop/School/Grad/481c/seizure-classification/training/data_subset/dev/00004151_s001_t001_start_1070.8880_end_1157.0212_type_seiz_eeg.fif) does not conform to MNE naming conventions. All raw files should end with raw.fif, raw_sss.fif, raw_tsss.fif, raw.fif.gz, raw_sss.fif.gz, raw_tsss.fif.gz or _meg.fif\n",
      "  raw_data.save(new_subset_name, picks=['eeg'],\n"
     ]
    },
    {
     "name": "stdout",
     "output_type": "stream",
     "text": [
      "Writing /Users/robert/Desktop/School/Grad/481c/seizure-classification/training/data_subset/dev/00002297_s002_t000_start_30.1600_end_60.0600_type_seiz_eeg.fif\n",
      "Closing /Users/robert/Desktop/School/Grad/481c/seizure-classification/training/data_subset/dev/00002297_s002_t000_start_30.1600_end_60.0600_type_seiz_eeg.fif\n",
      "[done]\n",
      "Writing /Users/robert/Desktop/School/Grad/481c/seizure-classification/training/data_subset/dev/00002297_s002_t000_start_93.0400_end_245.9000_type_seiz_eeg.fif\n",
      "Closing /Users/robert/Desktop/School/Grad/481c/seizure-classification/training/data_subset/dev/00002297_s002_t000_start_93.0400_end_245.9000_type_seiz_eeg.fif\n",
      "[done]\n",
      "Writing /Users/robert/Desktop/School/Grad/481c/seizure-classification/training/data_subset/dev/00002297_s002_t000_start_281.5680_end_341.1680_type_seiz_eeg.fif\n",
      "Closing /Users/robert/Desktop/School/Grad/481c/seizure-classification/training/data_subset/dev/00002297_s002_t000_start_281.5680_end_341.1680_type_seiz_eeg.fif\n",
      "[done]\n",
      "Extracting EDF parameters from /Users/robert/eeg_data/edf/dev/02_tcp_le/040/00004087/s001_2007_06_26/00004087_s001_t000.edf...\n",
      "EDF file detected\n",
      "Setting channel info structure...\n",
      "Creating raw.info structure...\n",
      "Reading 0 ... 339749  =      0.000 ...  1358.996 secs...\n"
     ]
    },
    {
     "name": "stderr",
     "output_type": "stream",
     "text": [
      "<ipython-input-154-8c037cfb9b83>:30: RuntimeWarning: This filename (/Users/robert/Desktop/School/Grad/481c/seizure-classification/training/data_subset/dev/00002297_s002_t000_start_30.1600_end_60.0600_type_seiz_eeg.fif) does not conform to MNE naming conventions. All raw files should end with raw.fif, raw_sss.fif, raw_tsss.fif, raw.fif.gz, raw_sss.fif.gz, raw_tsss.fif.gz or _meg.fif\n",
      "  raw_data.save(new_subset_name, picks=['eeg'],\n",
      "<ipython-input-154-8c037cfb9b83>:30: RuntimeWarning: This filename (/Users/robert/Desktop/School/Grad/481c/seizure-classification/training/data_subset/dev/00002297_s002_t000_start_93.0400_end_245.9000_type_seiz_eeg.fif) does not conform to MNE naming conventions. All raw files should end with raw.fif, raw_sss.fif, raw_tsss.fif, raw.fif.gz, raw_sss.fif.gz, raw_tsss.fif.gz or _meg.fif\n",
      "  raw_data.save(new_subset_name, picks=['eeg'],\n",
      "<ipython-input-154-8c037cfb9b83>:30: RuntimeWarning: This filename (/Users/robert/Desktop/School/Grad/481c/seizure-classification/training/data_subset/dev/00002297_s002_t000_start_281.5680_end_341.1680_type_seiz_eeg.fif) does not conform to MNE naming conventions. All raw files should end with raw.fif, raw_sss.fif, raw_tsss.fif, raw.fif.gz, raw_sss.fif.gz, raw_tsss.fif.gz or _meg.fif\n",
      "  raw_data.save(new_subset_name, picks=['eeg'],\n",
      "<ipython-input-154-8c037cfb9b83>:30: RuntimeWarning: This filename (/Users/robert/Desktop/School/Grad/481c/seizure-classification/training/data_subset/dev/00002297_s002_t000_start_517.6320_end_662.5320_type_seiz_eeg.fif) does not conform to MNE naming conventions. All raw files should end with raw.fif, raw_sss.fif, raw_tsss.fif, raw.fif.gz, raw_sss.fif.gz, raw_tsss.fif.gz or _meg.fif\n",
      "  raw_data.save(new_subset_name, picks=['eeg'],\n",
      "<ipython-input-154-8c037cfb9b83>:30: RuntimeWarning: This filename (/Users/robert/Desktop/School/Grad/481c/seizure-classification/training/data_subset/dev/00002297_s002_t000_start_672.2240_end_700.0240_type_seiz_eeg.fif) does not conform to MNE naming conventions. All raw files should end with raw.fif, raw_sss.fif, raw_tsss.fif, raw.fif.gz, raw_sss.fif.gz, raw_tsss.fif.gz or _meg.fif\n",
      "  raw_data.save(new_subset_name, picks=['eeg'],\n",
      "<ipython-input-154-8c037cfb9b83>:30: RuntimeWarning: This filename (/Users/robert/Desktop/School/Grad/481c/seizure-classification/training/data_subset/dev/00002297_s002_t000_start_737.0079_end_770.6520_type_seiz_eeg.fif) does not conform to MNE naming conventions. All raw files should end with raw.fif, raw_sss.fif, raw_tsss.fif, raw.fif.gz, raw_sss.fif.gz, raw_tsss.fif.gz or _meg.fif\n",
      "  raw_data.save(new_subset_name, picks=['eeg'],\n",
      "<ipython-input-154-8c037cfb9b83>:30: RuntimeWarning: This filename (/Users/robert/Desktop/School/Grad/481c/seizure-classification/training/data_subset/dev/00002297_s002_t000_start_806.5760_end_856.9904_type_seiz_eeg.fif) does not conform to MNE naming conventions. All raw files should end with raw.fif, raw_sss.fif, raw_tsss.fif, raw.fif.gz, raw_sss.fif.gz, raw_tsss.fif.gz or _meg.fif\n",
      "  raw_data.save(new_subset_name, picks=['eeg'],\n",
      "<ipython-input-154-8c037cfb9b83>:30: RuntimeWarning: This filename (/Users/robert/Desktop/School/Grad/481c/seizure-classification/training/data_subset/dev/00002297_s002_t000_start_908.8920_end_1029.6400_type_seiz_eeg.fif) does not conform to MNE naming conventions. All raw files should end with raw.fif, raw_sss.fif, raw_tsss.fif, raw.fif.gz, raw_sss.fif.gz, raw_tsss.fif.gz or _meg.fif\n",
      "  raw_data.save(new_subset_name, picks=['eeg'],\n",
      "<ipython-input-154-8c037cfb9b83>:30: RuntimeWarning: This filename (/Users/robert/Desktop/School/Grad/481c/seizure-classification/training/data_subset/dev/00002297_s002_t000_start_1070.4960_end_1212.4360_type_seiz_eeg.fif) does not conform to MNE naming conventions. All raw files should end with raw.fif, raw_sss.fif, raw_tsss.fif, raw.fif.gz, raw_sss.fif.gz, raw_tsss.fif.gz or _meg.fif\n",
      "  raw_data.save(new_subset_name, picks=['eeg'],\n"
     ]
    },
    {
     "name": "stdout",
     "output_type": "stream",
     "text": [
      "Extracting EDF parameters from /Users/robert/eeg_data/edf/dev/02_tcp_le/036/00003635/s001_2006_07_20/00003635_s001_t001.edf...\n",
      "EDF file detected\n",
      "Setting channel info structure...\n",
      "Creating raw.info structure...\n",
      "Reading 0 ... 404499  =      0.000 ...  1617.996 secs...\n",
      "Writing /Users/robert/Desktop/School/Grad/481c/seizure-classification/training/data_subset/dev/00003635_s001_t001_start_199.0412_end_202.4638_type_seiz_eeg.fif\n",
      "Closing /Users/robert/Desktop/School/Grad/481c/seizure-classification/training/data_subset/dev/00003635_s001_t001_start_199.0412_end_202.4638_type_seiz_eeg.fif\n",
      "[done]\n",
      "Writing /Users/robert/Desktop/School/Grad/481c/seizure-classification/training/data_subset/dev/00003635_s001_t001_start_312.0223_end_315.0658_type_seiz_eeg.fif\n",
      "Closing /Users/robert/Desktop/School/Grad/481c/seizure-classification/training/data_subset/dev/00003635_s001_t001_start_312.0223_end_315.0658_type_seiz_eeg.fif\n",
      "[done]\n"
     ]
    },
    {
     "name": "stderr",
     "output_type": "stream",
     "text": [
      "<ipython-input-154-8c037cfb9b83>:30: RuntimeWarning: This filename (/Users/robert/Desktop/School/Grad/481c/seizure-classification/training/data_subset/dev/00004087_s001_t000_start_1126.7680_end_1143.0680_type_seiz_eeg.fif) does not conform to MNE naming conventions. All raw files should end with raw.fif, raw_sss.fif, raw_tsss.fif, raw.fif.gz, raw_sss.fif.gz, raw_tsss.fif.gz or _meg.fif\n",
      "  raw_data.save(new_subset_name, picks=['eeg'],\n",
      "<ipython-input-154-8c037cfb9b83>:30: RuntimeWarning: This filename (/Users/robert/Desktop/School/Grad/481c/seizure-classification/training/data_subset/dev/00003635_s001_t001_start_199.0412_end_202.4638_type_seiz_eeg.fif) does not conform to MNE naming conventions. All raw files should end with raw.fif, raw_sss.fif, raw_tsss.fif, raw.fif.gz, raw_sss.fif.gz, raw_tsss.fif.gz or _meg.fif\n",
      "  raw_data.save(new_subset_name, picks=['eeg'],\n",
      "<ipython-input-154-8c037cfb9b83>:30: RuntimeWarning: This filename (/Users/robert/Desktop/School/Grad/481c/seizure-classification/training/data_subset/dev/00003635_s001_t001_start_312.0223_end_315.0658_type_seiz_eeg.fif) does not conform to MNE naming conventions. All raw files should end with raw.fif, raw_sss.fif, raw_tsss.fif, raw.fif.gz, raw_sss.fif.gz, raw_tsss.fif.gz or _meg.fif\n",
      "  raw_data.save(new_subset_name, picks=['eeg'],\n"
     ]
    },
    {
     "name": "stdout",
     "output_type": "stream",
     "text": [
      "Extracting EDF parameters from /Users/robert/eeg_data/edf/dev/02_tcp_le/052/00005213/s001_2007_12_06/00005213_s001_t000.edf...\n",
      "EDF file detected\n",
      "Setting channel info structure...\n",
      "Creating raw.info structure...\n",
      "Reading 0 ... 302249  =      0.000 ...  1208.996 secs...\n",
      "Writing /Users/robert/Desktop/School/Grad/481c/seizure-classification/training/data_subset/dev/00005213_s001_t000_start_341.6960_end_378.0354_type_seiz_eeg.fif\n",
      "Closing /Users/robert/Desktop/School/Grad/481c/seizure-classification/training/data_subset/dev/00005213_s001_t000_start_341.6960_end_378.0354_type_seiz_eeg.fif\n",
      "[done]\n",
      "Extracting EDF parameters from /Users/robert/eeg_data/edf/dev/02_tcp_le/006/00000675/s002_2006_09_05/00000675_s002_t001.edf...\n",
      "EDF file detected\n",
      "Setting channel info structure...\n",
      "Creating raw.info structure...\n",
      "Reading 0 ... 311249  =      0.000 ...  1244.996 secs...\n"
     ]
    },
    {
     "name": "stderr",
     "output_type": "stream",
     "text": [
      "<ipython-input-154-8c037cfb9b83>:30: RuntimeWarning: This filename (/Users/robert/Desktop/School/Grad/481c/seizure-classification/training/data_subset/dev/00003635_s001_t001_start_610.1171_end_612.1572_type_seiz_eeg.fif) does not conform to MNE naming conventions. All raw files should end with raw.fif, raw_sss.fif, raw_tsss.fif, raw.fif.gz, raw_sss.fif.gz, raw_tsss.fif.gz or _meg.fif\n",
      "  raw_data.save(new_subset_name, picks=['eeg'],\n",
      "<ipython-input-154-8c037cfb9b83>:30: RuntimeWarning: This filename (/Users/robert/Desktop/School/Grad/481c/seizure-classification/training/data_subset/dev/00003635_s001_t001_start_756.9264_end_760.1148_type_seiz_eeg.fif) does not conform to MNE naming conventions. All raw files should end with raw.fif, raw_sss.fif, raw_tsss.fif, raw.fif.gz, raw_sss.fif.gz, raw_tsss.fif.gz or _meg.fif\n",
      "  raw_data.save(new_subset_name, picks=['eeg'],\n",
      "<ipython-input-154-8c037cfb9b83>:30: RuntimeWarning: This filename (/Users/robert/Desktop/School/Grad/481c/seizure-classification/training/data_subset/dev/00003635_s001_t001_start_863.7146_end_865.7046_type_seiz_eeg.fif) does not conform to MNE naming conventions. All raw files should end with raw.fif, raw_sss.fif, raw_tsss.fif, raw.fif.gz, raw_sss.fif.gz, raw_tsss.fif.gz or _meg.fif\n",
      "  raw_data.save(new_subset_name, picks=['eeg'],\n",
      "<ipython-input-154-8c037cfb9b83>:30: RuntimeWarning: This filename (/Users/robert/Desktop/School/Grad/481c/seizure-classification/training/data_subset/dev/00003635_s001_t001_start_1067.1293_end_1070.6633_type_seiz_eeg.fif) does not conform to MNE naming conventions. All raw files should end with raw.fif, raw_sss.fif, raw_tsss.fif, raw.fif.gz, raw_sss.fif.gz, raw_tsss.fif.gz or _meg.fif\n",
      "  raw_data.save(new_subset_name, picks=['eeg'],\n",
      "<ipython-input-154-8c037cfb9b83>:30: RuntimeWarning: This filename (/Users/robert/Desktop/School/Grad/481c/seizure-classification/training/data_subset/dev/00003635_s001_t001_start_1127.3501_end_1129.3289_type_seiz_eeg.fif) does not conform to MNE naming conventions. All raw files should end with raw.fif, raw_sss.fif, raw_tsss.fif, raw.fif.gz, raw_sss.fif.gz, raw_tsss.fif.gz or _meg.fif\n",
      "  raw_data.save(new_subset_name, picks=['eeg'],\n",
      "<ipython-input-154-8c037cfb9b83>:30: RuntimeWarning: This filename (/Users/robert/Desktop/School/Grad/481c/seizure-classification/training/data_subset/dev/00005213_s001_t000_start_341.6960_end_378.0354_type_seiz_eeg.fif) does not conform to MNE naming conventions. All raw files should end with raw.fif, raw_sss.fif, raw_tsss.fif, raw.fif.gz, raw_sss.fif.gz, raw_tsss.fif.gz or _meg.fif\n",
      "  raw_data.save(new_subset_name, picks=['eeg'],\n"
     ]
    },
    {
     "name": "stdout",
     "output_type": "stream",
     "text": [
      "Writing /Users/robert/Desktop/School/Grad/481c/seizure-classification/training/data_subset/dev/00000675_s002_t001_start_115.4120_end_119.7120_type_seiz_eeg.fif\n",
      "Closing /Users/robert/Desktop/School/Grad/481c/seizure-classification/training/data_subset/dev/00000675_s002_t001_start_115.4120_end_119.7120_type_seiz_eeg.fif\n",
      "[done]\n",
      "Writing /Users/robert/Desktop/School/Grad/481c/seizure-classification/training/data_subset/dev/00000675_s002_t001_start_155.7120_end_160.6120_type_seiz_eeg.fif\n",
      "Closing /Users/robert/Desktop/School/Grad/481c/seizure-classification/training/data_subset/dev/00000675_s002_t001_start_155.7120_end_160.6120_type_seiz_eeg.fif\n",
      "[done]\n",
      "Writing /Users/robert/Desktop/School/Grad/481c/seizure-classification/training/data_subset/dev/00000675_s002_t001_start_168.2120_end_169.9120_type_seiz_eeg.fif\n",
      "Closing /Users/robert/Desktop/School/Grad/481c/seizure-classification/training/data_subset/dev/00000675_s002_t001_start_168.2120_end_169.9120_type_seiz_eeg.fif\n",
      "[done]\n",
      "Writing /Users/robert/Desktop/School/Grad/481c/seizure-classification/training/data_subset/dev/00000675_s002_t001_start_181.3120_end_185.1120_type_seiz_eeg.fif\n",
      "Closing /Users/robert/Desktop/School/Grad/481c/seizure-classification/training/data_subset/dev/00000675_s002_t001_start_181.3120_end_185.1120_type_seiz_eeg.fif\n",
      "[done]\n",
      "Writing /Users/robert/Desktop/School/Grad/481c/seizure-classification/training/data_subset/dev/00000675_s002_t001_start_205.4120_end_210.2120_type_seiz_eeg.fif\n",
      "Closing /Users/robert/Desktop/School/Grad/481c/seizure-classification/training/data_subset/dev/00000675_s002_t001_start_205.4120_end_210.2120_type_seiz_eeg.fif\n",
      "[done]\n",
      "Writing /Users/robert/Desktop/School/Grad/481c/seizure-classification/training/data_subset/dev/00000675_s002_t001_start_232.1120_end_234.1120_type_seiz_eeg.fif\n",
      "Closing /Users/robert/Desktop/School/Grad/481c/seizure-classification/training/data_subset/dev/00000675_s002_t001_start_232.1120_end_234.1120_type_seiz_eeg.fif\n",
      "[done]\n",
      "Writing /Users/robert/Desktop/School/Grad/481c/seizure-classification/training/data_subset/dev/00000675_s002_t001_start_244.3120_end_246.3120_type_seiz_eeg.fif\n",
      "Closing /Users/robert/Desktop/School/Grad/481c/seizure-classification/training/data_subset/dev/00000675_s002_t001_start_244.3120_end_246.3120_type_seiz_eeg.fif\n",
      "[done]\n",
      "Writing /Users/robert/Desktop/School/Grad/481c/seizure-classification/training/data_subset/dev/00000675_s002_t001_start_251.5120_end_254.3120_type_seiz_eeg.fif\n",
      "Closing /Users/robert/Desktop/School/Grad/481c/seizure-classification/training/data_subset/dev/00000675_s002_t001_start_251.5120_end_254.3120_type_seiz_eeg.fif\n",
      "[done]\n",
      "Writing /Users/robert/Desktop/School/Grad/481c/seizure-classification/training/data_subset/dev/00000675_s002_t001_start_255.2120_end_256.6120_type_seiz_eeg.fif\n",
      "Closing /Users/robert/Desktop/School/Grad/481c/seizure-classification/training/data_subset/dev/00000675_s002_t001_start_255.2120_end_256.6120_type_seiz_eeg.fif\n",
      "[done]\n",
      "Writing /Users/robert/Desktop/School/Grad/481c/seizure-classification/training/data_subset/dev/00000675_s002_t001_start_313.4120_end_319.7120_type_seiz_eeg.fif\n",
      "Closing /Users/robert/Desktop/School/Grad/481c/seizure-classification/training/data_subset/dev/00000675_s002_t001_start_313.4120_end_319.7120_type_seiz_eeg.fif\n",
      "[done]\n",
      "Extracting EDF parameters from /Users/robert/eeg_data/edf/dev/02_tcp_le/006/00000675/s001_2003_11_10/00000675_s001_t001.edf...\n",
      "EDF file detected\n",
      "Setting channel info structure...\n",
      "Creating raw.info structure...\n",
      "Reading 0 ... 309249  =      0.000 ...  1236.996 secs...\n"
     ]
    },
    {
     "name": "stderr",
     "output_type": "stream",
     "text": [
      "<ipython-input-154-8c037cfb9b83>:30: RuntimeWarning: This filename (/Users/robert/Desktop/School/Grad/481c/seizure-classification/training/data_subset/dev/00000675_s002_t001_start_115.4120_end_119.7120_type_seiz_eeg.fif) does not conform to MNE naming conventions. All raw files should end with raw.fif, raw_sss.fif, raw_tsss.fif, raw.fif.gz, raw_sss.fif.gz, raw_tsss.fif.gz or _meg.fif\n",
      "  raw_data.save(new_subset_name, picks=['eeg'],\n",
      "<ipython-input-154-8c037cfb9b83>:30: RuntimeWarning: This filename (/Users/robert/Desktop/School/Grad/481c/seizure-classification/training/data_subset/dev/00000675_s002_t001_start_155.7120_end_160.6120_type_seiz_eeg.fif) does not conform to MNE naming conventions. All raw files should end with raw.fif, raw_sss.fif, raw_tsss.fif, raw.fif.gz, raw_sss.fif.gz, raw_tsss.fif.gz or _meg.fif\n",
      "  raw_data.save(new_subset_name, picks=['eeg'],\n",
      "<ipython-input-154-8c037cfb9b83>:30: RuntimeWarning: This filename (/Users/robert/Desktop/School/Grad/481c/seizure-classification/training/data_subset/dev/00000675_s002_t001_start_168.2120_end_169.9120_type_seiz_eeg.fif) does not conform to MNE naming conventions. All raw files should end with raw.fif, raw_sss.fif, raw_tsss.fif, raw.fif.gz, raw_sss.fif.gz, raw_tsss.fif.gz or _meg.fif\n",
      "  raw_data.save(new_subset_name, picks=['eeg'],\n",
      "<ipython-input-154-8c037cfb9b83>:30: RuntimeWarning: This filename (/Users/robert/Desktop/School/Grad/481c/seizure-classification/training/data_subset/dev/00000675_s002_t001_start_181.3120_end_185.1120_type_seiz_eeg.fif) does not conform to MNE naming conventions. All raw files should end with raw.fif, raw_sss.fif, raw_tsss.fif, raw.fif.gz, raw_sss.fif.gz, raw_tsss.fif.gz or _meg.fif\n",
      "  raw_data.save(new_subset_name, picks=['eeg'],\n",
      "<ipython-input-154-8c037cfb9b83>:30: RuntimeWarning: This filename (/Users/robert/Desktop/School/Grad/481c/seizure-classification/training/data_subset/dev/00000675_s002_t001_start_205.4120_end_210.2120_type_seiz_eeg.fif) does not conform to MNE naming conventions. All raw files should end with raw.fif, raw_sss.fif, raw_tsss.fif, raw.fif.gz, raw_sss.fif.gz, raw_tsss.fif.gz or _meg.fif\n",
      "  raw_data.save(new_subset_name, picks=['eeg'],\n",
      "<ipython-input-154-8c037cfb9b83>:30: RuntimeWarning: This filename (/Users/robert/Desktop/School/Grad/481c/seizure-classification/training/data_subset/dev/00000675_s002_t001_start_232.1120_end_234.1120_type_seiz_eeg.fif) does not conform to MNE naming conventions. All raw files should end with raw.fif, raw_sss.fif, raw_tsss.fif, raw.fif.gz, raw_sss.fif.gz, raw_tsss.fif.gz or _meg.fif\n",
      "  raw_data.save(new_subset_name, picks=['eeg'],\n",
      "<ipython-input-154-8c037cfb9b83>:30: RuntimeWarning: This filename (/Users/robert/Desktop/School/Grad/481c/seizure-classification/training/data_subset/dev/00000675_s002_t001_start_244.3120_end_246.3120_type_seiz_eeg.fif) does not conform to MNE naming conventions. All raw files should end with raw.fif, raw_sss.fif, raw_tsss.fif, raw.fif.gz, raw_sss.fif.gz, raw_tsss.fif.gz or _meg.fif\n",
      "  raw_data.save(new_subset_name, picks=['eeg'],\n",
      "<ipython-input-154-8c037cfb9b83>:30: RuntimeWarning: This filename (/Users/robert/Desktop/School/Grad/481c/seizure-classification/training/data_subset/dev/00000675_s002_t001_start_251.5120_end_254.3120_type_seiz_eeg.fif) does not conform to MNE naming conventions. All raw files should end with raw.fif, raw_sss.fif, raw_tsss.fif, raw.fif.gz, raw_sss.fif.gz, raw_tsss.fif.gz or _meg.fif\n",
      "  raw_data.save(new_subset_name, picks=['eeg'],\n",
      "<ipython-input-154-8c037cfb9b83>:30: RuntimeWarning: This filename (/Users/robert/Desktop/School/Grad/481c/seizure-classification/training/data_subset/dev/00000675_s002_t001_start_255.2120_end_256.6120_type_seiz_eeg.fif) does not conform to MNE naming conventions. All raw files should end with raw.fif, raw_sss.fif, raw_tsss.fif, raw.fif.gz, raw_sss.fif.gz, raw_tsss.fif.gz or _meg.fif\n",
      "  raw_data.save(new_subset_name, picks=['eeg'],\n",
      "<ipython-input-154-8c037cfb9b83>:30: RuntimeWarning: This filename (/Users/robert/Desktop/School/Grad/481c/seizure-classification/training/data_subset/dev/00000675_s002_t001_start_313.4120_end_319.7120_type_seiz_eeg.fif) does not conform to MNE naming conventions. All raw files should end with raw.fif, raw_sss.fif, raw_tsss.fif, raw.fif.gz, raw_sss.fif.gz, raw_tsss.fif.gz or _meg.fif\n",
      "  raw_data.save(new_subset_name, picks=['eeg'],\n",
      "<ipython-input-154-8c037cfb9b83>:30: RuntimeWarning: This filename (/Users/robert/Desktop/School/Grad/481c/seizure-classification/training/data_subset/dev/00000675_s002_t001_start_554.7680_end_558.9680_type_seiz_eeg.fif) does not conform to MNE naming conventions. All raw files should end with raw.fif, raw_sss.fif, raw_tsss.fif, raw.fif.gz, raw_sss.fif.gz, raw_tsss.fif.gz or _meg.fif\n",
      "  raw_data.save(new_subset_name, picks=['eeg'],\n",
      "<ipython-input-154-8c037cfb9b83>:30: RuntimeWarning: This filename (/Users/robert/Desktop/School/Grad/481c/seizure-classification/training/data_subset/dev/00000675_s002_t001_start_777.1240_end_783.6240_type_seiz_eeg.fif) does not conform to MNE naming conventions. All raw files should end with raw.fif, raw_sss.fif, raw_tsss.fif, raw.fif.gz, raw_sss.fif.gz, raw_tsss.fif.gz or _meg.fif\n",
      "  raw_data.save(new_subset_name, picks=['eeg'],\n",
      "<ipython-input-154-8c037cfb9b83>:30: RuntimeWarning: This filename (/Users/robert/Desktop/School/Grad/481c/seizure-classification/training/data_subset/dev/00000675_s002_t001_start_1025.0633_end_1028.2120_type_seiz_eeg.fif) does not conform to MNE naming conventions. All raw files should end with raw.fif, raw_sss.fif, raw_tsss.fif, raw.fif.gz, raw_sss.fif.gz, raw_tsss.fif.gz or _meg.fif\n",
      "  raw_data.save(new_subset_name, picks=['eeg'],\n",
      "<ipython-input-154-8c037cfb9b83>:30: RuntimeWarning: This filename (/Users/robert/Desktop/School/Grad/481c/seizure-classification/training/data_subset/dev/00000675_s002_t001_start_1034.0120_end_1037.3120_type_seiz_eeg.fif) does not conform to MNE naming conventions. All raw files should end with raw.fif, raw_sss.fif, raw_tsss.fif, raw.fif.gz, raw_sss.fif.gz, raw_tsss.fif.gz or _meg.fif\n",
      "  raw_data.save(new_subset_name, picks=['eeg'],\n",
      "<ipython-input-154-8c037cfb9b83>:30: RuntimeWarning: This filename (/Users/robert/Desktop/School/Grad/481c/seizure-classification/training/data_subset/dev/00000675_s002_t001_start_1045.0120_end_1046.5120_type_seiz_eeg.fif) does not conform to MNE naming conventions. All raw files should end with raw.fif, raw_sss.fif, raw_tsss.fif, raw.fif.gz, raw_sss.fif.gz, raw_tsss.fif.gz or _meg.fif\n",
      "  raw_data.save(new_subset_name, picks=['eeg'],\n",
      "<ipython-input-154-8c037cfb9b83>:30: RuntimeWarning: This filename (/Users/robert/Desktop/School/Grad/481c/seizure-classification/training/data_subset/dev/00000675_s002_t001_start_1086.0120_end_1088.0120_type_seiz_eeg.fif) does not conform to MNE naming conventions. All raw files should end with raw.fif, raw_sss.fif, raw_tsss.fif, raw.fif.gz, raw_sss.fif.gz, raw_tsss.fif.gz or _meg.fif\n",
      "  raw_data.save(new_subset_name, picks=['eeg'],\n",
      "<ipython-input-154-8c037cfb9b83>:30: RuntimeWarning: This filename (/Users/robert/Desktop/School/Grad/481c/seizure-classification/training/data_subset/dev/00000675_s002_t001_start_1105.4120_end_1107.8120_type_seiz_eeg.fif) does not conform to MNE naming conventions. All raw files should end with raw.fif, raw_sss.fif, raw_tsss.fif, raw.fif.gz, raw_sss.fif.gz, raw_tsss.fif.gz or _meg.fif\n",
      "  raw_data.save(new_subset_name, picks=['eeg'],\n",
      "<ipython-input-154-8c037cfb9b83>:30: RuntimeWarning: This filename (/Users/robert/Desktop/School/Grad/481c/seizure-classification/training/data_subset/dev/00000675_s002_t001_start_1126.4120_end_1129.4120_type_seiz_eeg.fif) does not conform to MNE naming conventions. All raw files should end with raw.fif, raw_sss.fif, raw_tsss.fif, raw.fif.gz, raw_sss.fif.gz, raw_tsss.fif.gz or _meg.fif\n",
      "  raw_data.save(new_subset_name, picks=['eeg'],\n"
     ]
    },
    {
     "name": "stdout",
     "output_type": "stream",
     "text": [
      "Writing /Users/robert/Desktop/School/Grad/481c/seizure-classification/training/data_subset/dev/00000675_s001_t001_start_117.0680_end_137.7680_type_seiz_eeg.fif\n",
      "Closing /Users/robert/Desktop/School/Grad/481c/seizure-classification/training/data_subset/dev/00000675_s001_t001_start_117.0680_end_137.7680_type_seiz_eeg.fif\n",
      "[done]\n",
      "Writing /Users/robert/Desktop/School/Grad/481c/seizure-classification/training/data_subset/dev/00000675_s001_t001_start_266.6560_end_282.5560_type_seiz_eeg.fif\n",
      "Closing /Users/robert/Desktop/School/Grad/481c/seizure-classification/training/data_subset/dev/00000675_s001_t001_start_266.6560_end_282.5560_type_seiz_eeg.fif\n",
      "[done]\n",
      "Writing /Users/robert/Desktop/School/Grad/481c/seizure-classification/training/data_subset/dev/00000675_s001_t001_start_383.9960_end_399.0960_type_seiz_eeg.fif\n",
      "Closing /Users/robert/Desktop/School/Grad/481c/seizure-classification/training/data_subset/dev/00000675_s001_t001_start_383.9960_end_399.0960_type_seiz_eeg.fif\n",
      "[done]\n",
      "Extracting EDF parameters from /Users/robert/eeg_data/edf/dev/02_tcp_le/017/00001770/s003_2006_10_26/00001770_s003_t000.edf...\n",
      "EDF file detected\n",
      "Setting channel info structure...\n",
      "Creating raw.info structure...\n",
      "Reading 0 ... 592499  =      0.000 ...  2369.996 secs...\n"
     ]
    },
    {
     "name": "stderr",
     "output_type": "stream",
     "text": [
      "<ipython-input-154-8c037cfb9b83>:30: RuntimeWarning: This filename (/Users/robert/Desktop/School/Grad/481c/seizure-classification/training/data_subset/dev/00000675_s001_t001_start_117.0680_end_137.7680_type_seiz_eeg.fif) does not conform to MNE naming conventions. All raw files should end with raw.fif, raw_sss.fif, raw_tsss.fif, raw.fif.gz, raw_sss.fif.gz, raw_tsss.fif.gz or _meg.fif\n",
      "  raw_data.save(new_subset_name, picks=['eeg'],\n",
      "<ipython-input-154-8c037cfb9b83>:30: RuntimeWarning: This filename (/Users/robert/Desktop/School/Grad/481c/seizure-classification/training/data_subset/dev/00000675_s001_t001_start_266.6560_end_282.5560_type_seiz_eeg.fif) does not conform to MNE naming conventions. All raw files should end with raw.fif, raw_sss.fif, raw_tsss.fif, raw.fif.gz, raw_sss.fif.gz, raw_tsss.fif.gz or _meg.fif\n",
      "  raw_data.save(new_subset_name, picks=['eeg'],\n",
      "<ipython-input-154-8c037cfb9b83>:30: RuntimeWarning: This filename (/Users/robert/Desktop/School/Grad/481c/seizure-classification/training/data_subset/dev/00000675_s001_t001_start_383.9960_end_399.0960_type_seiz_eeg.fif) does not conform to MNE naming conventions. All raw files should end with raw.fif, raw_sss.fif, raw_tsss.fif, raw.fif.gz, raw_sss.fif.gz, raw_tsss.fif.gz or _meg.fif\n",
      "  raw_data.save(new_subset_name, picks=['eeg'],\n",
      "<ipython-input-154-8c037cfb9b83>:30: RuntimeWarning: This filename (/Users/robert/Desktop/School/Grad/481c/seizure-classification/training/data_subset/dev/00000675_s001_t001_start_498.1680_end_516.8680_type_seiz_eeg.fif) does not conform to MNE naming conventions. All raw files should end with raw.fif, raw_sss.fif, raw_tsss.fif, raw.fif.gz, raw_sss.fif.gz, raw_tsss.fif.gz or _meg.fif\n",
      "  raw_data.save(new_subset_name, picks=['eeg'],\n",
      "<ipython-input-154-8c037cfb9b83>:30: RuntimeWarning: This filename (/Users/robert/Desktop/School/Grad/481c/seizure-classification/training/data_subset/dev/00000675_s001_t001_start_592.0440_end_609.0440_type_seiz_eeg.fif) does not conform to MNE naming conventions. All raw files should end with raw.fif, raw_sss.fif, raw_tsss.fif, raw.fif.gz, raw_sss.fif.gz, raw_tsss.fif.gz or _meg.fif\n",
      "  raw_data.save(new_subset_name, picks=['eeg'],\n",
      "<ipython-input-154-8c037cfb9b83>:30: RuntimeWarning: This filename (/Users/robert/Desktop/School/Grad/481c/seizure-classification/training/data_subset/dev/00000675_s001_t001_start_739.0200_end_754.2200_type_seiz_eeg.fif) does not conform to MNE naming conventions. All raw files should end with raw.fif, raw_sss.fif, raw_tsss.fif, raw.fif.gz, raw_sss.fif.gz, raw_tsss.fif.gz or _meg.fif\n",
      "  raw_data.save(new_subset_name, picks=['eeg'],\n",
      "<ipython-input-154-8c037cfb9b83>:30: RuntimeWarning: This filename (/Users/robert/Desktop/School/Grad/481c/seizure-classification/training/data_subset/dev/00000675_s001_t001_start_833.9200_end_844.2200_type_seiz_eeg.fif) does not conform to MNE naming conventions. All raw files should end with raw.fif, raw_sss.fif, raw_tsss.fif, raw.fif.gz, raw_sss.fif.gz, raw_tsss.fif.gz or _meg.fif\n",
      "  raw_data.save(new_subset_name, picks=['eeg'],\n",
      "<ipython-input-154-8c037cfb9b83>:30: RuntimeWarning: This filename (/Users/robert/Desktop/School/Grad/481c/seizure-classification/training/data_subset/dev/00000675_s001_t001_start_939.9920_end_949.4920_type_seiz_eeg.fif) does not conform to MNE naming conventions. All raw files should end with raw.fif, raw_sss.fif, raw_tsss.fif, raw.fif.gz, raw_sss.fif.gz, raw_tsss.fif.gz or _meg.fif\n",
      "  raw_data.save(new_subset_name, picks=['eeg'],\n",
      "<ipython-input-154-8c037cfb9b83>:30: RuntimeWarning: This filename (/Users/robert/Desktop/School/Grad/481c/seizure-classification/training/data_subset/dev/00000675_s001_t001_start_1121.0426_end_1141.3000_type_seiz_eeg.fif) does not conform to MNE naming conventions. All raw files should end with raw.fif, raw_sss.fif, raw_tsss.fif, raw.fif.gz, raw_sss.fif.gz, raw_tsss.fif.gz or _meg.fif\n",
      "  raw_data.save(new_subset_name, picks=['eeg'],\n"
     ]
    },
    {
     "name": "stdout",
     "output_type": "stream",
     "text": [
      "Writing /Users/robert/Desktop/School/Grad/481c/seizure-classification/training/data_subset/dev/00001770_s003_t000_start_25.6120_end_2369.0000_type_seiz_eeg.fif\n",
      "Closing /Users/robert/Desktop/School/Grad/481c/seizure-classification/training/data_subset/dev/00001770_s003_t000_start_25.6120_end_2369.0000_type_seiz_eeg.fif\n",
      "[done]\n",
      "Extracting EDF parameters from /Users/robert/eeg_data/edf/dev/02_tcp_le/010/00001027/s001_2004_01_27/00001027_s001_t001.edf...\n",
      "EDF file detected\n",
      "Setting channel info structure...\n",
      "Creating raw.info structure...\n",
      "Reading 0 ... 292749  =      0.000 ...  1170.996 secs...\n",
      "Extracting EDF parameters from /Users/robert/eeg_data/edf/dev/02_tcp_le/019/00001981/s001_2004_02_20/00001981_s001_t000.edf...\n",
      "EDF file detected\n",
      "Setting channel info structure...\n",
      "Creating raw.info structure...\n",
      "Reading 0 ... 480999  =      0.000 ...  1923.996 secs...\n"
     ]
    },
    {
     "name": "stderr",
     "output_type": "stream",
     "text": [
      "<ipython-input-154-8c037cfb9b83>:30: RuntimeWarning: This filename (/Users/robert/Desktop/School/Grad/481c/seizure-classification/training/data_subset/dev/00001770_s003_t000_start_25.6120_end_2369.0000_type_seiz_eeg.fif) does not conform to MNE naming conventions. All raw files should end with raw.fif, raw_sss.fif, raw_tsss.fif, raw.fif.gz, raw_sss.fif.gz, raw_tsss.fif.gz or _meg.fif\n",
      "  raw_data.save(new_subset_name, picks=['eeg'],\n",
      "<ipython-input-154-8c037cfb9b83>:30: RuntimeWarning: This filename (/Users/robert/Desktop/School/Grad/481c/seizure-classification/training/data_subset/dev/00001027_s001_t001_start_556.6840_end_678.9160_type_seiz_eeg.fif) does not conform to MNE naming conventions. All raw files should end with raw.fif, raw_sss.fif, raw_tsss.fif, raw.fif.gz, raw_sss.fif.gz, raw_tsss.fif.gz or _meg.fif\n",
      "  raw_data.save(new_subset_name, picks=['eeg'],\n"
     ]
    },
    {
     "name": "stdout",
     "output_type": "stream",
     "text": [
      "Extracting EDF parameters from /Users/robert/eeg_data/edf/dev/02_tcp_le/019/00001984/s001_2004_02_17/00001984_s001_t001.edf...\n",
      "EDF file detected\n",
      "Setting channel info structure...\n",
      "Creating raw.info structure...\n",
      "Reading 0 ... 364749  =      0.000 ...  1458.996 secs...\n",
      "Writing /Users/robert/Desktop/School/Grad/481c/seizure-classification/training/data_subset/dev/00001984_s001_t001_start_101.3120_end_111.1120_type_seiz_eeg.fif\n",
      "Closing /Users/robert/Desktop/School/Grad/481c/seizure-classification/training/data_subset/dev/00001984_s001_t001_start_101.3120_end_111.1120_type_seiz_eeg.fif\n",
      "[done]\n",
      "Writing /Users/robert/Desktop/School/Grad/481c/seizure-classification/training/data_subset/dev/00001984_s001_t001_start_121.2120_end_130.2120_type_seiz_eeg.fif\n",
      "Closing /Users/robert/Desktop/School/Grad/481c/seizure-classification/training/data_subset/dev/00001984_s001_t001_start_121.2120_end_130.2120_type_seiz_eeg.fif\n",
      "[done]\n",
      "Writing /Users/robert/Desktop/School/Grad/481c/seizure-classification/training/data_subset/dev/00001984_s001_t001_start_307.6120_end_315.4120_type_seiz_eeg.fif\n",
      "Closing /Users/robert/Desktop/School/Grad/481c/seizure-classification/training/data_subset/dev/00001984_s001_t001_start_307.6120_end_315.4120_type_seiz_eeg.fif\n",
      "[done]\n",
      "Extracting EDF parameters from /Users/robert/eeg_data/edf/dev/02_tcp_le/032/00003281/s001_2006_10_09/00003281_s001_t001.edf...\n",
      "EDF file detected\n",
      "Setting channel info structure...\n",
      "Creating raw.info structure...\n",
      "Reading 0 ... 328249  =      0.000 ...  1312.996 secs...\n"
     ]
    },
    {
     "name": "stderr",
     "output_type": "stream",
     "text": [
      "<ipython-input-154-8c037cfb9b83>:30: RuntimeWarning: This filename (/Users/robert/Desktop/School/Grad/481c/seizure-classification/training/data_subset/dev/00001981_s001_t000_start_1028.8632_end_1069.3440_type_seiz_eeg.fif) does not conform to MNE naming conventions. All raw files should end with raw.fif, raw_sss.fif, raw_tsss.fif, raw.fif.gz, raw_sss.fif.gz, raw_tsss.fif.gz or _meg.fif\n",
      "  raw_data.save(new_subset_name, picks=['eeg'],\n",
      "<ipython-input-154-8c037cfb9b83>:30: RuntimeWarning: This filename (/Users/robert/Desktop/School/Grad/481c/seizure-classification/training/data_subset/dev/00001984_s001_t001_start_101.3120_end_111.1120_type_seiz_eeg.fif) does not conform to MNE naming conventions. All raw files should end with raw.fif, raw_sss.fif, raw_tsss.fif, raw.fif.gz, raw_sss.fif.gz, raw_tsss.fif.gz or _meg.fif\n",
      "  raw_data.save(new_subset_name, picks=['eeg'],\n",
      "<ipython-input-154-8c037cfb9b83>:30: RuntimeWarning: This filename (/Users/robert/Desktop/School/Grad/481c/seizure-classification/training/data_subset/dev/00001984_s001_t001_start_121.2120_end_130.2120_type_seiz_eeg.fif) does not conform to MNE naming conventions. All raw files should end with raw.fif, raw_sss.fif, raw_tsss.fif, raw.fif.gz, raw_sss.fif.gz, raw_tsss.fif.gz or _meg.fif\n",
      "  raw_data.save(new_subset_name, picks=['eeg'],\n",
      "<ipython-input-154-8c037cfb9b83>:30: RuntimeWarning: This filename (/Users/robert/Desktop/School/Grad/481c/seizure-classification/training/data_subset/dev/00001984_s001_t001_start_307.6120_end_315.4120_type_seiz_eeg.fif) does not conform to MNE naming conventions. All raw files should end with raw.fif, raw_sss.fif, raw_tsss.fif, raw.fif.gz, raw_sss.fif.gz, raw_tsss.fif.gz or _meg.fif\n",
      "  raw_data.save(new_subset_name, picks=['eeg'],\n",
      "<ipython-input-154-8c037cfb9b83>:30: RuntimeWarning: This filename (/Users/robert/Desktop/School/Grad/481c/seizure-classification/training/data_subset/dev/00001984_s001_t001_start_436.2520_end_448.3520_type_seiz_eeg.fif) does not conform to MNE naming conventions. All raw files should end with raw.fif, raw_sss.fif, raw_tsss.fif, raw.fif.gz, raw_sss.fif.gz, raw_tsss.fif.gz or _meg.fif\n",
      "  raw_data.save(new_subset_name, picks=['eeg'],\n",
      "<ipython-input-154-8c037cfb9b83>:30: RuntimeWarning: This filename (/Users/robert/Desktop/School/Grad/481c/seizure-classification/training/data_subset/dev/00001984_s001_t001_start_557.1960_end_565.2960_type_seiz_eeg.fif) does not conform to MNE naming conventions. All raw files should end with raw.fif, raw_sss.fif, raw_tsss.fif, raw.fif.gz, raw_sss.fif.gz, raw_tsss.fif.gz or _meg.fif\n",
      "  raw_data.save(new_subset_name, picks=['eeg'],\n",
      "<ipython-input-154-8c037cfb9b83>:30: RuntimeWarning: This filename (/Users/robert/Desktop/School/Grad/481c/seizure-classification/training/data_subset/dev/00001984_s001_t001_start_763.2240_end_775.3240_type_seiz_eeg.fif) does not conform to MNE naming conventions. All raw files should end with raw.fif, raw_sss.fif, raw_tsss.fif, raw.fif.gz, raw_sss.fif.gz, raw_tsss.fif.gz or _meg.fif\n",
      "  raw_data.save(new_subset_name, picks=['eeg'],\n",
      "<ipython-input-154-8c037cfb9b83>:30: RuntimeWarning: This filename (/Users/robert/Desktop/School/Grad/481c/seizure-classification/training/data_subset/dev/00001984_s001_t001_start_802.1240_end_810.3240_type_seiz_eeg.fif) does not conform to MNE naming conventions. All raw files should end with raw.fif, raw_sss.fif, raw_tsss.fif, raw.fif.gz, raw_sss.fif.gz, raw_tsss.fif.gz or _meg.fif\n",
      "  raw_data.save(new_subset_name, picks=['eeg'],\n",
      "<ipython-input-154-8c037cfb9b83>:30: RuntimeWarning: This filename (/Users/robert/Desktop/School/Grad/481c/seizure-classification/training/data_subset/dev/00001984_s001_t001_start_964.4960_end_974.2960_type_seiz_eeg.fif) does not conform to MNE naming conventions. All raw files should end with raw.fif, raw_sss.fif, raw_tsss.fif, raw.fif.gz, raw_sss.fif.gz, raw_tsss.fif.gz or _meg.fif\n",
      "  raw_data.save(new_subset_name, picks=['eeg'],\n",
      "<ipython-input-154-8c037cfb9b83>:30: RuntimeWarning: This filename (/Users/robert/Desktop/School/Grad/481c/seizure-classification/training/data_subset/dev/00001984_s001_t001_start_1166.9840_end_1173.9836_type_seiz_eeg.fif) does not conform to MNE naming conventions. All raw files should end with raw.fif, raw_sss.fif, raw_tsss.fif, raw.fif.gz, raw_sss.fif.gz, raw_tsss.fif.gz or _meg.fif\n",
      "  raw_data.save(new_subset_name, picks=['eeg'],\n"
     ]
    },
    {
     "name": "stdout",
     "output_type": "stream",
     "text": [
      "Extracting EDF parameters from /Users/robert/eeg_data/edf/dev/02_tcp_le/059/00005943/s001_2009_06_28/00005943_s001_t000.edf...\n",
      "EDF file detected\n",
      "Setting channel info structure...\n",
      "Creating raw.info structure...\n",
      "Reading 0 ... 699749  =      0.000 ...  2798.996 secs...\n"
     ]
    },
    {
     "name": "stderr",
     "output_type": "stream",
     "text": [
      "<ipython-input-154-8c037cfb9b83>:30: RuntimeWarning: This filename (/Users/robert/Desktop/School/Grad/481c/seizure-classification/training/data_subset/dev/00003281_s001_t001_start_646.0200_end_657.5333_type_seiz_eeg.fif) does not conform to MNE naming conventions. All raw files should end with raw.fif, raw_sss.fif, raw_tsss.fif, raw.fif.gz, raw_sss.fif.gz, raw_tsss.fif.gz or _meg.fif\n",
      "  raw_data.save(new_subset_name, picks=['eeg'],\n",
      "<ipython-input-154-8c037cfb9b83>:30: RuntimeWarning: This filename (/Users/robert/Desktop/School/Grad/481c/seizure-classification/training/data_subset/dev/00003281_s001_t001_start_811.5720_end_819.8720_type_seiz_eeg.fif) does not conform to MNE naming conventions. All raw files should end with raw.fif, raw_sss.fif, raw_tsss.fif, raw.fif.gz, raw_sss.fif.gz, raw_tsss.fif.gz or _meg.fif\n",
      "  raw_data.save(new_subset_name, picks=['eeg'],\n"
     ]
    },
    {
     "name": "stdout",
     "output_type": "stream",
     "text": [
      "Writing /Users/robert/Desktop/School/Grad/481c/seizure-classification/training/data_subset/dev/00005943_s001_t000_start_1.0000_end_93.6318_type_seiz_eeg.fif\n",
      "Closing /Users/robert/Desktop/School/Grad/481c/seizure-classification/training/data_subset/dev/00005943_s001_t000_start_1.0000_end_93.6318_type_seiz_eeg.fif\n",
      "[done]\n",
      "Writing /Users/robert/Desktop/School/Grad/481c/seizure-classification/training/data_subset/dev/00005943_s001_t000_start_107.6722_end_265.7801_type_seiz_eeg.fif\n",
      "Closing /Users/robert/Desktop/School/Grad/481c/seizure-classification/training/data_subset/dev/00005943_s001_t000_start_107.6722_end_265.7801_type_seiz_eeg.fif\n",
      "[done]\n",
      "Writing /Users/robert/Desktop/School/Grad/481c/seizure-classification/training/data_subset/dev/00005943_s001_t000_start_314.5295_end_485.0124_type_seiz_eeg.fif\n",
      "Closing /Users/robert/Desktop/School/Grad/481c/seizure-classification/training/data_subset/dev/00005943_s001_t000_start_314.5295_end_485.0124_type_seiz_eeg.fif\n",
      "[done]\n"
     ]
    },
    {
     "name": "stderr",
     "output_type": "stream",
     "text": [
      "<ipython-input-154-8c037cfb9b83>:30: RuntimeWarning: This filename (/Users/robert/Desktop/School/Grad/481c/seizure-classification/training/data_subset/dev/00005943_s001_t000_start_1.0000_end_93.6318_type_seiz_eeg.fif) does not conform to MNE naming conventions. All raw files should end with raw.fif, raw_sss.fif, raw_tsss.fif, raw.fif.gz, raw_sss.fif.gz, raw_tsss.fif.gz or _meg.fif\n",
      "  raw_data.save(new_subset_name, picks=['eeg'],\n",
      "<ipython-input-154-8c037cfb9b83>:30: RuntimeWarning: This filename (/Users/robert/Desktop/School/Grad/481c/seizure-classification/training/data_subset/dev/00005943_s001_t000_start_107.6722_end_265.7801_type_seiz_eeg.fif) does not conform to MNE naming conventions. All raw files should end with raw.fif, raw_sss.fif, raw_tsss.fif, raw.fif.gz, raw_sss.fif.gz, raw_tsss.fif.gz or _meg.fif\n",
      "  raw_data.save(new_subset_name, picks=['eeg'],\n",
      "<ipython-input-154-8c037cfb9b83>:30: RuntimeWarning: This filename (/Users/robert/Desktop/School/Grad/481c/seizure-classification/training/data_subset/dev/00005943_s001_t000_start_314.5295_end_485.0124_type_seiz_eeg.fif) does not conform to MNE naming conventions. All raw files should end with raw.fif, raw_sss.fif, raw_tsss.fif, raw.fif.gz, raw_sss.fif.gz, raw_tsss.fif.gz or _meg.fif\n",
      "  raw_data.save(new_subset_name, picks=['eeg'],\n",
      "<ipython-input-154-8c037cfb9b83>:30: RuntimeWarning: This filename (/Users/robert/Desktop/School/Grad/481c/seizure-classification/training/data_subset/dev/00005943_s001_t000_start_487.9723_end_645.3322_type_seiz_eeg.fif) does not conform to MNE naming conventions. All raw files should end with raw.fif, raw_sss.fif, raw_tsss.fif, raw.fif.gz, raw_sss.fif.gz, raw_tsss.fif.gz or _meg.fif\n",
      "  raw_data.save(new_subset_name, picks=['eeg'],\n",
      "<ipython-input-154-8c037cfb9b83>:30: RuntimeWarning: This filename (/Users/robert/Desktop/School/Grad/481c/seizure-classification/training/data_subset/dev/00005943_s001_t000_start_694.3657_end_818.5749_type_seiz_eeg.fif) does not conform to MNE naming conventions. All raw files should end with raw.fif, raw_sss.fif, raw_tsss.fif, raw.fif.gz, raw_sss.fif.gz, raw_tsss.fif.gz or _meg.fif\n",
      "  raw_data.save(new_subset_name, picks=['eeg'],\n",
      "<ipython-input-154-8c037cfb9b83>:30: RuntimeWarning: This filename (/Users/robert/Desktop/School/Grad/481c/seizure-classification/training/data_subset/dev/00005943_s001_t000_start_904.1115_end_1039.1171_type_seiz_eeg.fif) does not conform to MNE naming conventions. All raw files should end with raw.fif, raw_sss.fif, raw_tsss.fif, raw.fif.gz, raw_sss.fif.gz, raw_tsss.fif.gz or _meg.fif\n",
      "  raw_data.save(new_subset_name, picks=['eeg'],\n",
      "<ipython-input-154-8c037cfb9b83>:30: RuntimeWarning: This filename (/Users/robert/Desktop/School/Grad/481c/seizure-classification/training/data_subset/dev/00005943_s001_t000_start_1102.4470_end_1206.7949_type_seiz_eeg.fif) does not conform to MNE naming conventions. All raw files should end with raw.fif, raw_sss.fif, raw_tsss.fif, raw.fif.gz, raw_sss.fif.gz, raw_tsss.fif.gz or _meg.fif\n",
      "  raw_data.save(new_subset_name, picks=['eeg'],\n",
      "<ipython-input-154-8c037cfb9b83>:30: RuntimeWarning: This filename (/Users/robert/Desktop/School/Grad/481c/seizure-classification/training/data_subset/dev/00005943_s001_t000_start_1267.2787_end_1453.6499_type_seiz_eeg.fif) does not conform to MNE naming conventions. All raw files should end with raw.fif, raw_sss.fif, raw_tsss.fif, raw.fif.gz, raw_sss.fif.gz, raw_tsss.fif.gz or _meg.fif\n",
      "  raw_data.save(new_subset_name, picks=['eeg'],\n",
      "<ipython-input-154-8c037cfb9b83>:30: RuntimeWarning: This filename (/Users/robert/Desktop/School/Grad/481c/seizure-classification/training/data_subset/dev/00005943_s001_t000_start_1496.4582_end_1687.3061_type_seiz_eeg.fif) does not conform to MNE naming conventions. All raw files should end with raw.fif, raw_sss.fif, raw_tsss.fif, raw.fif.gz, raw_sss.fif.gz, raw_tsss.fif.gz or _meg.fif\n",
      "  raw_data.save(new_subset_name, picks=['eeg'],\n",
      "<ipython-input-154-8c037cfb9b83>:30: RuntimeWarning: This filename (/Users/robert/Desktop/School/Grad/481c/seizure-classification/training/data_subset/dev/00005943_s001_t000_start_1769.2680_end_1886.4440_type_seiz_eeg.fif) does not conform to MNE naming conventions. All raw files should end with raw.fif, raw_sss.fif, raw_tsss.fif, raw.fif.gz, raw_sss.fif.gz, raw_tsss.fif.gz or _meg.fif\n",
      "  raw_data.save(new_subset_name, picks=['eeg'],\n",
      "<ipython-input-154-8c037cfb9b83>:30: RuntimeWarning: This filename (/Users/robert/Desktop/School/Grad/481c/seizure-classification/training/data_subset/dev/00005943_s001_t000_start_2035.9600_end_2210.3073_type_seiz_eeg.fif) does not conform to MNE naming conventions. All raw files should end with raw.fif, raw_sss.fif, raw_tsss.fif, raw.fif.gz, raw_sss.fif.gz, raw_tsss.fif.gz or _meg.fif\n",
      "  raw_data.save(new_subset_name, picks=['eeg'],\n"
     ]
    },
    {
     "name": "stdout",
     "output_type": "stream",
     "text": [
      "Extracting EDF parameters from /Users/robert/eeg_data/edf/dev/02_tcp_le/033/00003306/s001_2006_10_11/00003306_s001_t001.edf...\n",
      "EDF file detected\n",
      "Setting channel info structure...\n",
      "Creating raw.info structure...\n",
      "Reading 0 ... 356499  =      0.000 ...  1425.996 secs...\n",
      "Writing /Users/robert/Desktop/School/Grad/481c/seizure-classification/training/data_subset/dev/00003306_s001_t001_start_193.8440_end_200.0440_type_seiz_eeg.fif\n",
      "Closing /Users/robert/Desktop/School/Grad/481c/seizure-classification/training/data_subset/dev/00003306_s001_t001_start_193.8440_end_200.0440_type_seiz_eeg.fif\n",
      "[done]\n",
      "Writing /Users/robert/Desktop/School/Grad/481c/seizure-classification/training/data_subset/dev/00003306_s001_t001_start_287.8320_end_296.5320_type_seiz_eeg.fif\n",
      "Closing /Users/robert/Desktop/School/Grad/481c/seizure-classification/training/data_subset/dev/00003306_s001_t001_start_287.8320_end_296.5320_type_seiz_eeg.fif\n",
      "[done]\n",
      "Extracting EDF parameters from /Users/robert/eeg_data/edf/dev/02_tcp_le/002/00000258/s001_2003_07_16/00000258_s001_t000.edf...\n",
      "EDF file detected\n",
      "Setting channel info structure...\n",
      "Creating raw.info structure...\n",
      "Reading 0 ... 437499  =      0.000 ...  1749.996 secs...\n"
     ]
    },
    {
     "name": "stderr",
     "output_type": "stream",
     "text": [
      "<ipython-input-154-8c037cfb9b83>:30: RuntimeWarning: This filename (/Users/robert/Desktop/School/Grad/481c/seizure-classification/training/data_subset/dev/00003306_s001_t001_start_193.8440_end_200.0440_type_seiz_eeg.fif) does not conform to MNE naming conventions. All raw files should end with raw.fif, raw_sss.fif, raw_tsss.fif, raw.fif.gz, raw_sss.fif.gz, raw_tsss.fif.gz or _meg.fif\n",
      "  raw_data.save(new_subset_name, picks=['eeg'],\n",
      "<ipython-input-154-8c037cfb9b83>:30: RuntimeWarning: This filename (/Users/robert/Desktop/School/Grad/481c/seizure-classification/training/data_subset/dev/00003306_s001_t001_start_287.8320_end_296.5320_type_seiz_eeg.fif) does not conform to MNE naming conventions. All raw files should end with raw.fif, raw_sss.fif, raw_tsss.fif, raw.fif.gz, raw_sss.fif.gz, raw_tsss.fif.gz or _meg.fif\n",
      "  raw_data.save(new_subset_name, picks=['eeg'],\n",
      "<ipython-input-154-8c037cfb9b83>:30: RuntimeWarning: This filename (/Users/robert/Desktop/School/Grad/481c/seizure-classification/training/data_subset/dev/00003306_s001_t001_start_564.3040_end_573.2149_type_seiz_eeg.fif) does not conform to MNE naming conventions. All raw files should end with raw.fif, raw_sss.fif, raw_tsss.fif, raw.fif.gz, raw_sss.fif.gz, raw_tsss.fif.gz or _meg.fif\n",
      "  raw_data.save(new_subset_name, picks=['eeg'],\n",
      "<ipython-input-154-8c037cfb9b83>:30: RuntimeWarning: This filename (/Users/robert/Desktop/School/Grad/481c/seizure-classification/training/data_subset/dev/00003306_s001_t001_start_1355.6120_end_1363.3120_type_seiz_eeg.fif) does not conform to MNE naming conventions. All raw files should end with raw.fif, raw_sss.fif, raw_tsss.fif, raw.fif.gz, raw_sss.fif.gz, raw_tsss.fif.gz or _meg.fif\n",
      "  raw_data.save(new_subset_name, picks=['eeg'],\n"
     ]
    },
    {
     "name": "stdout",
     "output_type": "stream",
     "text": [
      "Writing /Users/robert/Desktop/School/Grad/481c/seizure-classification/training/data_subset/dev/00000258_s001_t000_start_14.3320_end_188.0365_type_seiz_eeg.fif\n",
      "Closing /Users/robert/Desktop/School/Grad/481c/seizure-classification/training/data_subset/dev/00000258_s001_t000_start_14.3320_end_188.0365_type_seiz_eeg.fif\n",
      "[done]\n",
      "Writing /Users/robert/Desktop/School/Grad/481c/seizure-classification/training/data_subset/dev/00000258_s001_t000_start_251.9720_end_317.4720_type_seiz_eeg.fif\n",
      "Closing /Users/robert/Desktop/School/Grad/481c/seizure-classification/training/data_subset/dev/00000258_s001_t000_start_251.9720_end_317.4720_type_seiz_eeg.fif\n",
      "[done]\n",
      "Extracting EDF parameters from /Users/robert/eeg_data/edf/dev/02_tcp_le/002/00000258/s004_2003_07_24/00000258_s004_t000.edf...\n",
      "EDF file detected\n",
      "Setting channel info structure...\n",
      "Creating raw.info structure...\n",
      "Reading 0 ... 324249  =      0.000 ...  1296.996 secs...\n"
     ]
    },
    {
     "name": "stderr",
     "output_type": "stream",
     "text": [
      "<ipython-input-154-8c037cfb9b83>:30: RuntimeWarning: This filename (/Users/robert/Desktop/School/Grad/481c/seizure-classification/training/data_subset/dev/00000258_s001_t000_start_14.3320_end_188.0365_type_seiz_eeg.fif) does not conform to MNE naming conventions. All raw files should end with raw.fif, raw_sss.fif, raw_tsss.fif, raw.fif.gz, raw_sss.fif.gz, raw_tsss.fif.gz or _meg.fif\n",
      "  raw_data.save(new_subset_name, picks=['eeg'],\n",
      "<ipython-input-154-8c037cfb9b83>:30: RuntimeWarning: This filename (/Users/robert/Desktop/School/Grad/481c/seizure-classification/training/data_subset/dev/00000258_s001_t000_start_251.9720_end_317.4720_type_seiz_eeg.fif) does not conform to MNE naming conventions. All raw files should end with raw.fif, raw_sss.fif, raw_tsss.fif, raw.fif.gz, raw_sss.fif.gz, raw_tsss.fif.gz or _meg.fif\n",
      "  raw_data.save(new_subset_name, picks=['eeg'],\n",
      "<ipython-input-154-8c037cfb9b83>:30: RuntimeWarning: This filename (/Users/robert/Desktop/School/Grad/481c/seizure-classification/training/data_subset/dev/00000258_s001_t000_start_481.7640_end_598.1640_type_seiz_eeg.fif) does not conform to MNE naming conventions. All raw files should end with raw.fif, raw_sss.fif, raw_tsss.fif, raw.fif.gz, raw_sss.fif.gz, raw_tsss.fif.gz or _meg.fif\n",
      "  raw_data.save(new_subset_name, picks=['eeg'],\n",
      "<ipython-input-154-8c037cfb9b83>:30: RuntimeWarning: This filename (/Users/robert/Desktop/School/Grad/481c/seizure-classification/training/data_subset/dev/00000258_s001_t000_start_710.8280_end_878.3280_type_seiz_eeg.fif) does not conform to MNE naming conventions. All raw files should end with raw.fif, raw_sss.fif, raw_tsss.fif, raw.fif.gz, raw_sss.fif.gz, raw_tsss.fif.gz or _meg.fif\n",
      "  raw_data.save(new_subset_name, picks=['eeg'],\n",
      "<ipython-input-154-8c037cfb9b83>:30: RuntimeWarning: This filename (/Users/robert/Desktop/School/Grad/481c/seizure-classification/training/data_subset/dev/00000258_s001_t000_start_1077.0480_end_1315.0480_type_seiz_eeg.fif) does not conform to MNE naming conventions. All raw files should end with raw.fif, raw_sss.fif, raw_tsss.fif, raw.fif.gz, raw_sss.fif.gz, raw_tsss.fif.gz or _meg.fif\n",
      "  raw_data.save(new_subset_name, picks=['eeg'],\n",
      "<ipython-input-154-8c037cfb9b83>:30: RuntimeWarning: This filename (/Users/robert/Desktop/School/Grad/481c/seizure-classification/training/data_subset/dev/00000258_s001_t000_start_1590.5840_end_1739.6509_type_seiz_eeg.fif) does not conform to MNE naming conventions. All raw files should end with raw.fif, raw_sss.fif, raw_tsss.fif, raw.fif.gz, raw_sss.fif.gz, raw_tsss.fif.gz or _meg.fif\n",
      "  raw_data.save(new_subset_name, picks=['eeg'],\n"
     ]
    },
    {
     "name": "stdout",
     "output_type": "stream",
     "text": [
      "Writing /Users/robert/Desktop/School/Grad/481c/seizure-classification/training/data_subset/dev/00000258_s004_t000_start_6.7520_end_64.1312_type_seiz_eeg.fif\n",
      "Closing /Users/robert/Desktop/School/Grad/481c/seizure-classification/training/data_subset/dev/00000258_s004_t000_start_6.7520_end_64.1312_type_seiz_eeg.fif\n",
      "[done]\n",
      "Extracting EDF parameters from /Users/robert/eeg_data/edf/dev/02_tcp_le/056/00005625/s002_2010_03_29/00005625_s002_t001.edf...\n",
      "EDF file detected\n",
      "Setting channel info structure...\n",
      "Creating raw.info structure...\n",
      "Reading 0 ... 300749  =      0.000 ...  1202.996 secs...\n",
      "Writing /Users/robert/Desktop/School/Grad/481c/seizure-classification/training/data_subset/dev/00005625_s002_t001_start_313.0400_end_447.8800_type_seiz_eeg.fif\n",
      "Closing /Users/robert/Desktop/School/Grad/481c/seizure-classification/training/data_subset/dev/00005625_s002_t001_start_313.0400_end_447.8800_type_seiz_eeg.fif\n",
      "[done]\n",
      "Extracting EDF parameters from /Users/robert/eeg_data/edf/dev/01_tcp_ar/105/00010547/s001_2013_07_29/00010547_s001_t001.edf...\n",
      "EDF file detected\n",
      "Setting channel info structure...\n",
      "Creating raw.info structure...\n"
     ]
    },
    {
     "name": "stderr",
     "output_type": "stream",
     "text": [
      "<ipython-input-154-8c037cfb9b83>:30: RuntimeWarning: This filename (/Users/robert/Desktop/School/Grad/481c/seizure-classification/training/data_subset/dev/00000258_s004_t000_start_6.7520_end_64.1312_type_seiz_eeg.fif) does not conform to MNE naming conventions. All raw files should end with raw.fif, raw_sss.fif, raw_tsss.fif, raw.fif.gz, raw_sss.fif.gz, raw_tsss.fif.gz or _meg.fif\n",
      "  raw_data.save(new_subset_name, picks=['eeg'],\n",
      "<ipython-input-154-8c037cfb9b83>:30: RuntimeWarning: This filename (/Users/robert/Desktop/School/Grad/481c/seizure-classification/training/data_subset/dev/00000258_s004_t000_start_478.0160_end_565.0938_type_seiz_eeg.fif) does not conform to MNE naming conventions. All raw files should end with raw.fif, raw_sss.fif, raw_tsss.fif, raw.fif.gz, raw_sss.fif.gz, raw_tsss.fif.gz or _meg.fif\n",
      "  raw_data.save(new_subset_name, picks=['eeg'],\n",
      "<ipython-input-154-8c037cfb9b83>:30: RuntimeWarning: This filename (/Users/robert/Desktop/School/Grad/481c/seizure-classification/training/data_subset/dev/00000258_s004_t000_start_787.5120_end_969.2600_type_seiz_eeg.fif) does not conform to MNE naming conventions. All raw files should end with raw.fif, raw_sss.fif, raw_tsss.fif, raw.fif.gz, raw_sss.fif.gz, raw_tsss.fif.gz or _meg.fif\n",
      "  raw_data.save(new_subset_name, picks=['eeg'],\n",
      "<ipython-input-154-8c037cfb9b83>:30: RuntimeWarning: This filename (/Users/robert/Desktop/School/Grad/481c/seizure-classification/training/data_subset/dev/00000258_s004_t000_start_1169.5280_end_1257.0027_type_seiz_eeg.fif) does not conform to MNE naming conventions. All raw files should end with raw.fif, raw_sss.fif, raw_tsss.fif, raw.fif.gz, raw_sss.fif.gz, raw_tsss.fif.gz or _meg.fif\n",
      "  raw_data.save(new_subset_name, picks=['eeg'],\n",
      "<ipython-input-154-8c037cfb9b83>:30: RuntimeWarning: This filename (/Users/robert/Desktop/School/Grad/481c/seizure-classification/training/data_subset/dev/00005625_s002_t001_start_313.0400_end_447.8800_type_seiz_eeg.fif) does not conform to MNE naming conventions. All raw files should end with raw.fif, raw_sss.fif, raw_tsss.fif, raw.fif.gz, raw_sss.fif.gz, raw_tsss.fif.gz or _meg.fif\n",
      "  raw_data.save(new_subset_name, picks=['eeg'],\n",
      "<ipython-input-154-8c037cfb9b83>:30: RuntimeWarning: This filename (/Users/robert/Desktop/School/Grad/481c/seizure-classification/training/data_subset/dev/00005625_s002_t001_start_981.3720_end_1138.8720_type_seiz_eeg.fif) does not conform to MNE naming conventions. All raw files should end with raw.fif, raw_sss.fif, raw_tsss.fif, raw.fif.gz, raw_sss.fif.gz, raw_tsss.fif.gz or _meg.fif\n",
      "  raw_data.save(new_subset_name, picks=['eeg'],\n"
     ]
    },
    {
     "name": "stdout",
     "output_type": "stream",
     "text": [
      "Reading 0 ... 448749  =      0.000 ...  1794.996 secs...\n",
      "Extracting EDF parameters from /Users/robert/eeg_data/edf/dev/01_tcp_ar/046/00004671/s007_2012_08_04/00004671_s007_t000.edf...\n",
      "EDF file detected\n",
      "Setting channel info structure...\n",
      "Creating raw.info structure...\n",
      "Reading 0 ... 494079  =      0.000 ...  1929.996 secs...\n"
     ]
    },
    {
     "name": "stderr",
     "output_type": "stream",
     "text": [
      "<ipython-input-154-8c037cfb9b83>:30: RuntimeWarning: This filename (/Users/robert/Desktop/School/Grad/481c/seizure-classification/training/data_subset/dev/00010547_s001_t001_start_1159.0800_end_1179.7800_type_seiz_eeg.fif) does not conform to MNE naming conventions. All raw files should end with raw.fif, raw_sss.fif, raw_tsss.fif, raw.fif.gz, raw_sss.fif.gz, raw_tsss.fif.gz or _meg.fif\n",
      "  raw_data.save(new_subset_name, picks=['eeg'],\n"
     ]
    },
    {
     "name": "stdout",
     "output_type": "stream",
     "text": [
      "Writing /Users/robert/Desktop/School/Grad/481c/seizure-classification/training/data_subset/dev/00004671_s007_t000_start_46.2734_end_52.0742_type_seiz_eeg.fif\n",
      "Closing /Users/robert/Desktop/School/Grad/481c/seizure-classification/training/data_subset/dev/00004671_s007_t000_start_46.2734_end_52.0742_type_seiz_eeg.fif\n",
      "[done]\n",
      "Writing /Users/robert/Desktop/School/Grad/481c/seizure-classification/training/data_subset/dev/00004671_s007_t000_start_119.1406_end_125.8398_type_seiz_eeg.fif\n",
      "Closing /Users/robert/Desktop/School/Grad/481c/seizure-classification/training/data_subset/dev/00004671_s007_t000_start_119.1406_end_125.8398_type_seiz_eeg.fif\n",
      "[done]\n",
      "Writing /Users/robert/Desktop/School/Grad/481c/seizure-classification/training/data_subset/dev/00004671_s007_t000_start_166.8203_end_172.9219_type_seiz_eeg.fif\n",
      "Closing /Users/robert/Desktop/School/Grad/481c/seizure-classification/training/data_subset/dev/00004671_s007_t000_start_166.8203_end_172.9219_type_seiz_eeg.fif\n",
      "[done]\n",
      "Writing /Users/robert/Desktop/School/Grad/481c/seizure-classification/training/data_subset/dev/00004671_s007_t000_start_199.3398_end_208.5391_type_seiz_eeg.fif\n",
      "Closing /Users/robert/Desktop/School/Grad/481c/seizure-classification/training/data_subset/dev/00004671_s007_t000_start_199.3398_end_208.5391_type_seiz_eeg.fif\n",
      "[done]\n",
      "Writing /Users/robert/Desktop/School/Grad/481c/seizure-classification/training/data_subset/dev/00004671_s007_t000_start_249.0547_end_256.3516_type_seiz_eeg.fif\n",
      "Closing /Users/robert/Desktop/School/Grad/481c/seizure-classification/training/data_subset/dev/00004671_s007_t000_start_249.0547_end_256.3516_type_seiz_eeg.fif\n",
      "[done]\n",
      "Writing /Users/robert/Desktop/School/Grad/481c/seizure-classification/training/data_subset/dev/00004671_s007_t000_start_297.7539_end_303.1523_type_seiz_eeg.fif\n",
      "Closing /Users/robert/Desktop/School/Grad/481c/seizure-classification/training/data_subset/dev/00004671_s007_t000_start_297.7539_end_303.1523_type_seiz_eeg.fif\n",
      "[done]\n",
      "Writing /Users/robert/Desktop/School/Grad/481c/seizure-classification/training/data_subset/dev/00004671_s007_t000_start_344.8438_end_351.4453_type_seiz_eeg.fif\n",
      "Closing /Users/robert/Desktop/School/Grad/481c/seizure-classification/training/data_subset/dev/00004671_s007_t000_start_344.8438_end_351.4453_type_seiz_eeg.fif\n",
      "[done]\n",
      "Writing /Users/robert/Desktop/School/Grad/481c/seizure-classification/training/data_subset/dev/00004671_s007_t000_start_417.4219_end_425.1211_type_seiz_eeg.fif\n",
      "Closing /Users/robert/Desktop/School/Grad/481c/seizure-classification/training/data_subset/dev/00004671_s007_t000_start_417.4219_end_425.1211_type_seiz_eeg.fif\n",
      "[done]\n",
      "Extracting EDF parameters from /Users/robert/eeg_data/edf/dev/01_tcp_ar/084/00008453/s005_2012_03_05/00008453_s005_t000.edf...\n",
      "EDF file detected\n",
      "Setting channel info structure...\n",
      "Creating raw.info structure...\n",
      "Reading 0 ... 136249  =      0.000 ...   544.996 secs...\n"
     ]
    },
    {
     "name": "stderr",
     "output_type": "stream",
     "text": [
      "<ipython-input-154-8c037cfb9b83>:30: RuntimeWarning: This filename (/Users/robert/Desktop/School/Grad/481c/seizure-classification/training/data_subset/dev/00004671_s007_t000_start_46.2734_end_52.0742_type_seiz_eeg.fif) does not conform to MNE naming conventions. All raw files should end with raw.fif, raw_sss.fif, raw_tsss.fif, raw.fif.gz, raw_sss.fif.gz, raw_tsss.fif.gz or _meg.fif\n",
      "  raw_data.save(new_subset_name, picks=['eeg'],\n",
      "<ipython-input-154-8c037cfb9b83>:30: RuntimeWarning: This filename (/Users/robert/Desktop/School/Grad/481c/seizure-classification/training/data_subset/dev/00004671_s007_t000_start_119.1406_end_125.8398_type_seiz_eeg.fif) does not conform to MNE naming conventions. All raw files should end with raw.fif, raw_sss.fif, raw_tsss.fif, raw.fif.gz, raw_sss.fif.gz, raw_tsss.fif.gz or _meg.fif\n",
      "  raw_data.save(new_subset_name, picks=['eeg'],\n",
      "<ipython-input-154-8c037cfb9b83>:30: RuntimeWarning: This filename (/Users/robert/Desktop/School/Grad/481c/seizure-classification/training/data_subset/dev/00004671_s007_t000_start_166.8203_end_172.9219_type_seiz_eeg.fif) does not conform to MNE naming conventions. All raw files should end with raw.fif, raw_sss.fif, raw_tsss.fif, raw.fif.gz, raw_sss.fif.gz, raw_tsss.fif.gz or _meg.fif\n",
      "  raw_data.save(new_subset_name, picks=['eeg'],\n",
      "<ipython-input-154-8c037cfb9b83>:30: RuntimeWarning: This filename (/Users/robert/Desktop/School/Grad/481c/seizure-classification/training/data_subset/dev/00004671_s007_t000_start_199.3398_end_208.5391_type_seiz_eeg.fif) does not conform to MNE naming conventions. All raw files should end with raw.fif, raw_sss.fif, raw_tsss.fif, raw.fif.gz, raw_sss.fif.gz, raw_tsss.fif.gz or _meg.fif\n",
      "  raw_data.save(new_subset_name, picks=['eeg'],\n",
      "<ipython-input-154-8c037cfb9b83>:30: RuntimeWarning: This filename (/Users/robert/Desktop/School/Grad/481c/seizure-classification/training/data_subset/dev/00004671_s007_t000_start_249.0547_end_256.3516_type_seiz_eeg.fif) does not conform to MNE naming conventions. All raw files should end with raw.fif, raw_sss.fif, raw_tsss.fif, raw.fif.gz, raw_sss.fif.gz, raw_tsss.fif.gz or _meg.fif\n",
      "  raw_data.save(new_subset_name, picks=['eeg'],\n",
      "<ipython-input-154-8c037cfb9b83>:30: RuntimeWarning: This filename (/Users/robert/Desktop/School/Grad/481c/seizure-classification/training/data_subset/dev/00004671_s007_t000_start_297.7539_end_303.1523_type_seiz_eeg.fif) does not conform to MNE naming conventions. All raw files should end with raw.fif, raw_sss.fif, raw_tsss.fif, raw.fif.gz, raw_sss.fif.gz, raw_tsss.fif.gz or _meg.fif\n",
      "  raw_data.save(new_subset_name, picks=['eeg'],\n",
      "<ipython-input-154-8c037cfb9b83>:30: RuntimeWarning: This filename (/Users/robert/Desktop/School/Grad/481c/seizure-classification/training/data_subset/dev/00004671_s007_t000_start_344.8438_end_351.4453_type_seiz_eeg.fif) does not conform to MNE naming conventions. All raw files should end with raw.fif, raw_sss.fif, raw_tsss.fif, raw.fif.gz, raw_sss.fif.gz, raw_tsss.fif.gz or _meg.fif\n",
      "  raw_data.save(new_subset_name, picks=['eeg'],\n",
      "<ipython-input-154-8c037cfb9b83>:30: RuntimeWarning: This filename (/Users/robert/Desktop/School/Grad/481c/seizure-classification/training/data_subset/dev/00004671_s007_t000_start_417.4219_end_425.1211_type_seiz_eeg.fif) does not conform to MNE naming conventions. All raw files should end with raw.fif, raw_sss.fif, raw_tsss.fif, raw.fif.gz, raw_sss.fif.gz, raw_tsss.fif.gz or _meg.fif\n",
      "  raw_data.save(new_subset_name, picks=['eeg'],\n",
      "<ipython-input-154-8c037cfb9b83>:30: RuntimeWarning: This filename (/Users/robert/Desktop/School/Grad/481c/seizure-classification/training/data_subset/dev/00004671_s007_t000_start_470.0469_end_477.1484_type_seiz_eeg.fif) does not conform to MNE naming conventions. All raw files should end with raw.fif, raw_sss.fif, raw_tsss.fif, raw.fif.gz, raw_sss.fif.gz, raw_tsss.fif.gz or _meg.fif\n",
      "  raw_data.save(new_subset_name, picks=['eeg'],\n",
      "<ipython-input-154-8c037cfb9b83>:30: RuntimeWarning: This filename (/Users/robert/Desktop/School/Grad/481c/seizure-classification/training/data_subset/dev/00004671_s007_t000_start_520.5586_end_527.5586_type_seiz_eeg.fif) does not conform to MNE naming conventions. All raw files should end with raw.fif, raw_sss.fif, raw_tsss.fif, raw.fif.gz, raw_sss.fif.gz, raw_tsss.fif.gz or _meg.fif\n",
      "  raw_data.save(new_subset_name, picks=['eeg'],\n",
      "<ipython-input-154-8c037cfb9b83>:30: RuntimeWarning: This filename (/Users/robert/Desktop/School/Grad/481c/seizure-classification/training/data_subset/dev/00004671_s007_t000_start_599.1484_end_605.6484_type_seiz_eeg.fif) does not conform to MNE naming conventions. All raw files should end with raw.fif, raw_sss.fif, raw_tsss.fif, raw.fif.gz, raw_sss.fif.gz, raw_tsss.fif.gz or _meg.fif\n",
      "  raw_data.save(new_subset_name, picks=['eeg'],\n",
      "<ipython-input-154-8c037cfb9b83>:30: RuntimeWarning: This filename (/Users/robert/Desktop/School/Grad/481c/seizure-classification/training/data_subset/dev/00004671_s007_t000_start_642.6211_end_649.5195_type_seiz_eeg.fif) does not conform to MNE naming conventions. All raw files should end with raw.fif, raw_sss.fif, raw_tsss.fif, raw.fif.gz, raw_sss.fif.gz, raw_tsss.fif.gz or _meg.fif\n",
      "  raw_data.save(new_subset_name, picks=['eeg'],\n",
      "<ipython-input-154-8c037cfb9b83>:30: RuntimeWarning: This filename (/Users/robert/Desktop/School/Grad/481c/seizure-classification/training/data_subset/dev/00004671_s007_t000_start_688.1211_end_695.4219_type_seiz_eeg.fif) does not conform to MNE naming conventions. All raw files should end with raw.fif, raw_sss.fif, raw_tsss.fif, raw.fif.gz, raw_sss.fif.gz, raw_tsss.fif.gz or _meg.fif\n",
      "  raw_data.save(new_subset_name, picks=['eeg'],\n",
      "<ipython-input-154-8c037cfb9b83>:30: RuntimeWarning: This filename (/Users/robert/Desktop/School/Grad/481c/seizure-classification/training/data_subset/dev/00004671_s007_t000_start_729.4531_end_736.5547_type_seiz_eeg.fif) does not conform to MNE naming conventions. All raw files should end with raw.fif, raw_sss.fif, raw_tsss.fif, raw.fif.gz, raw_sss.fif.gz, raw_tsss.fif.gz or _meg.fif\n",
      "  raw_data.save(new_subset_name, picks=['eeg'],\n",
      "<ipython-input-154-8c037cfb9b83>:30: RuntimeWarning: This filename (/Users/robert/Desktop/School/Grad/481c/seizure-classification/training/data_subset/dev/00004671_s007_t000_start_771.1211_end_779.2188_type_seiz_eeg.fif) does not conform to MNE naming conventions. All raw files should end with raw.fif, raw_sss.fif, raw_tsss.fif, raw.fif.gz, raw_sss.fif.gz, raw_tsss.fif.gz or _meg.fif\n",
      "  raw_data.save(new_subset_name, picks=['eeg'],\n",
      "<ipython-input-154-8c037cfb9b83>:30: RuntimeWarning: This filename (/Users/robert/Desktop/School/Grad/481c/seizure-classification/training/data_subset/dev/00004671_s007_t000_start_827.1211_end_833.6211_type_seiz_eeg.fif) does not conform to MNE naming conventions. All raw files should end with raw.fif, raw_sss.fif, raw_tsss.fif, raw.fif.gz, raw_sss.fif.gz, raw_tsss.fif.gz or _meg.fif\n",
      "  raw_data.save(new_subset_name, picks=['eeg'],\n",
      "<ipython-input-154-8c037cfb9b83>:30: RuntimeWarning: This filename (/Users/robert/Desktop/School/Grad/481c/seizure-classification/training/data_subset/dev/00004671_s007_t000_start_868.3750_end_875.9727_type_seiz_eeg.fif) does not conform to MNE naming conventions. All raw files should end with raw.fif, raw_sss.fif, raw_tsss.fif, raw.fif.gz, raw_sss.fif.gz, raw_tsss.fif.gz or _meg.fif\n",
      "  raw_data.save(new_subset_name, picks=['eeg'],\n",
      "<ipython-input-154-8c037cfb9b83>:30: RuntimeWarning: This filename (/Users/robert/Desktop/School/Grad/481c/seizure-classification/training/data_subset/dev/00004671_s007_t000_start_911.1719_end_918.0742_type_seiz_eeg.fif) does not conform to MNE naming conventions. All raw files should end with raw.fif, raw_sss.fif, raw_tsss.fif, raw.fif.gz, raw_sss.fif.gz, raw_tsss.fif.gz or _meg.fif\n",
      "  raw_data.save(new_subset_name, picks=['eeg'],\n",
      "<ipython-input-154-8c037cfb9b83>:30: RuntimeWarning: This filename (/Users/robert/Desktop/School/Grad/481c/seizure-classification/training/data_subset/dev/00004671_s007_t000_start_953.0547_end_960.5547_type_seiz_eeg.fif) does not conform to MNE naming conventions. All raw files should end with raw.fif, raw_sss.fif, raw_tsss.fif, raw.fif.gz, raw_sss.fif.gz, raw_tsss.fif.gz or _meg.fif\n",
      "  raw_data.save(new_subset_name, picks=['eeg'],\n",
      "<ipython-input-154-8c037cfb9b83>:30: RuntimeWarning: This filename (/Users/robert/Desktop/School/Grad/481c/seizure-classification/training/data_subset/dev/00004671_s007_t000_start_1002.0273_end_1008.2266_type_seiz_eeg.fif) does not conform to MNE naming conventions. All raw files should end with raw.fif, raw_sss.fif, raw_tsss.fif, raw.fif.gz, raw_sss.fif.gz, raw_tsss.fif.gz or _meg.fif\n",
      "  raw_data.save(new_subset_name, picks=['eeg'],\n",
      "<ipython-input-154-8c037cfb9b83>:30: RuntimeWarning: This filename (/Users/robert/Desktop/School/Grad/481c/seizure-classification/training/data_subset/dev/00004671_s007_t000_start_1053.3477_end_1058.6484_type_seiz_eeg.fif) does not conform to MNE naming conventions. All raw files should end with raw.fif, raw_sss.fif, raw_tsss.fif, raw.fif.gz, raw_sss.fif.gz, raw_tsss.fif.gz or _meg.fif\n",
      "  raw_data.save(new_subset_name, picks=['eeg'],\n",
      "<ipython-input-154-8c037cfb9b83>:30: RuntimeWarning: This filename (/Users/robert/Desktop/School/Grad/481c/seizure-classification/training/data_subset/dev/00004671_s007_t000_start_1094.7461_end_1099.9453_type_seiz_eeg.fif) does not conform to MNE naming conventions. All raw files should end with raw.fif, raw_sss.fif, raw_tsss.fif, raw.fif.gz, raw_sss.fif.gz, raw_tsss.fif.gz or _meg.fif\n",
      "  raw_data.save(new_subset_name, picks=['eeg'],\n",
      "<ipython-input-154-8c037cfb9b83>:30: RuntimeWarning: This filename (/Users/robert/Desktop/School/Grad/481c/seizure-classification/training/data_subset/dev/00004671_s007_t000_start_1131.9414_end_1138.8398_type_seiz_eeg.fif) does not conform to MNE naming conventions. All raw files should end with raw.fif, raw_sss.fif, raw_tsss.fif, raw.fif.gz, raw_sss.fif.gz, raw_tsss.fif.gz or _meg.fif\n",
      "  raw_data.save(new_subset_name, picks=['eeg'],\n",
      "<ipython-input-154-8c037cfb9b83>:30: RuntimeWarning: This filename (/Users/robert/Desktop/School/Grad/481c/seizure-classification/training/data_subset/dev/00004671_s007_t000_start_1179.0664_end_1186.0664_type_seiz_eeg.fif) does not conform to MNE naming conventions. All raw files should end with raw.fif, raw_sss.fif, raw_tsss.fif, raw.fif.gz, raw_sss.fif.gz, raw_tsss.fif.gz or _meg.fif\n",
      "  raw_data.save(new_subset_name, picks=['eeg'],\n",
      "<ipython-input-154-8c037cfb9b83>:30: RuntimeWarning: This filename (/Users/robert/Desktop/School/Grad/481c/seizure-classification/training/data_subset/dev/00004671_s007_t000_start_1226.3477_end_1232.1484_type_seiz_eeg.fif) does not conform to MNE naming conventions. All raw files should end with raw.fif, raw_sss.fif, raw_tsss.fif, raw.fif.gz, raw_sss.fif.gz, raw_tsss.fif.gz or _meg.fif\n",
      "  raw_data.save(new_subset_name, picks=['eeg'],\n",
      "<ipython-input-154-8c037cfb9b83>:30: RuntimeWarning: This filename (/Users/robert/Desktop/School/Grad/481c/seizure-classification/training/data_subset/dev/00004671_s007_t000_start_1287.9453_end_1293.0469_type_seiz_eeg.fif) does not conform to MNE naming conventions. All raw files should end with raw.fif, raw_sss.fif, raw_tsss.fif, raw.fif.gz, raw_sss.fif.gz, raw_tsss.fif.gz or _meg.fif\n",
      "  raw_data.save(new_subset_name, picks=['eeg'],\n",
      "<ipython-input-154-8c037cfb9b83>:30: RuntimeWarning: This filename (/Users/robert/Desktop/School/Grad/481c/seizure-classification/training/data_subset/dev/00004671_s007_t000_start_1331.6914_end_1336.5938_type_seiz_eeg.fif) does not conform to MNE naming conventions. All raw files should end with raw.fif, raw_sss.fif, raw_tsss.fif, raw.fif.gz, raw_sss.fif.gz, raw_tsss.fif.gz or _meg.fif\n",
      "  raw_data.save(new_subset_name, picks=['eeg'],\n",
      "<ipython-input-154-8c037cfb9b83>:30: RuntimeWarning: This filename (/Users/robert/Desktop/School/Grad/481c/seizure-classification/training/data_subset/dev/00004671_s007_t000_start_1372.2188_end_1378.1211_type_seiz_eeg.fif) does not conform to MNE naming conventions. All raw files should end with raw.fif, raw_sss.fif, raw_tsss.fif, raw.fif.gz, raw_sss.fif.gz, raw_tsss.fif.gz or _meg.fif\n",
      "  raw_data.save(new_subset_name, picks=['eeg'],\n",
      "<ipython-input-154-8c037cfb9b83>:30: RuntimeWarning: This filename (/Users/robert/Desktop/School/Grad/481c/seizure-classification/training/data_subset/dev/00004671_s007_t000_start_1413.9688_end_1420.0664_type_seiz_eeg.fif) does not conform to MNE naming conventions. All raw files should end with raw.fif, raw_sss.fif, raw_tsss.fif, raw.fif.gz, raw_sss.fif.gz, raw_tsss.fif.gz or _meg.fif\n",
      "  raw_data.save(new_subset_name, picks=['eeg'],\n",
      "<ipython-input-154-8c037cfb9b83>:30: RuntimeWarning: This filename (/Users/robert/Desktop/School/Grad/481c/seizure-classification/training/data_subset/dev/00004671_s007_t000_start_1491.8203_end_1497.0195_type_seiz_eeg.fif) does not conform to MNE naming conventions. All raw files should end with raw.fif, raw_sss.fif, raw_tsss.fif, raw.fif.gz, raw_sss.fif.gz, raw_tsss.fif.gz or _meg.fif\n",
      "  raw_data.save(new_subset_name, picks=['eeg'],\n",
      "<ipython-input-154-8c037cfb9b83>:30: RuntimeWarning: This filename (/Users/robert/Desktop/School/Grad/481c/seizure-classification/training/data_subset/dev/00004671_s007_t000_start_1551.1211_end_1556.0195_type_seiz_eeg.fif) does not conform to MNE naming conventions. All raw files should end with raw.fif, raw_sss.fif, raw_tsss.fif, raw.fif.gz, raw_sss.fif.gz, raw_tsss.fif.gz or _meg.fif\n",
      "  raw_data.save(new_subset_name, picks=['eeg'],\n",
      "<ipython-input-154-8c037cfb9b83>:30: RuntimeWarning: This filename (/Users/robert/Desktop/School/Grad/481c/seizure-classification/training/data_subset/dev/00004671_s007_t000_start_1588.7930_end_1594.8945_type_seiz_eeg.fif) does not conform to MNE naming conventions. All raw files should end with raw.fif, raw_sss.fif, raw_tsss.fif, raw.fif.gz, raw_sss.fif.gz, raw_tsss.fif.gz or _meg.fif\n",
      "  raw_data.save(new_subset_name, picks=['eeg'],\n",
      "<ipython-input-154-8c037cfb9b83>:30: RuntimeWarning: This filename (/Users/robert/Desktop/School/Grad/481c/seizure-classification/training/data_subset/dev/00004671_s007_t000_start_1647.0195_end_1652.2188_type_seiz_eeg.fif) does not conform to MNE naming conventions. All raw files should end with raw.fif, raw_sss.fif, raw_tsss.fif, raw.fif.gz, raw_sss.fif.gz, raw_tsss.fif.gz or _meg.fif\n",
      "  raw_data.save(new_subset_name, picks=['eeg'],\n",
      "<ipython-input-154-8c037cfb9b83>:30: RuntimeWarning: This filename (/Users/robert/Desktop/School/Grad/481c/seizure-classification/training/data_subset/dev/00004671_s007_t000_start_1680.9453_end_1686.9453_type_seiz_eeg.fif) does not conform to MNE naming conventions. All raw files should end with raw.fif, raw_sss.fif, raw_tsss.fif, raw.fif.gz, raw_sss.fif.gz, raw_tsss.fif.gz or _meg.fif\n",
      "  raw_data.save(new_subset_name, picks=['eeg'],\n",
      "<ipython-input-154-8c037cfb9b83>:30: RuntimeWarning: This filename (/Users/robert/Desktop/School/Grad/481c/seizure-classification/training/data_subset/dev/00004671_s007_t000_start_1724.3281_end_1729.9258_type_seiz_eeg.fif) does not conform to MNE naming conventions. All raw files should end with raw.fif, raw_sss.fif, raw_tsss.fif, raw.fif.gz, raw_sss.fif.gz, raw_tsss.fif.gz or _meg.fif\n",
      "  raw_data.save(new_subset_name, picks=['eeg'],\n",
      "<ipython-input-154-8c037cfb9b83>:30: RuntimeWarning: This filename (/Users/robert/Desktop/School/Grad/481c/seizure-classification/training/data_subset/dev/00004671_s007_t000_start_1773.2461_end_1779.0469_type_seiz_eeg.fif) does not conform to MNE naming conventions. All raw files should end with raw.fif, raw_sss.fif, raw_tsss.fif, raw.fif.gz, raw_sss.fif.gz, raw_tsss.fif.gz or _meg.fif\n",
      "  raw_data.save(new_subset_name, picks=['eeg'],\n",
      "<ipython-input-154-8c037cfb9b83>:30: RuntimeWarning: This filename (/Users/robert/Desktop/School/Grad/481c/seizure-classification/training/data_subset/dev/00004671_s007_t000_start_1810.8203_end_1816.9219_type_seiz_eeg.fif) does not conform to MNE naming conventions. All raw files should end with raw.fif, raw_sss.fif, raw_tsss.fif, raw.fif.gz, raw_sss.fif.gz, raw_tsss.fif.gz or _meg.fif\n",
      "  raw_data.save(new_subset_name, picks=['eeg'],\n",
      "<ipython-input-154-8c037cfb9b83>:30: RuntimeWarning: This filename (/Users/robert/Desktop/School/Grad/481c/seizure-classification/training/data_subset/dev/00004671_s007_t000_start_1859.2188_end_1866.2188_type_seiz_eeg.fif) does not conform to MNE naming conventions. All raw files should end with raw.fif, raw_sss.fif, raw_tsss.fif, raw.fif.gz, raw_sss.fif.gz, raw_tsss.fif.gz or _meg.fif\n",
      "  raw_data.save(new_subset_name, picks=['eeg'],\n",
      "<ipython-input-154-8c037cfb9b83>:30: RuntimeWarning: This filename (/Users/robert/Desktop/School/Grad/481c/seizure-classification/training/data_subset/dev/00004671_s007_t000_start_1906.8203_end_1913.6211_type_seiz_eeg.fif) does not conform to MNE naming conventions. All raw files should end with raw.fif, raw_sss.fif, raw_tsss.fif, raw.fif.gz, raw_sss.fif.gz, raw_tsss.fif.gz or _meg.fif\n",
      "  raw_data.save(new_subset_name, picks=['eeg'],\n"
     ]
    },
    {
     "name": "stdout",
     "output_type": "stream",
     "text": [
      "Writing /Users/robert/Desktop/School/Grad/481c/seizure-classification/training/data_subset/dev/00008453_s005_t000_start_56.9495_end_146.5880_type_seiz_eeg.fif\n",
      "Closing /Users/robert/Desktop/School/Grad/481c/seizure-classification/training/data_subset/dev/00008453_s005_t000_start_56.9495_end_146.5880_type_seiz_eeg.fif\n",
      "[done]\n",
      "Extracting EDF parameters from /Users/robert/eeg_data/edf/dev/01_tcp_ar/084/00008453/s007_2012_03_06/00008453_s007_t005.edf...\n",
      "EDF file detected\n",
      "Setting channel info structure...\n",
      "Creating raw.info structure...\n",
      "Reading 0 ... 76799  =      0.000 ...   299.996 secs...\n",
      "Writing /Users/robert/Desktop/School/Grad/481c/seizure-classification/training/data_subset/dev/00008453_s007_t005_start_157.6172_end_203.5195_type_seiz_eeg.fif\n",
      "Closing /Users/robert/Desktop/School/Grad/481c/seizure-classification/training/data_subset/dev/00008453_s007_t005_start_157.6172_end_203.5195_type_seiz_eeg.fif\n",
      "[done]\n",
      "Extracting EDF parameters from /Users/robert/eeg_data/edf/dev/01_tcp_ar/084/00008453/s007_2012_03_06/00008453_s007_t003.edf...\n",
      "EDF file detected\n",
      "Setting channel info structure...\n",
      "Creating raw.info structure...\n",
      "Reading 0 ... 277759  =      0.000 ...  1084.996 secs...\n"
     ]
    },
    {
     "name": "stderr",
     "output_type": "stream",
     "text": [
      "<ipython-input-154-8c037cfb9b83>:30: RuntimeWarning: This filename (/Users/robert/Desktop/School/Grad/481c/seizure-classification/training/data_subset/dev/00008453_s005_t000_start_56.9495_end_146.5880_type_seiz_eeg.fif) does not conform to MNE naming conventions. All raw files should end with raw.fif, raw_sss.fif, raw_tsss.fif, raw.fif.gz, raw_sss.fif.gz, raw_tsss.fif.gz or _meg.fif\n",
      "  raw_data.save(new_subset_name, picks=['eeg'],\n",
      "<ipython-input-154-8c037cfb9b83>:30: RuntimeWarning: This filename (/Users/robert/Desktop/School/Grad/481c/seizure-classification/training/data_subset/dev/00008453_s007_t005_start_157.6172_end_203.5195_type_seiz_eeg.fif) does not conform to MNE naming conventions. All raw files should end with raw.fif, raw_sss.fif, raw_tsss.fif, raw.fif.gz, raw_sss.fif.gz, raw_tsss.fif.gz or _meg.fif\n",
      "  raw_data.save(new_subset_name, picks=['eeg'],\n"
     ]
    },
    {
     "name": "stdout",
     "output_type": "stream",
     "text": [
      "Writing /Users/robert/Desktop/School/Grad/481c/seizure-classification/training/data_subset/dev/00008453_s007_t003_start_344.7216_end_399.6406_type_seiz_eeg.fif\n",
      "Closing /Users/robert/Desktop/School/Grad/481c/seizure-classification/training/data_subset/dev/00008453_s007_t003_start_344.7216_end_399.6406_type_seiz_eeg.fif\n",
      "[done]\n",
      "Extracting EDF parameters from /Users/robert/eeg_data/edf/dev/01_tcp_ar/084/00008479/s002_2012_12_26/00008479_s002_t004.edf...\n",
      "EDF file detected\n",
      "Setting channel info structure...\n",
      "Creating raw.info structure...\n",
      "Reading 0 ... 153855  =      0.000 ...   600.996 secs...\n",
      "Writing /Users/robert/Desktop/School/Grad/481c/seizure-classification/training/data_subset/dev/00008479_s002_t004_start_141.3940_end_167.1289_type_seiz_eeg.fif\n",
      "Closing /Users/robert/Desktop/School/Grad/481c/seizure-classification/training/data_subset/dev/00008479_s002_t004_start_141.3940_end_167.1289_type_seiz_eeg.fif\n",
      "[done]\n",
      "Extracting EDF parameters from /Users/robert/eeg_data/edf/dev/01_tcp_ar/084/00008479/s002_2012_12_26/00008479_s002_t005.edf...\n",
      "EDF file detected\n",
      "Setting channel info structure...\n",
      "Creating raw.info structure...\n",
      "Reading 0 ... 153855  =      0.000 ...   600.996 secs...\n"
     ]
    },
    {
     "name": "stderr",
     "output_type": "stream",
     "text": [
      "<ipython-input-154-8c037cfb9b83>:30: RuntimeWarning: This filename (/Users/robert/Desktop/School/Grad/481c/seizure-classification/training/data_subset/dev/00008453_s007_t003_start_344.7216_end_399.6406_type_seiz_eeg.fif) does not conform to MNE naming conventions. All raw files should end with raw.fif, raw_sss.fif, raw_tsss.fif, raw.fif.gz, raw_sss.fif.gz, raw_tsss.fif.gz or _meg.fif\n",
      "  raw_data.save(new_subset_name, picks=['eeg'],\n",
      "<ipython-input-154-8c037cfb9b83>:30: RuntimeWarning: This filename (/Users/robert/Desktop/School/Grad/481c/seizure-classification/training/data_subset/dev/00008479_s002_t004_start_141.3940_end_167.1289_type_seiz_eeg.fif) does not conform to MNE naming conventions. All raw files should end with raw.fif, raw_sss.fif, raw_tsss.fif, raw.fif.gz, raw_sss.fif.gz, raw_tsss.fif.gz or _meg.fif\n",
      "  raw_data.save(new_subset_name, picks=['eeg'],\n",
      "<ipython-input-154-8c037cfb9b83>:30: RuntimeWarning: This filename (/Users/robert/Desktop/School/Grad/481c/seizure-classification/training/data_subset/dev/00008479_s002_t004_start_560.6830_end_589.5657_type_seiz_eeg.fif) does not conform to MNE naming conventions. All raw files should end with raw.fif, raw_sss.fif, raw_tsss.fif, raw.fif.gz, raw_sss.fif.gz, raw_tsss.fif.gz or _meg.fif\n",
      "  raw_data.save(new_subset_name, picks=['eeg'],\n"
     ]
    },
    {
     "name": "stdout",
     "output_type": "stream",
     "text": [
      "Writing /Users/robert/Desktop/School/Grad/481c/seizure-classification/training/data_subset/dev/00008479_s002_t005_start_5.4336_end_33.4575_type_seiz_eeg.fif\n",
      "Closing /Users/robert/Desktop/School/Grad/481c/seizure-classification/training/data_subset/dev/00008479_s002_t005_start_5.4336_end_33.4575_type_seiz_eeg.fif\n",
      "[done]\n",
      "Writing /Users/robert/Desktop/School/Grad/481c/seizure-classification/training/data_subset/dev/00008479_s002_t005_start_312.0507_end_341.4212_type_seiz_eeg.fif\n",
      "Closing /Users/robert/Desktop/School/Grad/481c/seizure-classification/training/data_subset/dev/00008479_s002_t005_start_312.0507_end_341.4212_type_seiz_eeg.fif\n",
      "[done]\n",
      "Extracting EDF parameters from /Users/robert/eeg_data/edf/dev/01_tcp_ar/084/00008479/s002_2012_12_26/00008479_s002_t006.edf...\n",
      "EDF file detected\n",
      "Setting channel info structure...\n",
      "Creating raw.info structure...\n",
      "Reading 0 ... 153855  =      0.000 ...   600.996 secs...\n",
      "Writing /Users/robert/Desktop/School/Grad/481c/seizure-classification/training/data_subset/dev/00008479_s002_t006_start_358.4017_end_375.6072_type_seiz_eeg.fif\n",
      "Closing /Users/robert/Desktop/School/Grad/481c/seizure-classification/training/data_subset/dev/00008479_s002_t006_start_358.4017_end_375.6072_type_seiz_eeg.fif\n",
      "[done]\n",
      "Extracting EDF parameters from /Users/robert/eeg_data/edf/dev/01_tcp_ar/084/00008479/s002_2012_12_26/00008479_s002_t002.edf...\n",
      "EDF file detected\n",
      "Setting channel info structure...\n",
      "Creating raw.info structure...\n",
      "Reading 0 ... 272383  =      0.000 ...  1063.996 secs...\n"
     ]
    },
    {
     "name": "stderr",
     "output_type": "stream",
     "text": [
      "<ipython-input-154-8c037cfb9b83>:30: RuntimeWarning: This filename (/Users/robert/Desktop/School/Grad/481c/seizure-classification/training/data_subset/dev/00008479_s002_t005_start_5.4336_end_33.4575_type_seiz_eeg.fif) does not conform to MNE naming conventions. All raw files should end with raw.fif, raw_sss.fif, raw_tsss.fif, raw.fif.gz, raw_sss.fif.gz, raw_tsss.fif.gz or _meg.fif\n",
      "  raw_data.save(new_subset_name, picks=['eeg'],\n",
      "<ipython-input-154-8c037cfb9b83>:30: RuntimeWarning: This filename (/Users/robert/Desktop/School/Grad/481c/seizure-classification/training/data_subset/dev/00008479_s002_t005_start_312.0507_end_341.4212_type_seiz_eeg.fif) does not conform to MNE naming conventions. All raw files should end with raw.fif, raw_sss.fif, raw_tsss.fif, raw.fif.gz, raw_sss.fif.gz, raw_tsss.fif.gz or _meg.fif\n",
      "  raw_data.save(new_subset_name, picks=['eeg'],\n",
      "<ipython-input-154-8c037cfb9b83>:30: RuntimeWarning: This filename (/Users/robert/Desktop/School/Grad/481c/seizure-classification/training/data_subset/dev/00008479_s002_t006_start_358.4017_end_375.6072_type_seiz_eeg.fif) does not conform to MNE naming conventions. All raw files should end with raw.fif, raw_sss.fif, raw_tsss.fif, raw.fif.gz, raw_sss.fif.gz, raw_tsss.fif.gz or _meg.fif\n",
      "  raw_data.save(new_subset_name, picks=['eeg'],\n"
     ]
    },
    {
     "name": "stdout",
     "output_type": "stream",
     "text": [
      "Extracting EDF parameters from /Users/robert/eeg_data/edf/dev/01_tcp_ar/084/00008479/s002_2012_12_26/00008479_s002_t003.edf...\n",
      "EDF file detected\n",
      "Setting channel info structure...\n",
      "Creating raw.info structure...\n",
      "Reading 0 ... 158463  =      0.000 ...   618.996 secs...\n",
      "Writing /Users/robert/Desktop/School/Grad/481c/seizure-classification/training/data_subset/dev/00008479_s002_t003_start_302.8639_end_311.2539_type_seiz_eeg.fif\n",
      "Closing /Users/robert/Desktop/School/Grad/481c/seizure-classification/training/data_subset/dev/00008479_s002_t003_start_302.8639_end_311.2539_type_seiz_eeg.fif\n",
      "[done]\n",
      "Extracting EDF parameters from /Users/robert/eeg_data/edf/dev/01_tcp_ar/084/00008479/s002_2012_12_26/00008479_s002_t001.edf...\n",
      "EDF file detected\n",
      "Setting channel info structure...\n",
      "Creating raw.info structure...\n",
      "Reading 0 ... 156415  =      0.000 ...   610.996 secs...\n"
     ]
    },
    {
     "name": "stderr",
     "output_type": "stream",
     "text": [
      "<ipython-input-154-8c037cfb9b83>:30: RuntimeWarning: This filename (/Users/robert/Desktop/School/Grad/481c/seizure-classification/training/data_subset/dev/00008479_s002_t002_start_449.8710_end_460.3597_type_seiz_eeg.fif) does not conform to MNE naming conventions. All raw files should end with raw.fif, raw_sss.fif, raw_tsss.fif, raw.fif.gz, raw_sss.fif.gz, raw_tsss.fif.gz or _meg.fif\n",
      "  raw_data.save(new_subset_name, picks=['eeg'],\n",
      "<ipython-input-154-8c037cfb9b83>:30: RuntimeWarning: This filename (/Users/robert/Desktop/School/Grad/481c/seizure-classification/training/data_subset/dev/00008479_s002_t003_start_302.8639_end_311.2539_type_seiz_eeg.fif) does not conform to MNE naming conventions. All raw files should end with raw.fif, raw_sss.fif, raw_tsss.fif, raw.fif.gz, raw_sss.fif.gz, raw_tsss.fif.gz or _meg.fif\n",
      "  raw_data.save(new_subset_name, picks=['eeg'],\n",
      "<ipython-input-154-8c037cfb9b83>:30: RuntimeWarning: This filename (/Users/robert/Desktop/School/Grad/481c/seizure-classification/training/data_subset/dev/00008479_s002_t003_start_529.7866_end_538.2212_type_seiz_eeg.fif) does not conform to MNE naming conventions. All raw files should end with raw.fif, raw_sss.fif, raw_tsss.fif, raw.fif.gz, raw_sss.fif.gz, raw_tsss.fif.gz or _meg.fif\n",
      "  raw_data.save(new_subset_name, picks=['eeg'],\n"
     ]
    },
    {
     "name": "stdout",
     "output_type": "stream",
     "text": [
      "Writing /Users/robert/Desktop/School/Grad/481c/seizure-classification/training/data_subset/dev/00008479_s002_t001_start_299.2645_end_310.3229_type_seiz_eeg.fif\n",
      "Closing /Users/robert/Desktop/School/Grad/481c/seizure-classification/training/data_subset/dev/00008479_s002_t001_start_299.2645_end_310.3229_type_seiz_eeg.fif\n",
      "[done]\n",
      "Extracting EDF parameters from /Users/robert/eeg_data/edf/dev/01_tcp_ar/084/00008479/s002_2012_12_26/00008479_s002_t000.edf...\n",
      "EDF file detected\n",
      "Setting channel info structure...\n",
      "Creating raw.info structure...\n",
      "Reading 0 ... 205055  =      0.000 ...   800.996 secs...\n",
      "Writing /Users/robert/Desktop/School/Grad/481c/seizure-classification/training/data_subset/dev/00008479_s002_t000_start_29.3711_end_36.7651_type_seiz_eeg.fif\n"
     ]
    },
    {
     "name": "stderr",
     "output_type": "stream",
     "text": [
      "<ipython-input-154-8c037cfb9b83>:30: RuntimeWarning: This filename (/Users/robert/Desktop/School/Grad/481c/seizure-classification/training/data_subset/dev/00008479_s002_t001_start_299.2645_end_310.3229_type_seiz_eeg.fif) does not conform to MNE naming conventions. All raw files should end with raw.fif, raw_sss.fif, raw_tsss.fif, raw.fif.gz, raw_sss.fif.gz, raw_tsss.fif.gz or _meg.fif\n",
      "  raw_data.save(new_subset_name, picks=['eeg'],\n",
      "<ipython-input-154-8c037cfb9b83>:30: RuntimeWarning: This filename (/Users/robert/Desktop/School/Grad/481c/seizure-classification/training/data_subset/dev/00008479_s002_t000_start_29.3711_end_36.7651_type_seiz_eeg.fif) does not conform to MNE naming conventions. All raw files should end with raw.fif, raw_sss.fif, raw_tsss.fif, raw.fif.gz, raw_sss.fif.gz, raw_tsss.fif.gz or _meg.fif\n",
      "  raw_data.save(new_subset_name, picks=['eeg'],\n"
     ]
    },
    {
     "name": "stdout",
     "output_type": "stream",
     "text": [
      "Closing /Users/robert/Desktop/School/Grad/481c/seizure-classification/training/data_subset/dev/00008479_s002_t000_start_29.3711_end_36.7651_type_seiz_eeg.fif\n",
      "[done]\n",
      "Writing /Users/robert/Desktop/School/Grad/481c/seizure-classification/training/data_subset/dev/00008479_s002_t000_start_112.1614_end_139.8082_type_seiz_eeg.fif\n",
      "Closing /Users/robert/Desktop/School/Grad/481c/seizure-classification/training/data_subset/dev/00008479_s002_t000_start_112.1614_end_139.8082_type_seiz_eeg.fif\n",
      "[done]\n",
      "Writing /Users/robert/Desktop/School/Grad/481c/seizure-classification/training/data_subset/dev/00008479_s002_t000_start_224.7266_end_232.5204_type_seiz_eeg.fif\n",
      "Closing /Users/robert/Desktop/School/Grad/481c/seizure-classification/training/data_subset/dev/00008479_s002_t000_start_224.7266_end_232.5204_type_seiz_eeg.fif\n",
      "[done]\n",
      "Writing /Users/robert/Desktop/School/Grad/481c/seizure-classification/training/data_subset/dev/00008479_s002_t000_start_361.9218_end_369.1238_type_seiz_eeg.fif\n",
      "Closing /Users/robert/Desktop/School/Grad/481c/seizure-classification/training/data_subset/dev/00008479_s002_t000_start_361.9218_end_369.1238_type_seiz_eeg.fif\n",
      "[done]\n",
      "Extracting EDF parameters from /Users/robert/eeg_data/edf/dev/01_tcp_ar/084/00008479/s003_2012_12_27/00008479_s003_t002.edf...\n",
      "EDF file detected\n",
      "Setting channel info structure...\n",
      "Creating raw.info structure...\n",
      "Reading 0 ... 205311  =      0.000 ...   801.996 secs...\n"
     ]
    },
    {
     "name": "stderr",
     "output_type": "stream",
     "text": [
      "<ipython-input-154-8c037cfb9b83>:30: RuntimeWarning: This filename (/Users/robert/Desktop/School/Grad/481c/seizure-classification/training/data_subset/dev/00008479_s002_t000_start_112.1614_end_139.8082_type_seiz_eeg.fif) does not conform to MNE naming conventions. All raw files should end with raw.fif, raw_sss.fif, raw_tsss.fif, raw.fif.gz, raw_sss.fif.gz, raw_tsss.fif.gz or _meg.fif\n",
      "  raw_data.save(new_subset_name, picks=['eeg'],\n",
      "<ipython-input-154-8c037cfb9b83>:30: RuntimeWarning: This filename (/Users/robert/Desktop/School/Grad/481c/seizure-classification/training/data_subset/dev/00008479_s002_t000_start_224.7266_end_232.5204_type_seiz_eeg.fif) does not conform to MNE naming conventions. All raw files should end with raw.fif, raw_sss.fif, raw_tsss.fif, raw.fif.gz, raw_sss.fif.gz, raw_tsss.fif.gz or _meg.fif\n",
      "  raw_data.save(new_subset_name, picks=['eeg'],\n",
      "<ipython-input-154-8c037cfb9b83>:30: RuntimeWarning: This filename (/Users/robert/Desktop/School/Grad/481c/seizure-classification/training/data_subset/dev/00008479_s002_t000_start_361.9218_end_369.1238_type_seiz_eeg.fif) does not conform to MNE naming conventions. All raw files should end with raw.fif, raw_sss.fif, raw_tsss.fif, raw.fif.gz, raw_sss.fif.gz, raw_tsss.fif.gz or _meg.fif\n",
      "  raw_data.save(new_subset_name, picks=['eeg'],\n",
      "<ipython-input-154-8c037cfb9b83>:30: RuntimeWarning: This filename (/Users/robert/Desktop/School/Grad/481c/seizure-classification/training/data_subset/dev/00008479_s002_t000_start_479.0015_end_487.0153_type_seiz_eeg.fif) does not conform to MNE naming conventions. All raw files should end with raw.fif, raw_sss.fif, raw_tsss.fif, raw.fif.gz, raw_sss.fif.gz, raw_tsss.fif.gz or _meg.fif\n",
      "  raw_data.save(new_subset_name, picks=['eeg'],\n",
      "<ipython-input-154-8c037cfb9b83>:30: RuntimeWarning: This filename (/Users/robert/Desktop/School/Grad/481c/seizure-classification/training/data_subset/dev/00008479_s002_t000_start_506.4373_end_520.5506_type_seiz_eeg.fif) does not conform to MNE naming conventions. All raw files should end with raw.fif, raw_sss.fif, raw_tsss.fif, raw.fif.gz, raw_sss.fif.gz, raw_tsss.fif.gz or _meg.fif\n",
      "  raw_data.save(new_subset_name, picks=['eeg'],\n",
      "<ipython-input-154-8c037cfb9b83>:30: RuntimeWarning: This filename (/Users/robert/Desktop/School/Grad/481c/seizure-classification/training/data_subset/dev/00008479_s002_t000_start_663.3648_end_673.4038_type_seiz_eeg.fif) does not conform to MNE naming conventions. All raw files should end with raw.fif, raw_sss.fif, raw_tsss.fif, raw.fif.gz, raw_sss.fif.gz, raw_tsss.fif.gz or _meg.fif\n",
      "  raw_data.save(new_subset_name, picks=['eeg'],\n",
      "<ipython-input-154-8c037cfb9b83>:30: RuntimeWarning: This filename (/Users/robert/Desktop/School/Grad/481c/seizure-classification/training/data_subset/dev/00008479_s002_t000_start_761.5903_end_792.7901_type_seiz_eeg.fif) does not conform to MNE naming conventions. All raw files should end with raw.fif, raw_sss.fif, raw_tsss.fif, raw.fif.gz, raw_sss.fif.gz, raw_tsss.fif.gz or _meg.fif\n",
      "  raw_data.save(new_subset_name, picks=['eeg'],\n"
     ]
    },
    {
     "name": "stdout",
     "output_type": "stream",
     "text": [
      "Writing /Users/robert/Desktop/School/Grad/481c/seizure-classification/training/data_subset/dev/00008479_s003_t002_start_353.2755_end_375.1211_type_seiz_eeg.fif\n",
      "Closing /Users/robert/Desktop/School/Grad/481c/seizure-classification/training/data_subset/dev/00008479_s003_t002_start_353.2755_end_375.1211_type_seiz_eeg.fif\n",
      "[done]\n",
      "Extracting EDF parameters from /Users/robert/eeg_data/edf/dev/01_tcp_ar/084/00008479/s003_2012_12_27/00008479_s003_t001.edf...\n",
      "EDF file detected\n",
      "Setting channel info structure...\n",
      "Creating raw.info structure...\n",
      "Reading 0 ... 190463  =      0.000 ...   743.996 secs...\n",
      "Writing /Users/robert/Desktop/School/Grad/481c/seizure-classification/training/data_subset/dev/00008479_s003_t001_start_339.6612_end_357.8156_type_seiz_eeg.fif\n",
      "Closing /Users/robert/Desktop/School/Grad/481c/seizure-classification/training/data_subset/dev/00008479_s003_t001_start_339.6612_end_357.8156_type_seiz_eeg.fif\n",
      "[done]\n",
      "Extracting EDF parameters from /Users/robert/eeg_data/edf/dev/01_tcp_ar/084/00008479/s003_2012_12_27/00008479_s003_t000.edf...\n",
      "EDF file detected\n",
      "Setting channel info structure...\n",
      "Creating raw.info structure...\n"
     ]
    },
    {
     "name": "stderr",
     "output_type": "stream",
     "text": [
      "<ipython-input-154-8c037cfb9b83>:30: RuntimeWarning: This filename (/Users/robert/Desktop/School/Grad/481c/seizure-classification/training/data_subset/dev/00008479_s003_t002_start_353.2755_end_375.1211_type_seiz_eeg.fif) does not conform to MNE naming conventions. All raw files should end with raw.fif, raw_sss.fif, raw_tsss.fif, raw.fif.gz, raw_sss.fif.gz, raw_tsss.fif.gz or _meg.fif\n",
      "  raw_data.save(new_subset_name, picks=['eeg'],\n",
      "<ipython-input-154-8c037cfb9b83>:30: RuntimeWarning: This filename (/Users/robert/Desktop/School/Grad/481c/seizure-classification/training/data_subset/dev/00008479_s003_t001_start_339.6612_end_357.8156_type_seiz_eeg.fif) does not conform to MNE naming conventions. All raw files should end with raw.fif, raw_sss.fif, raw_tsss.fif, raw.fif.gz, raw_sss.fif.gz, raw_tsss.fif.gz or _meg.fif\n",
      "  raw_data.save(new_subset_name, picks=['eeg'],\n"
     ]
    },
    {
     "name": "stdout",
     "output_type": "stream",
     "text": [
      "Reading 0 ... 153855  =      0.000 ...   600.996 secs...\n",
      "Writing /Users/robert/Desktop/School/Grad/481c/seizure-classification/training/data_subset/dev/00008479_s003_t000_start_252.3560_end_273.7389_type_seiz_eeg.fif\n",
      "Closing /Users/robert/Desktop/School/Grad/481c/seizure-classification/training/data_subset/dev/00008479_s003_t000_start_252.3560_end_273.7389_type_seiz_eeg.fif\n",
      "[done]\n",
      "Extracting EDF parameters from /Users/robert/eeg_data/edf/dev/01_tcp_ar/084/00008479/s001_2012_12_26/00008479_s001_t000.edf...\n",
      "EDF file detected\n",
      "Setting channel info structure...\n",
      "Creating raw.info structure...\n",
      "Reading 0 ... 330749  =      0.000 ...  1322.996 secs...\n"
     ]
    },
    {
     "name": "stderr",
     "output_type": "stream",
     "text": [
      "<ipython-input-154-8c037cfb9b83>:30: RuntimeWarning: This filename (/Users/robert/Desktop/School/Grad/481c/seizure-classification/training/data_subset/dev/00008479_s003_t000_start_252.3560_end_273.7389_type_seiz_eeg.fif) does not conform to MNE naming conventions. All raw files should end with raw.fif, raw_sss.fif, raw_tsss.fif, raw.fif.gz, raw_sss.fif.gz, raw_tsss.fif.gz or _meg.fif\n",
      "  raw_data.save(new_subset_name, picks=['eeg'],\n"
     ]
    },
    {
     "name": "stdout",
     "output_type": "stream",
     "text": [
      "Writing /Users/robert/Desktop/School/Grad/481c/seizure-classification/training/data_subset/dev/00008479_s001_t000_start_7.0840_end_33.1464_type_seiz_eeg.fif\n",
      "Closing /Users/robert/Desktop/School/Grad/481c/seizure-classification/training/data_subset/dev/00008479_s001_t000_start_7.0840_end_33.1464_type_seiz_eeg.fif\n",
      "[done]\n",
      "Writing /Users/robert/Desktop/School/Grad/481c/seizure-classification/training/data_subset/dev/00008479_s001_t000_start_226.3447_end_234.6536_type_seiz_eeg.fif\n",
      "Closing /Users/robert/Desktop/School/Grad/481c/seizure-classification/training/data_subset/dev/00008479_s001_t000_start_226.3447_end_234.6536_type_seiz_eeg.fif\n",
      "[done]\n",
      "Extracting EDF parameters from /Users/robert/eeg_data/edf/dev/01_tcp_ar/084/00008460/s004_2012_06_21/00008460_s004_t001.edf...\n",
      "EDF file detected\n",
      "Setting channel info structure...\n",
      "Creating raw.info structure...\n",
      "Reading 0 ... 153855  =      0.000 ...   600.996 secs...\n",
      "Writing /Users/robert/Desktop/School/Grad/481c/seizure-classification/training/data_subset/dev/00008460_s004_t001_start_393.5941_end_484.5333_type_seiz_eeg.fif\n",
      "Closing /Users/robert/Desktop/School/Grad/481c/seizure-classification/training/data_subset/dev/00008460_s004_t001_start_393.5941_end_484.5333_type_seiz_eeg.fif\n",
      "[done]\n",
      "Extracting EDF parameters from /Users/robert/eeg_data/edf/dev/01_tcp_ar/084/00008460/s004_2012_06_21/00008460_s004_t000.edf...\n"
     ]
    },
    {
     "name": "stderr",
     "output_type": "stream",
     "text": [
      "<ipython-input-154-8c037cfb9b83>:30: RuntimeWarning: This filename (/Users/robert/Desktop/School/Grad/481c/seizure-classification/training/data_subset/dev/00008479_s001_t000_start_7.0840_end_33.1464_type_seiz_eeg.fif) does not conform to MNE naming conventions. All raw files should end with raw.fif, raw_sss.fif, raw_tsss.fif, raw.fif.gz, raw_sss.fif.gz, raw_tsss.fif.gz or _meg.fif\n",
      "  raw_data.save(new_subset_name, picks=['eeg'],\n",
      "<ipython-input-154-8c037cfb9b83>:30: RuntimeWarning: This filename (/Users/robert/Desktop/School/Grad/481c/seizure-classification/training/data_subset/dev/00008479_s001_t000_start_226.3447_end_234.6536_type_seiz_eeg.fif) does not conform to MNE naming conventions. All raw files should end with raw.fif, raw_sss.fif, raw_tsss.fif, raw.fif.gz, raw_sss.fif.gz, raw_tsss.fif.gz or _meg.fif\n",
      "  raw_data.save(new_subset_name, picks=['eeg'],\n",
      "<ipython-input-154-8c037cfb9b83>:30: RuntimeWarning: This filename (/Users/robert/Desktop/School/Grad/481c/seizure-classification/training/data_subset/dev/00008479_s001_t000_start_449.0223_end_456.8667_type_seiz_eeg.fif) does not conform to MNE naming conventions. All raw files should end with raw.fif, raw_sss.fif, raw_tsss.fif, raw.fif.gz, raw_sss.fif.gz, raw_tsss.fif.gz or _meg.fif\n",
      "  raw_data.save(new_subset_name, picks=['eeg'],\n",
      "<ipython-input-154-8c037cfb9b83>:30: RuntimeWarning: This filename (/Users/robert/Desktop/School/Grad/481c/seizure-classification/training/data_subset/dev/00008479_s001_t000_start_468.3331_end_471.6381_type_seiz_eeg.fif) does not conform to MNE naming conventions. All raw files should end with raw.fif, raw_sss.fif, raw_tsss.fif, raw.fif.gz, raw_sss.fif.gz, raw_tsss.fif.gz or _meg.fif\n",
      "  raw_data.save(new_subset_name, picks=['eeg'],\n",
      "<ipython-input-154-8c037cfb9b83>:30: RuntimeWarning: This filename (/Users/robert/Desktop/School/Grad/481c/seizure-classification/training/data_subset/dev/00008479_s001_t000_start_578.8160_end_603.9766_type_seiz_eeg.fif) does not conform to MNE naming conventions. All raw files should end with raw.fif, raw_sss.fif, raw_tsss.fif, raw.fif.gz, raw_sss.fif.gz, raw_tsss.fif.gz or _meg.fif\n",
      "  raw_data.save(new_subset_name, picks=['eeg'],\n",
      "<ipython-input-154-8c037cfb9b83>:30: RuntimeWarning: This filename (/Users/robert/Desktop/School/Grad/481c/seizure-classification/training/data_subset/dev/00008479_s001_t000_start_743.5613_end_752.1300_type_seiz_eeg.fif) does not conform to MNE naming conventions. All raw files should end with raw.fif, raw_sss.fif, raw_tsss.fif, raw.fif.gz, raw_sss.fif.gz, raw_tsss.fif.gz or _meg.fif\n",
      "  raw_data.save(new_subset_name, picks=['eeg'],\n",
      "<ipython-input-154-8c037cfb9b83>:30: RuntimeWarning: This filename (/Users/robert/Desktop/School/Grad/481c/seizure-classification/training/data_subset/dev/00008479_s001_t000_start_901.8378_end_928.8581_type_seiz_eeg.fif) does not conform to MNE naming conventions. All raw files should end with raw.fif, raw_sss.fif, raw_tsss.fif, raw.fif.gz, raw_sss.fif.gz, raw_tsss.fif.gz or _meg.fif\n",
      "  raw_data.save(new_subset_name, picks=['eeg'],\n",
      "<ipython-input-154-8c037cfb9b83>:30: RuntimeWarning: This filename (/Users/robert/Desktop/School/Grad/481c/seizure-classification/training/data_subset/dev/00008479_s001_t000_start_1047.3653_end_1055.7311_type_seiz_eeg.fif) does not conform to MNE naming conventions. All raw files should end with raw.fif, raw_sss.fif, raw_tsss.fif, raw.fif.gz, raw_sss.fif.gz, raw_tsss.fif.gz or _meg.fif\n",
      "  raw_data.save(new_subset_name, picks=['eeg'],\n",
      "<ipython-input-154-8c037cfb9b83>:30: RuntimeWarning: This filename (/Users/robert/Desktop/School/Grad/481c/seizure-classification/training/data_subset/dev/00008479_s001_t000_start_1138.6034_end_1146.4556_type_seiz_eeg.fif) does not conform to MNE naming conventions. All raw files should end with raw.fif, raw_sss.fif, raw_tsss.fif, raw.fif.gz, raw_sss.fif.gz, raw_tsss.fif.gz or _meg.fif\n",
      "  raw_data.save(new_subset_name, picks=['eeg'],\n",
      "<ipython-input-154-8c037cfb9b83>:30: RuntimeWarning: This filename (/Users/robert/Desktop/School/Grad/481c/seizure-classification/training/data_subset/dev/00008479_s001_t000_start_1264.7791_end_1271.6810_type_seiz_eeg.fif) does not conform to MNE naming conventions. All raw files should end with raw.fif, raw_sss.fif, raw_tsss.fif, raw.fif.gz, raw_sss.fif.gz, raw_tsss.fif.gz or _meg.fif\n",
      "  raw_data.save(new_subset_name, picks=['eeg'],\n",
      "<ipython-input-154-8c037cfb9b83>:30: RuntimeWarning: This filename (/Users/robert/Desktop/School/Grad/481c/seizure-classification/training/data_subset/dev/00008460_s004_t001_start_393.5941_end_484.5333_type_seiz_eeg.fif) does not conform to MNE naming conventions. All raw files should end with raw.fif, raw_sss.fif, raw_tsss.fif, raw.fif.gz, raw_sss.fif.gz, raw_tsss.fif.gz or _meg.fif\n",
      "  raw_data.save(new_subset_name, picks=['eeg'],\n",
      "<ipython-input-154-8c037cfb9b83>:30: RuntimeWarning: This filename (/Users/robert/Desktop/School/Grad/481c/seizure-classification/training/data_subset/dev/00008460_s004_t001_start_548.5586_end_598.8594_type_seiz_eeg.fif) does not conform to MNE naming conventions. All raw files should end with raw.fif, raw_sss.fif, raw_tsss.fif, raw.fif.gz, raw_sss.fif.gz, raw_tsss.fif.gz or _meg.fif\n",
      "  raw_data.save(new_subset_name, picks=['eeg'],\n"
     ]
    },
    {
     "name": "stdout",
     "output_type": "stream",
     "text": [
      "EDF file detected\n",
      "Setting channel info structure...\n",
      "Creating raw.info structure...\n",
      "Reading 0 ... 153855  =      0.000 ...   600.996 secs...\n",
      "Writing /Users/robert/Desktop/School/Grad/481c/seizure-classification/training/data_subset/dev/00008460_s004_t000_start_275.3065_end_342.7276_type_seiz_eeg.fif\n",
      "Closing /Users/robert/Desktop/School/Grad/481c/seizure-classification/training/data_subset/dev/00008460_s004_t000_start_275.3065_end_342.7276_type_seiz_eeg.fif\n",
      "[done]\n",
      "Extracting EDF parameters from /Users/robert/eeg_data/edf/dev/01_tcp_ar/084/00008460/s001_2012_06_20/00008460_s001_t000.edf...\n",
      "EDF file detected\n",
      "Setting channel info structure...\n",
      "Creating raw.info structure...\n",
      "Reading 0 ... 401749  =      0.000 ...  1606.996 secs...\n"
     ]
    },
    {
     "name": "stderr",
     "output_type": "stream",
     "text": [
      "<ipython-input-154-8c037cfb9b83>:30: RuntimeWarning: This filename (/Users/robert/Desktop/School/Grad/481c/seizure-classification/training/data_subset/dev/00008460_s004_t000_start_275.3065_end_342.7276_type_seiz_eeg.fif) does not conform to MNE naming conventions. All raw files should end with raw.fif, raw_sss.fif, raw_tsss.fif, raw.fif.gz, raw_sss.fif.gz, raw_tsss.fif.gz or _meg.fif\n",
      "  raw_data.save(new_subset_name, picks=['eeg'],\n",
      "<ipython-input-154-8c037cfb9b83>:30: RuntimeWarning: This filename (/Users/robert/Desktop/School/Grad/481c/seizure-classification/training/data_subset/dev/00008460_s004_t000_start_501.2022_end_579.4460_type_seiz_eeg.fif) does not conform to MNE naming conventions. All raw files should end with raw.fif, raw_sss.fif, raw_tsss.fif, raw.fif.gz, raw_sss.fif.gz, raw_tsss.fif.gz or _meg.fif\n",
      "  raw_data.save(new_subset_name, picks=['eeg'],\n"
     ]
    },
    {
     "name": "stdout",
     "output_type": "stream",
     "text": [
      "Writing /Users/robert/Desktop/School/Grad/481c/seizure-classification/training/data_subset/dev/00008460_s001_t000_start_1.0320_end_109.2181_type_seiz_eeg.fif\n",
      "Closing /Users/robert/Desktop/School/Grad/481c/seizure-classification/training/data_subset/dev/00008460_s001_t000_start_1.0320_end_109.2181_type_seiz_eeg.fif\n",
      "[done]\n",
      "Writing /Users/robert/Desktop/School/Grad/481c/seizure-classification/training/data_subset/dev/00008460_s001_t000_start_117.2499_end_668.1400_type_seiz_eeg.fif\n",
      "Closing /Users/robert/Desktop/School/Grad/481c/seizure-classification/training/data_subset/dev/00008460_s001_t000_start_117.2499_end_668.1400_type_seiz_eeg.fif\n",
      "[done]\n",
      "Extracting EDF parameters from /Users/robert/eeg_data/edf/dev/01_tcp_ar/085/00008544/s006_2012_01_05/00008544_s006_t000.edf...\n",
      "EDF file detected\n",
      "Setting channel info structure...\n",
      "Creating raw.info structure...\n",
      "Reading 0 ... 154623  =      0.000 ...   603.996 secs...\n"
     ]
    },
    {
     "name": "stderr",
     "output_type": "stream",
     "text": [
      "<ipython-input-154-8c037cfb9b83>:30: RuntimeWarning: This filename (/Users/robert/Desktop/School/Grad/481c/seizure-classification/training/data_subset/dev/00008460_s001_t000_start_1.0320_end_109.2181_type_seiz_eeg.fif) does not conform to MNE naming conventions. All raw files should end with raw.fif, raw_sss.fif, raw_tsss.fif, raw.fif.gz, raw_sss.fif.gz, raw_tsss.fif.gz or _meg.fif\n",
      "  raw_data.save(new_subset_name, picks=['eeg'],\n",
      "<ipython-input-154-8c037cfb9b83>:30: RuntimeWarning: This filename (/Users/robert/Desktop/School/Grad/481c/seizure-classification/training/data_subset/dev/00008460_s001_t000_start_117.2499_end_668.1400_type_seiz_eeg.fif) does not conform to MNE naming conventions. All raw files should end with raw.fif, raw_sss.fif, raw_tsss.fif, raw.fif.gz, raw_sss.fif.gz, raw_tsss.fif.gz or _meg.fif\n",
      "  raw_data.save(new_subset_name, picks=['eeg'],\n",
      "<ipython-input-154-8c037cfb9b83>:30: RuntimeWarning: This filename (/Users/robert/Desktop/School/Grad/481c/seizure-classification/training/data_subset/dev/00008460_s001_t000_start_692.9600_end_873.7600_type_seiz_eeg.fif) does not conform to MNE naming conventions. All raw files should end with raw.fif, raw_sss.fif, raw_tsss.fif, raw.fif.gz, raw_sss.fif.gz, raw_tsss.fif.gz or _meg.fif\n",
      "  raw_data.save(new_subset_name, picks=['eeg'],\n",
      "<ipython-input-154-8c037cfb9b83>:30: RuntimeWarning: This filename (/Users/robert/Desktop/School/Grad/481c/seizure-classification/training/data_subset/dev/00008460_s001_t000_start_882.4634_end_1077.4320_type_seiz_eeg.fif) does not conform to MNE naming conventions. All raw files should end with raw.fif, raw_sss.fif, raw_tsss.fif, raw.fif.gz, raw_sss.fif.gz, raw_tsss.fif.gz or _meg.fif\n",
      "  raw_data.save(new_subset_name, picks=['eeg'],\n",
      "<ipython-input-154-8c037cfb9b83>:30: RuntimeWarning: This filename (/Users/robert/Desktop/School/Grad/481c/seizure-classification/training/data_subset/dev/00008460_s001_t000_start_1105.1400_end_1314.5314_type_seiz_eeg.fif) does not conform to MNE naming conventions. All raw files should end with raw.fif, raw_sss.fif, raw_tsss.fif, raw.fif.gz, raw_sss.fif.gz, raw_tsss.fif.gz or _meg.fif\n",
      "  raw_data.save(new_subset_name, picks=['eeg'],\n",
      "<ipython-input-154-8c037cfb9b83>:30: RuntimeWarning: This filename (/Users/robert/Desktop/School/Grad/481c/seizure-classification/training/data_subset/dev/00008460_s001_t000_start_1352.9600_end_1429.2600_type_seiz_eeg.fif) does not conform to MNE naming conventions. All raw files should end with raw.fif, raw_sss.fif, raw_tsss.fif, raw.fif.gz, raw_sss.fif.gz, raw_tsss.fif.gz or _meg.fif\n",
      "  raw_data.save(new_subset_name, picks=['eeg'],\n",
      "<ipython-input-154-8c037cfb9b83>:30: RuntimeWarning: This filename (/Users/robert/Desktop/School/Grad/481c/seizure-classification/training/data_subset/dev/00008460_s001_t000_start_1430.8960_end_1493.5096_type_seiz_eeg.fif) does not conform to MNE naming conventions. All raw files should end with raw.fif, raw_sss.fif, raw_tsss.fif, raw.fif.gz, raw_sss.fif.gz, raw_tsss.fif.gz or _meg.fif\n",
      "  raw_data.save(new_subset_name, picks=['eeg'],\n",
      "<ipython-input-154-8c037cfb9b83>:30: RuntimeWarning: This filename (/Users/robert/Desktop/School/Grad/481c/seizure-classification/training/data_subset/dev/00008460_s001_t000_start_1518.0477_end_1606.0000_type_seiz_eeg.fif) does not conform to MNE naming conventions. All raw files should end with raw.fif, raw_sss.fif, raw_tsss.fif, raw.fif.gz, raw_sss.fif.gz, raw_tsss.fif.gz or _meg.fif\n",
      "  raw_data.save(new_subset_name, picks=['eeg'],\n"
     ]
    },
    {
     "name": "stdout",
     "output_type": "stream",
     "text": [
      "Writing /Users/robert/Desktop/School/Grad/481c/seizure-classification/training/data_subset/dev/00008544_s006_t000_start_1.0000_end_198.8865_type_seiz_eeg.fif\n",
      "Closing /Users/robert/Desktop/School/Grad/481c/seizure-classification/training/data_subset/dev/00008544_s006_t000_start_1.0000_end_198.8865_type_seiz_eeg.fif\n",
      "[done]\n",
      "Writing /Users/robert/Desktop/School/Grad/481c/seizure-classification/training/data_subset/dev/00008544_s006_t000_start_387.5361_end_556.6289_type_seiz_eeg.fif\n",
      "Closing /Users/robert/Desktop/School/Grad/481c/seizure-classification/training/data_subset/dev/00008544_s006_t000_start_387.5361_end_556.6289_type_seiz_eeg.fif\n",
      "[done]\n",
      "Extracting EDF parameters from /Users/robert/eeg_data/edf/dev/01_tcp_ar/085/00008544/s006_2012_01_05/00008544_s006_t001.edf...\n",
      "EDF file detected\n",
      "Setting channel info structure...\n",
      "Creating raw.info structure...\n",
      "Reading 0 ... 223231  =      0.000 ...   871.996 secs...\n"
     ]
    },
    {
     "name": "stderr",
     "output_type": "stream",
     "text": [
      "<ipython-input-154-8c037cfb9b83>:30: RuntimeWarning: This filename (/Users/robert/Desktop/School/Grad/481c/seizure-classification/training/data_subset/dev/00008544_s006_t000_start_1.0000_end_198.8865_type_seiz_eeg.fif) does not conform to MNE naming conventions. All raw files should end with raw.fif, raw_sss.fif, raw_tsss.fif, raw.fif.gz, raw_sss.fif.gz, raw_tsss.fif.gz or _meg.fif\n",
      "  raw_data.save(new_subset_name, picks=['eeg'],\n",
      "<ipython-input-154-8c037cfb9b83>:30: RuntimeWarning: This filename (/Users/robert/Desktop/School/Grad/481c/seizure-classification/training/data_subset/dev/00008544_s006_t000_start_387.5361_end_556.6289_type_seiz_eeg.fif) does not conform to MNE naming conventions. All raw files should end with raw.fif, raw_sss.fif, raw_tsss.fif, raw.fif.gz, raw_sss.fif.gz, raw_tsss.fif.gz or _meg.fif\n",
      "  raw_data.save(new_subset_name, picks=['eeg'],\n"
     ]
    },
    {
     "name": "stdout",
     "output_type": "stream",
     "text": [
      "Writing /Users/robert/Desktop/School/Grad/481c/seizure-classification/training/data_subset/dev/00008544_s006_t001_start_2.0204_end_130.2229_type_seiz_eeg.fif\n",
      "Closing /Users/robert/Desktop/School/Grad/481c/seizure-classification/training/data_subset/dev/00008544_s006_t001_start_2.0204_end_130.2229_type_seiz_eeg.fif\n",
      "[done]\n",
      "Writing /Users/robert/Desktop/School/Grad/481c/seizure-classification/training/data_subset/dev/00008544_s006_t001_start_338.8331_end_503.1211_type_seiz_eeg.fif\n",
      "Closing /Users/robert/Desktop/School/Grad/481c/seizure-classification/training/data_subset/dev/00008544_s006_t001_start_338.8331_end_503.1211_type_seiz_eeg.fif\n",
      "[done]\n"
     ]
    },
    {
     "name": "stderr",
     "output_type": "stream",
     "text": [
      "<ipython-input-154-8c037cfb9b83>:30: RuntimeWarning: This filename (/Users/robert/Desktop/School/Grad/481c/seizure-classification/training/data_subset/dev/00008544_s006_t001_start_2.0204_end_130.2229_type_seiz_eeg.fif) does not conform to MNE naming conventions. All raw files should end with raw.fif, raw_sss.fif, raw_tsss.fif, raw.fif.gz, raw_sss.fif.gz, raw_tsss.fif.gz or _meg.fif\n",
      "  raw_data.save(new_subset_name, picks=['eeg'],\n",
      "<ipython-input-154-8c037cfb9b83>:30: RuntimeWarning: This filename (/Users/robert/Desktop/School/Grad/481c/seizure-classification/training/data_subset/dev/00008544_s006_t001_start_338.8331_end_503.1211_type_seiz_eeg.fif) does not conform to MNE naming conventions. All raw files should end with raw.fif, raw_sss.fif, raw_tsss.fif, raw.fif.gz, raw_sss.fif.gz, raw_tsss.fif.gz or _meg.fif\n",
      "  raw_data.save(new_subset_name, picks=['eeg'],\n",
      "<ipython-input-154-8c037cfb9b83>:30: RuntimeWarning: This filename (/Users/robert/Desktop/School/Grad/481c/seizure-classification/training/data_subset/dev/00008544_s006_t001_start_762.7709_end_870.0833_type_seiz_eeg.fif) does not conform to MNE naming conventions. All raw files should end with raw.fif, raw_sss.fif, raw_tsss.fif, raw.fif.gz, raw_sss.fif.gz, raw_tsss.fif.gz or _meg.fif\n",
      "  raw_data.save(new_subset_name, picks=['eeg'],\n"
     ]
    }
   ],
   "source": [
    "early_stop_counter_bckg = 0\n",
    "early_stop_counter_seiz = 0\n",
    "early_stop_value = 5\n",
    "for f in glob.glob(dev_path + '/**/*.edf', recursive=True):\n",
    "    if early_stop_counter_bckg >= early_stop_value and early_stop_counter_seiz >= early_stop_value:\n",
    "        break\n",
    "    file_name = f.split('/')[-1].split('.')[0]\n",
    "    if file_name in bckg_dev_dict.keys():\n",
    "        if early_stop_counter_bckg < early_stop_value:\n",
    "            times = bckg_dev_dict.get(file_name)\n",
    "            raw_data = read_raw_edf(f, preload=True)\n",
    "            for start_time, end_time in times:\n",
    "                early_stop_counter_bckg += 1\n",
    "                new_subset_name = os.path.join(dev_subset_dir, file_name + '_start_' \n",
    "                                               + start_time + '_end_' + end_time + '_type_' + 'bckg' + '_eeg.fif')\n",
    "                try:\n",
    "                    raw_data.save(new_subset_name, picks=['eeg'], \n",
    "                                  tmin=float(start_time), tmax=float(end_time), overwrite=True)\n",
    "                except ValueError:\n",
    "                    early_stop_counter_bckg -= 1\n",
    "    \n",
    "    if file_name in seiz_dev_dict.keys():\n",
    "        if early_stop_counter_seiz < early_stop_value:\n",
    "            times = seiz_dev_dict.get(file_name)\n",
    "            raw = read_raw_edf(f, preload=True)\n",
    "            for start_time, end_time in times:\n",
    "                early_stop_counter_seiz += 1\n",
    "                new_subset_name = os.path.join(dev_subset_dir, file_name + '_start_' \n",
    "                                               + start_time + '_end_' + end_time + '_type_' + 'seiz' + '_eeg.fif')\n",
    "                try:\n",
    "                    raw_data.save(new_subset_name, picks=['eeg'], \n",
    "                                  tmin=float(start_time), tmax=float(end_time), overwrite=True)\n",
    "                except ValueError:\n",
    "                    early_stop_counter_seiz -= 1"
   ]
  },
  {
   "cell_type": "code",
   "execution_count": 10,
   "metadata": {},
   "outputs": [],
   "source": [
    "import shutil"
   ]
  },
  {
   "cell_type": "code",
   "execution_count": 12,
   "metadata": {},
   "outputs": [],
   "source": [
    "## Move some example edf files to desktop\n",
    "output_dir_train = '/Users/robert/Desktop/train'\n",
    "output_dir_dev = '/Users/robert/Desktop/dev'\n",
    "early_stop_counter_bckg = 0\n",
    "early_stop_counter_seiz = 0\n",
    "early_stop_value = 5\n",
    "for f in glob.glob(dev_path + '/**/*.edf', recursive=True):\n",
    "    if early_stop_counter_bckg >= early_stop_value and early_stop_counter_seiz >= early_stop_value:\n",
    "        break\n",
    "    file_name = f.split('/')[-1].split('.')[0]\n",
    "    if file_name in bckg_dev_dict.keys():\n",
    "        if early_stop_counter_bckg < early_stop_value:\n",
    "            times = bckg_dev_dict.get(file_name)\n",
    "            str_times = ''\n",
    "            for start_time, end_time in times:\n",
    "                str_times += 'start:_' + start_time + '_end:_' + end_time + '_'\n",
    "                early_stop_counter_bckg += 1\n",
    "            shutil.copy2(f, os.path.join(output_dir_train, file_name + str_times + '_seiz'))\n",
    "    \n",
    "    if file_name in seiz_dev_dict.keys():\n",
    "        if early_stop_counter_seiz < early_stop_value:\n",
    "            times = seiz_dev_dict.get(file_name)\n",
    "            str_times = ''\n",
    "            for start_time, end_time in times:\n",
    "                str_times += 'start:_' + start_time + '_end:_' + end_time + '_'\n",
    "                early_stop_counter_seiz += 1\n",
    "            shutil.copy2(f, os.path.join(output_dir_train, file_name + str_times + '_bckg'))"
   ]
  },
  {
   "cell_type": "code",
   "execution_count": 152,
   "metadata": {},
   "outputs": [
    {
     "data": {
      "text/plain": [
       "549"
      ]
     },
     "execution_count": 152,
     "metadata": {},
     "output_type": "execute_result"
    }
   ],
   "source": [
    "early_stop_counter_seiz"
   ]
  },
  {
   "cell_type": "code",
   "execution_count": 158,
   "metadata": {},
   "outputs": [
    {
     "data": {
      "text/plain": [
       "'seiz'"
      ]
     },
     "execution_count": 158,
     "metadata": {},
     "output_type": "execute_result"
    }
   ],
   "source": [
    "'00008479_s002_t003_start_302.8639_end_311.2539_type_seiz_eeg.fif'.split('.')[-2].split('_')[-2]"
   ]
  },
  {
   "cell_type": "code",
   "execution_count": 106,
   "metadata": {},
   "outputs": [
    {
     "name": "stdout",
     "output_type": "stream",
     "text": [
      "[('0.0000', '601.0000')]\n"
     ]
    }
   ],
   "source": [
    "print(bckg_dict.get('00010418_s018_t008'))"
   ]
  },
  {
   "cell_type": "code",
   "execution_count": 82,
   "metadata": {},
   "outputs": [
    {
     "data": {
      "text/plain": [
       "('00005426_s010_t001', [('39.8525', '148.9950')])"
      ]
     },
     "execution_count": 82,
     "metadata": {},
     "output_type": "execute_result"
    }
   ],
   "source": [
    "seiz_dict.popitem()"
   ]
  },
  {
   "cell_type": "code",
   "execution_count": null,
   "metadata": {},
   "outputs": [],
   "source": [
    "bin_width = 10000\n",
    "bin_interval = 5000\n",
    "num_of_bins = math.floor(((edf_length - (bin_width / 1000)) * 1000)/bin_interval) + 1\n",
    "\n",
    "training_dict = {}\n",
    "\n",
    "raw = load_edf(filename)\n",
    "edf_length = get_edf_length(raw)\n",
    "\n",
    "# bin width is always a multiple of 1000, so no need to math floor\n",
    "# But do it anyway to get an int\n",
    "bin_width_s = math.floor(bin_width / 1000)\n",
    "bin_int_s = bin_interval / 1000\n",
    "# Prediction for each bin\n",
    "for i in range(num_of_bins):\n",
    "    # start of ith bin in milliseconds: i * bin_interval\n",
    "    # Of course there are 128 data points in a second\n",
    "    # So proper formula is i * bin_interval * 128/1000\n",
    "    # Round down\n",
    "    bin_start = math.floor(i * bin_int_s * 128)\n",
    "    # end of ith bin = start of bin + bin width\n",
    "    # Conversion: start of bin + (bin width * 128/1000)\n",
    "    bin_end = bin_start + (bin_width_s * 128)\n",
    "    curr_bin = prepr_edf_data[0:64, bin_start:bin_end]\n",
    "    # bin_width > 1, but model expects 1 second each\n",
    "    # Try passing batch of 1 sec\n",
    "    batched_bins = np.zeros((bin_width_s, 64, 128, 1))\n",
    "    # Make bin into batch of 1 second slices\n",
    "    # Model expecting 1 second (128 samples)\n",
    "    for j in range(bin_width_s):\n",
    "        batch_start = j * 128\n",
    "        batch_end = (j + 1) * 128\n",
    "        batched_bins[j] = curr_bin[0:64, batch_start:batch_end]\n",
    "\n",
    "    # See documentation: \n",
    "    # https://www.tensorflow.org/api_docs/python/tf/keras/Model#predict\n",
    "    # FYI: second argument is batch_size, default is 32\n",
    "    # prob = eeg_net.predict(batched_bins, bin_width_s)\n",
    "#     prob = mlp.predict(batched_bins, bin_width_s)\n",
    "    \n",
    "\n",
    "    # TODO: We are making 2nd class, seizure prob, make sure\n",
    "    # this is reflected when you train model\n",
    "    predictions = prob[0:bin_width_s, 1]\n",
    "\n",
    "    # Aggregate (Average) predictions for the batch\n",
    "    result = np.mean(predictions).astype(float)\n",
    "    results.append(result)\n",
    "    results_file.write(str(result) + \"\\n\")"
   ]
  },
  {
   "cell_type": "code",
   "execution_count": 14,
   "metadata": {},
   "outputs": [],
   "source": [
    "import keras\n",
    "from tensorflow.keras.models import Model\n",
    "from tensorflow.keras.layers import Dense, Activation, Dropout\n",
    "from tensorflow.keras.layers import Conv2D, AveragePooling2D\n",
    "from tensorflow.keras.layers import SeparableConv2D, DepthwiseConv2D\n",
    "from tensorflow.keras.layers import BatchNormalization\n",
    "from tensorflow.keras.layers import SpatialDropout2D\n",
    "from tensorflow.keras.layers import Input, Flatten"
   ]
  },
  {
   "cell_type": "code",
   "execution_count": 15,
   "metadata": {},
   "outputs": [],
   "source": [
    "def simple_binary_classifier(nb_classes, channels=64, samples=128) -> Model:\n",
    "    input_layer = Input(shape=(channels, samples, 1))\n",
    "    flatten = Flatten(name='flatten')(input_layer)\n",
    "    hidden = Dense(nb_classes, name='hidden')(flatten)\n",
    "    output = Dense(nb_classes, name='output')(hidden)\n",
    "    softmax = Activation('softmax', name='softmax')(output)\n",
    "    return Model(inputs=input_layer, outputs=softmax)"
   ]
  },
  {
   "cell_type": "code",
   "execution_count": 16,
   "metadata": {},
   "outputs": [],
   "source": [
    "## Test model prediction on known seizure file.\n",
    "# This file has seizures at these time points:\n",
    "# 00002297_s003_t001\n",
    "\n",
    "# start/_0.0000_end/_36.0700_\n",
    "\n",
    "# start/_85.1225_end/_123.9525_\n",
    "\n",
    "# start/_172.0575_end/_251.9850_\n",
    "\n",
    "# start/_309.0100_end/_328.0225_\n",
    "\n",
    "# start/_343.0575_end/_350.0325_\n",
    "\n",
    "# start/_412.9925_end/_464.0000\n",
    "\n",
    "# __seiz.edf\n",
    "\n",
    "model = simple_binary_classifier(nb_classes=2)"
   ]
  },
  {
   "cell_type": "code",
   "execution_count": 18,
   "metadata": {},
   "outputs": [],
   "source": [
    "model = keras.models.load_model('.')"
   ]
  },
  {
   "cell_type": "code",
   "execution_count": 169,
   "metadata": {},
   "outputs": [],
   "source": [
    "test_seiz_file = '/Users/robert/Desktop/train/00002297_s003_t001start:_0.0000_end:_36.0700_start:_85.1225_end:_123.9525_start:_172.0575_end:_251.9850_start:_309.0100_end:_328.0225_start:_343.0575_end:_350.0325_start:_412.9925_end:_464.0000__seiz.edf'"
   ]
  },
  {
   "cell_type": "code",
   "execution_count": 20,
   "metadata": {},
   "outputs": [],
   "source": [
    "import mne"
   ]
  },
  {
   "cell_type": "code",
   "execution_count": 170,
   "metadata": {},
   "outputs": [
    {
     "name": "stdout",
     "output_type": "stream",
     "text": [
      "Extracting EDF parameters from /Users/robert/Desktop/train/00002297_s003_t001start:_0.0000_end:_36.0700_start:_85.1225_end:_123.9525_start:_172.0575_end:_251.9850_start:_309.0100_end:_328.0225_start:_343.0575_end:_350.0325_start:_412.9925_end:_464.0000__seiz.edf...\n",
      "EDF file detected\n",
      "Setting channel info structure...\n",
      "Creating raw.info structure...\n",
      "Reading 0 ... 185599  =      0.000 ...   463.998 secs...\n"
     ]
    }
   ],
   "source": [
    "raw = mne.io.read_raw_edf(test_seiz_file, preload=True)"
   ]
  },
  {
   "cell_type": "code",
   "execution_count": 28,
   "metadata": {},
   "outputs": [],
   "source": [
    "import numpy as np"
   ]
  },
  {
   "cell_type": "code",
   "execution_count": 42,
   "metadata": {},
   "outputs": [
    {
     "data": {
      "text/plain": [
       "<KerasTensor: shape=(None, 64, 128, 1) dtype=float32 (created by layer 'input_3')>"
      ]
     },
     "execution_count": 42,
     "metadata": {},
     "output_type": "execute_result"
    }
   ],
   "source": [
    "model.input"
   ]
  },
  {
   "cell_type": "code",
   "execution_count": 107,
   "metadata": {},
   "outputs": [],
   "source": [
    "def preprocess_simple(raw: mne.io.edf.edf.RawEDF):\n",
    "    samp_freq = raw.info['sfreq']\n",
    "    nchannels = raw.info['nchan']\n",
    "    nyquist_freq = int(samp_freq / 2)\n",
    "    freqs = range(60, nyquist_freq, 60)\n",
    "    # Notch filter\n",
    "    raw = raw.notch_filter(freqs)\n",
    "    # Downsampling\n",
    "    raw = raw.resample(nyquist_freq)\n",
    "    raw_df = raw.to_data_frame(index='time')\n",
    "    num_samples = raw_df.shape[0]\n",
    "    if (nchannels > 64):\n",
    "        # pick only the first 64\n",
    "        raw_df = raw_df.iloc[:, 0:64]\n",
    "    else:\n",
    "        # Repeat the channels till we get 64\n",
    "        right_nchannels = np.zeros((64, num_samples))\n",
    "        num_reps = math.floor(64 / nchannels)\n",
    "        for i in range(num_reps):\n",
    "            start_ind = i * nchannels\n",
    "            end_ind = (i + 1) * nchannels\n",
    "            # Downsampled end index, for times when 64 isn't\n",
    "            # a multiple of nchannels\n",
    "            dend_ind = nchannels\n",
    "            if (end_ind > 64):\n",
    "                overflow = end_ind - 64\n",
    "                end_ind = 64\n",
    "                dend_ind = nchannels - overflow\n",
    "\n",
    "            right_nchannels[i * nchannels: (i+1) * nchannels] = raw_df.iloc[:, 0:dend_ind].transpose()\n",
    "        downsampled = right_nchannels\n",
    "\n",
    "    # Needs another reshaping to be 64 * (multiple of 128) * 1\n",
    "    return downsampled.reshape(64, num_samples, 1)"
   ]
  },
  {
   "cell_type": "code",
   "execution_count": 108,
   "metadata": {},
   "outputs": [
    {
     "name": "stdout",
     "output_type": "stream",
     "text": [
      "Extracting EDF parameters from /Users/robert/Desktop/train/00002297_s003_t001start:_0.0000_end:_36.0700_start:_85.1225_end:_123.9525_start:_172.0575_end:_251.9850_start:_309.0100_end:_328.0225_start:_343.0575_end:_350.0325_start:_412.9925_end:_464.0000__seiz.edf...\n",
      "EDF file detected\n",
      "Setting channel info structure...\n",
      "Creating raw.info structure...\n",
      "Reading 0 ... 185599  =      0.000 ...   463.998 secs...\n"
     ]
    }
   ],
   "source": [
    "raw = mne.io.read_raw_edf(test_seiz_file, preload=True)"
   ]
  },
  {
   "cell_type": "code",
   "execution_count": 109,
   "metadata": {},
   "outputs": [
    {
     "name": "stdout",
     "output_type": "stream",
     "text": [
      "Setting up band-stop filter\n",
      "\n",
      "FIR filter parameters\n",
      "---------------------\n",
      "Designing a one-pass, zero-phase, non-causal bandstop filter:\n",
      "- Windowed time-domain design (firwin) method\n",
      "- Hamming window with 0.0194 passband ripple and 53 dB stopband attenuation\n",
      "- Lower transition bandwidth: 0.50 Hz\n",
      "- Upper transition bandwidth: 0.50 Hz\n",
      "- Filter length: 2641 samples (6.603 sec)\n",
      "\n"
     ]
    }
   ],
   "source": [
    "processed_input = preprocess_simple(raw)"
   ]
  },
  {
   "cell_type": "code",
   "execution_count": 122,
   "metadata": {},
   "outputs": [
    {
     "data": {
      "text/plain": [
       "(64, 128, 1)"
      ]
     },
     "execution_count": 122,
     "metadata": {},
     "output_type": "execute_result"
    }
   ],
   "source": [
    "processed_input[:,0:128,:].shape"
   ]
  },
  {
   "cell_type": "code",
   "execution_count": 113,
   "metadata": {},
   "outputs": [],
   "source": [
    "num_seconds = processed_input.shape[1] / 128"
   ]
  },
  {
   "cell_type": "code",
   "execution_count": 115,
   "metadata": {},
   "outputs": [
    {
     "data": {
      "text/plain": [
       "725"
      ]
     },
     "execution_count": 115,
     "metadata": {},
     "output_type": "execute_result"
    }
   ],
   "source": [
    "int(num_seconds)"
   ]
  },
  {
   "cell_type": "code",
   "execution_count": 127,
   "metadata": {},
   "outputs": [],
   "source": [
    "import tensorflow as tf"
   ]
  },
  {
   "cell_type": "code",
   "execution_count": 128,
   "metadata": {},
   "outputs": [],
   "source": [
    "test_tensor=tf.convert_to_tensor(processed_input[:, 0:128,:])"
   ]
  },
  {
   "cell_type": "code",
   "execution_count": 138,
   "metadata": {},
   "outputs": [
    {
     "data": {
      "text/plain": [
       "<tf.Tensor: shape=(1, 64, 128, 1), dtype=float64, numpy=\n",
       "array([[[[-15.26435307],\n",
       "         [-16.1160159 ],\n",
       "         [ -9.01154901],\n",
       "         ...,\n",
       "         [ -1.00182313],\n",
       "         [ -8.98717361],\n",
       "         [-15.63158463]],\n",
       "\n",
       "        [[-18.8892125 ],\n",
       "         [-19.90151828],\n",
       "         [-23.17111738],\n",
       "         ...,\n",
       "         [ -9.20097722],\n",
       "         [ -5.89911849],\n",
       "         [-20.02175558]],\n",
       "\n",
       "        [[-17.09398973],\n",
       "         [  7.05097046],\n",
       "         [ -5.57320324],\n",
       "         ...,\n",
       "         [  6.08266514],\n",
       "         [ -4.29519078],\n",
       "         [ -4.81812247]],\n",
       "\n",
       "        ...,\n",
       "\n",
       "        [[ 77.40467305],\n",
       "         [-30.38523632],\n",
       "         [-83.51282317],\n",
       "         ...,\n",
       "         [-25.5274739 ],\n",
       "         [-11.18469777],\n",
       "         [  0.33092458]],\n",
       "\n",
       "        [[ 82.79525231],\n",
       "         [-33.57266637],\n",
       "         [-88.50405299],\n",
       "         ...,\n",
       "         [-20.97503729],\n",
       "         [ -3.37774183],\n",
       "         [  2.00649644]],\n",
       "\n",
       "        [[ 84.60704481],\n",
       "         [-33.53398633],\n",
       "         [-82.16511389],\n",
       "         ...,\n",
       "         [-22.97829852],\n",
       "         [-11.33728438],\n",
       "         [  0.49150801]]]])>"
      ]
     },
     "execution_count": 138,
     "metadata": {},
     "output_type": "execute_result"
    }
   ],
   "source": [
    "tf.reshape(test_tensor, (-1, 64, 128, 1))"
   ]
  },
  {
   "cell_type": "code",
   "execution_count": 172,
   "metadata": {},
   "outputs": [
    {
     "name": "stdout",
     "output_type": "stream",
     "text": [
      ".DS_Store\n",
      "00002297_s003_t001start:_0.0000_end:_36.0700_start:_85.1225_end:_123.9525_start:_172.0575_end:_251.9850_start:_309.0100_end:_328.0225_start:_343.0575_end:_350.0325_start:_412.9925_end:_464.0000__seiz.edf\n",
      "00002297_s003_t001start:_36.0700_end:_85.1225_start:_123.9525_end:_172.0575_start:_251.9850_end:_309.0100_start:_328.0225_end:_343.0575_start:_350.0325_end:_412.9925__bckg.edf\n"
     ]
    }
   ],
   "source": [
    "dirs = os.listdir('/Users/robert/Desktop/train/')\n",
    "\n",
    "# This would print all the files and directories\n",
    "for file in dirs:\n",
    "    print(file)"
   ]
  },
  {
   "cell_type": "code",
   "execution_count": 174,
   "metadata": {},
   "outputs": [
    {
     "name": "stdout",
     "output_type": "stream",
     "text": [
      "Extracting EDF parameters from /Users/robert/Desktop/train/00002297_s003_t001start:_36.0700_end:_85.1225_start:_123.9525_end:_172.0575_start:_251.9850_end:_309.0100_start:_328.0225_end:_343.0575_start:_350.0325_end:_412.9925__bckg.edf...\n",
      "EDF file detected\n",
      "Setting channel info structure...\n",
      "Creating raw.info structure...\n",
      "Reading 0 ... 185599  =      0.000 ...   463.998 secs...\n",
      "Setting up band-stop filter\n",
      "\n",
      "FIR filter parameters\n",
      "---------------------\n",
      "Designing a one-pass, zero-phase, non-causal bandstop filter:\n",
      "- Windowed time-domain design (firwin) method\n",
      "- Hamming window with 0.0194 passband ripple and 53 dB stopband attenuation\n",
      "- Lower transition bandwidth: 0.50 Hz\n",
      "- Upper transition bandwidth: 0.50 Hz\n",
      "- Filter length: 2641 samples (6.603 sec)\n",
      "\n"
     ]
    }
   ],
   "source": [
    "raw = mne.io.read_raw_edf('/Users/robert/Desktop/train/00002297_s003_t001start:_36.0700_end:_85.1225_start:_123.9525_end:_172.0575_start:_251.9850_end:_309.0100_start:_328.0225_end:_343.0575_start:_350.0325_end:_412.9925__bckg.edf', preload=True)\n",
    "processed_input = preprocess_simple(raw)"
   ]
  },
  {
   "cell_type": "code",
   "execution_count": 162,
   "metadata": {},
   "outputs": [],
   "source": [
    "import pickle\n",
    "import math"
   ]
  },
  {
   "cell_type": "code",
   "execution_count": 144,
   "metadata": {},
   "outputs": [],
   "source": [
    "nb_model = pickle.load(open('nb_model.sav', 'rb'))"
   ]
  },
  {
   "cell_type": "code",
   "execution_count": 160,
   "metadata": {},
   "outputs": [],
   "source": [
    "scalerfile = 'scaler.sav'\n",
    "scaler = pickle.load(open(scalerfile, 'rb'))"
   ]
  },
  {
   "cell_type": "code",
   "execution_count": 176,
   "metadata": {},
   "outputs": [
    {
     "name": "stdout",
     "output_type": "stream",
     "text": [
      "[[-15.26435307 -16.1160159   -9.01154901 ...  -4.05607114  15.41696436\n",
      "  -20.90807884]\n",
      " [-18.8892125  -19.90151828 -23.17111738 ... -10.67182682   4.66350386\n",
      "    8.47943746]\n",
      " [-17.09398973   7.05097046  -5.57320324 ...   5.81925384   1.77750059\n",
      "   -6.56948547]\n",
      " ...\n",
      " [ 77.40467305 -30.38523632 -83.51282317 ...  -6.63231615 -14.64448183\n",
      "  -14.75638078]\n",
      " [ 82.79525231 -33.57266637 -88.50405299 ... -12.090962    -8.96178723\n",
      "  -17.63018816]\n",
      " [ 84.60704481 -33.53398633 -82.16511389 ...  -5.15218976 -10.07019427\n",
      "  -10.59694285]]\n",
      "[[-0.02741627 -0.03748     0.00252704 ...  0.05364711  0.17282025\n",
      "  -0.05188875]\n",
      " [-0.04953552 -0.06071171 -0.08599204 ...  0.01285368  0.10656805\n",
      "   0.12738585]\n",
      " [-0.03858089  0.10469632  0.02402199 ...  0.11453939  0.08878735\n",
      "   0.03558191]\n",
      " ...\n",
      " [ 0.53805928 -0.12505052 -0.46322054 ...  0.03776172 -0.01238867\n",
      "  -0.01436114]\n",
      " [ 0.57095313 -0.14461185 -0.49442341 ...  0.00410314  0.02262248\n",
      "  -0.03189242]\n",
      " [ 0.58200887 -0.14437447 -0.45479529 ...  0.04688833  0.01579357\n",
      "   0.01101295]]\n",
      "time: 0 prediction: 1.4626043381261068e-115\n"
     ]
    }
   ],
   "source": [
    "for time_idx in range(int(processed_input.shape[1] / 178)):\n",
    "    start_idx = time_idx * 178\n",
    "    end_idx = start_idx + 178\n",
    "    curr_batch = processed_input[:, start_idx:end_idx, :]\n",
    "#     print(curr_batch.shape)\n",
    "    curr_batch = np.squeeze(curr_batch, -1)\n",
    "#     print(curr_batch.shape)\n",
    "    print(curr_batch)\n",
    "    curr_batch = scaler.transform(curr_batch)\n",
    "    print(curr_batch)\n",
    "    prediction = nb_model.predict_proba(curr_batch)[:,1]\n",
    "    print('time:', time_idx, 'prediction:', np.mean(prediction))\n",
    "    break"
   ]
  },
  {
   "cell_type": "code",
   "execution_count": null,
   "metadata": {},
   "outputs": [],
   "source": [
    "tf.reshape((-1,))"
   ]
  },
  {
   "cell_type": "code",
   "execution_count": null,
   "metadata": {},
   "outputs": [],
   "source": []
  },
  {
   "cell_type": "code",
   "execution_count": null,
   "metadata": {},
   "outputs": [],
   "source": []
  },
  {
   "cell_type": "code",
   "execution_count": null,
   "metadata": {},
   "outputs": [],
   "source": []
  },
  {
   "cell_type": "code",
   "execution_count": 75,
   "metadata": {},
   "outputs": [
    {
     "name": "stdout",
     "output_type": "stream",
     "text": [
      "Setting up band-stop filter\n",
      "\n",
      "FIR filter parameters\n",
      "---------------------\n",
      "Designing a one-pass, zero-phase, non-causal bandstop filter:\n",
      "- Windowed time-domain design (firwin) method\n",
      "- Hamming window with 0.0194 passband ripple and 53 dB stopband attenuation\n",
      "- Lower transition bandwidth: 0.50 Hz\n",
      "- Upper transition bandwidth: 0.50 Hz\n",
      "- Filter length: 2641 samples (6.603 sec)\n",
      "\n"
     ]
    }
   ],
   "source": [
    "raw = raw.notch_filter(np.arange(60, 200, 60))"
   ]
  },
  {
   "cell_type": "code",
   "execution_count": 94,
   "metadata": {},
   "outputs": [],
   "source": [
    "raw_df = raw.to_data_frame(index='time')"
   ]
  },
  {
   "cell_type": "code",
   "execution_count": 95,
   "metadata": {},
   "outputs": [
    {
     "data": {
      "text/plain": [
       "(185600, 32)"
      ]
     },
     "execution_count": 95,
     "metadata": {},
     "output_type": "execute_result"
    }
   ],
   "source": [
    "raw_df.shape"
   ]
  },
  {
   "cell_type": "code",
   "execution_count": 98,
   "metadata": {},
   "outputs": [
    {
     "data": {
      "text/plain": [
       "time\n",
       "0     -15.286270\n",
       "2     -15.651880\n",
       "5     -15.332563\n",
       "8     -13.712253\n",
       "10    -11.514841\n",
       "         ...    \n",
       "308    -8.472839\n",
       "310   -14.199593\n",
       "312   -11.262648\n",
       "315    -5.189014\n",
       "318   -22.275065\n",
       "Name: EEG FP1-REF, Length: 128, dtype: float64"
      ]
     },
     "execution_count": 98,
     "metadata": {},
     "output_type": "execute_result"
    }
   ],
   "source": [
    "raw_df.iloc[0:128, 0]"
   ]
  },
  {
   "cell_type": "raw",
   "metadata": {},
   "source": []
  },
  {
   "cell_type": "code",
   "execution_count": 93,
   "metadata": {},
   "outputs": [
    {
     "data": {
      "text/plain": [
       "32"
      ]
     },
     "execution_count": 93,
     "metadata": {},
     "output_type": "execute_result"
    }
   ],
   "source": [
    "raw.info['nchan']"
   ]
  },
  {
   "cell_type": "code",
   "execution_count": 90,
   "metadata": {},
   "outputs": [
    {
     "data": {
      "text/plain": [
       "0     -15.286270\n",
       "1     -15.651880\n",
       "2     -15.332563\n",
       "3     -13.712253\n",
       "4     -11.514841\n",
       "         ...    \n",
       "123    -8.472839\n",
       "124   -14.199593\n",
       "125   -11.262648\n",
       "126    -5.189014\n",
       "127   -22.275065\n",
       "Name: EEG FP1-REF, Length: 128, dtype: float64"
      ]
     },
     "execution_count": 90,
     "metadata": {},
     "output_type": "execute_result"
    }
   ],
   "source": [
    "raw_df.iloc[0:128, 1]"
   ]
  }
 ],
 "metadata": {
  "kernelspec": {
   "display_name": "Python 3",
   "language": "python",
   "name": "python3"
  },
  "language_info": {
   "codemirror_mode": {
    "name": "ipython",
    "version": 3
   },
   "file_extension": ".py",
   "mimetype": "text/x-python",
   "name": "python",
   "nbconvert_exporter": "python",
   "pygments_lexer": "ipython3",
   "version": "3.8.5"
  }
 },
 "nbformat": 4,
 "nbformat_minor": 4
}
